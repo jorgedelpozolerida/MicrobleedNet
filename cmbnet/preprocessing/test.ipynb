{
 "cells": [
  {
   "cell_type": "code",
   "execution_count": 10,
   "metadata": {},
   "outputs": [],
   "source": [
    "import radiomics as rad\n",
    "import nibabel as nib\n",
    "import SimpleITK as sitk\n",
    "import numpy as np"
   ]
  },
  {
   "cell_type": "code",
   "execution_count": 6,
   "metadata": {},
   "outputs": [],
   "source": [
    "im = nib.load(\"/home/cerebriu/data/datasets/processed_final/cmb_dou/Data/DOU-01-CMB-1/Annotations/DOU-01-CMB-1.nii.gz\")\n",
    "mri = nib.load(\"/home/cerebriu/data/datasets/processed_final/cmb_dou/Data/DOU-01-CMB-1/MRIs/DOU-01-CMB-1.nii.gz\")"
   ]
  },
  {
   "cell_type": "code",
   "execution_count": 7,
   "metadata": {},
   "outputs": [],
   "source": [
    "im_Data = im.get_fdata()\n",
    "mri_Data = mri.get_fdata()"
   ]
  },
  {
   "cell_type": "code",
   "execution_count": 15,
   "metadata": {},
   "outputs": [],
   "source": [
    "from radiomics import featureextractor\n",
    "import SimpleITK as sitk\n",
    "\n",
    "# Convert Numpy arrays to SimpleITK images (if not loading from files)\n",
    "image_sitk = sitk.GetImageFromArray(mri_Data)\n",
    "mask_sitk = sitk.GetImageFromArray(im_Data.astype(np.uint8))\n",
    "\n",
    "# Set up the PyRadiomics feature extractor\n",
    "params = {}\n",
    "params['label'] = 1  # Label of interest\n",
    "params['calculateAllShapeFeatures'] = True  # Calculating all shape features\n",
    "\n",
    "extractor = rad.featureextractor.RadiomicsFeatureExtractor(**params)\n",
    "extractor.enableFeatureClassByName('shape')  # Enable shape features only for speed\n",
    "\n",
    "# Extract features\n",
    "result = extractor.execute(image_sitk, mask_sitk)\n",
    "\n",
    "# Access the sphericity\n",
    "sphericity = result.get('original_shape_Sphericity')\n",
    "print('Sphericity:', sphericity)\n"
   ]
  },
  {
   "cell_type": "code",
   "execution_count": 18,
   "metadata": {},
   "outputs": [],
   "source": [
    "def calculate_sphericity(mri_data, mask_data):\n",
    "    \"\"\"\n",
    "    Calculate the sphericity of an object in a binary mask using PyRadiomics.\n",
    "\n",
    "    Args:\n",
    "        mri_data (numpy.ndarray): The MRI data array (can be a dummy array if not used).\n",
    "        mask_data (numpy.ndarray): The binary mask array where the object is labeled with 1.\n",
    "\n",
    "    Returns:\n",
    "        float or None: The sphericity of the object, or None if sphericity cannot be computed.\n",
    "    \"\"\"\n",
    "    # Convert numpy arrays to SimpleITK images\n",
    "    image_sitk = sitk.GetImageFromArray(mri_data)\n",
    "    mask_sitk = sitk.GetImageFromArray(mask_data.astype(np.uint8))  # Ensure mask is in correct data type\n",
    "\n",
    "    # Set up the PyRadiomics feature extractor with specific parameters\n",
    "    params = {\n",
    "        'label': 1,  # Assuming the object of interest is labeled as 1 in the mask\n",
    "        'calculateAllShapeFeatures': True\n",
    "    }\n",
    "    extractor = featureextractor.RadiomicsFeatureExtractor(**params)\n",
    "    extractor.enableFeatureClassByName('shape')  # Enable only shape features to reduce computation time\n",
    "\n",
    "    # Extract features\n",
    "    result = extractor.execute(image_sitk, mask_sitk)\n",
    "\n",
    "    # Retrieve and return the sphericity\n",
    "    sphericity = result.get('original_shape_Sphericity')\n",
    "    if sphericity is not None:\n",
    "        return float(sphericity)\n",
    "    else:\n",
    "        return None"
   ]
  },
  {
   "cell_type": "code",
   "execution_count": 19,
   "metadata": {},
   "outputs": [
    {
     "name": "stderr",
     "output_type": "stream",
     "text": [
      "GLCM is symmetrical, therefore Sum Average = 2 * Joint Average, only 1 needs to be calculated\n"
     ]
    },
    {
     "data": {
      "text/plain": [
       "0.8049652603910995"
      ]
     },
     "execution_count": 19,
     "metadata": {},
     "output_type": "execute_result"
    }
   ],
   "source": [
    "calculate_sphericity(mri_Data, im_Data)"
   ]
  },
  {
   "cell_type": "code",
   "execution_count": 14,
   "metadata": {},
   "outputs": [
    {
     "name": "stdout",
     "output_type": "stream",
     "text": [
      "()\n"
     ]
    }
   ],
   "source": [
    "print((sphericity.shape))\n"
   ]
  },
  {
   "cell_type": "code",
   "execution_count": 34,
   "metadata": {},
   "outputs": [],
   "source": [
    "def calculate_radiomics_features(mri_data, mask_data):\n",
    "    \"\"\"\n",
    "    Calculate a comprehensive set of radiomics features for an object in a binary mask using PyRadiomics.\n",
    "\n",
    "    Args:\n",
    "        mri_data (numpy.ndarray): The MRI data array.\n",
    "        mask_data (numpy.ndarray): The binary mask array where the object is labeled with 1.\n",
    "\n",
    "    Returns:\n",
    "        dict: A dictionary containing various radiomics features.\n",
    "    \"\"\"\n",
    "    # Convert numpy arrays to SimpleITK images\n",
    "    image_sitk = sitk.GetImageFromArray(mri_data)\n",
    "    mask_sitk = sitk.GetImageFromArray(mask_data.astype(np.uint8))  # Ensure mask is in correct data type\n",
    "\n",
    "    unique_labels = np.unique(mask_data)\n",
    "    assert len(unique_labels) == 2 and 0 in unique_labels and 1 in unique_labels, 'Mask must be binary'\n",
    "\n",
    "    # Set up the PyRadiomics feature extractor with specific parameters\n",
    "    settings = {\n",
    "        'binWidth': 25,\n",
    "        'resampledPixelSpacing': None,\n",
    "        'interpolator': sitk.sitkBSpline,\n",
    "        'enableCExtensions': True\n",
    "    }\n",
    "\n",
    "    # Set up the parameters for PyRadiomics to extract all features\n",
    "    params = {\n",
    "        'label': 1,  # Assuming the object of interest is labeled as 1 in the mask\n",
    "        'calculateAllShapeFeatures': True,\n",
    "        'calculateAllFirstOrderFeatures': True,\n",
    "        'calculateAllGLCMFeatures': True,\n",
    "        'calculateAllGLRLMFeatures': True,\n",
    "        'calculateAllGLSZMFeatures': True,\n",
    "        'calculateAllGLDMFeatures': True,\n",
    "        'calculateAllNGTDMFeatures': True\n",
    "    }\n",
    "\n",
    "    extractor = featureextractor.RadiomicsFeatureExtractor(**settings)\n",
    "    extractor.enableAllFeatures()  # You can specify certain features classes if needed\n",
    "\n",
    "    # Extract features\n",
    "    result = extractor.execute(image_sitk, mask_sitk)\n",
    "\n",
    "    # Convert the result to a clean dictionary\n",
    "    features_dict = {key: result[key] for key in result.keys()}\n",
    "\n",
    "    return features_dict"
   ]
  },
  {
   "cell_type": "code",
   "execution_count": 35,
   "metadata": {},
   "outputs": [
    {
     "ename": "AttributeError",
     "evalue": "'RadiomicsFeatureExtractor' object has no attribute 'updateParams'",
     "output_type": "error",
     "traceback": [
      "\u001b[0;31m---------------------------------------------------------------------------\u001b[0m",
      "\u001b[0;31mAttributeError\u001b[0m                            Traceback (most recent call last)",
      "Cell \u001b[0;32mIn[35], line 1\u001b[0m\n\u001b[0;32m----> 1\u001b[0m radiomics_features \u001b[38;5;241m=\u001b[39m \u001b[43mcalculate_features\u001b[49m\u001b[43m(\u001b[49m\u001b[43mmri_Data\u001b[49m\u001b[43m,\u001b[49m\u001b[43m \u001b[49m\u001b[43mim_Data\u001b[49m\u001b[43m,\u001b[49m\u001b[43m \u001b[49m\u001b[38;5;241;43m1\u001b[39;49m\u001b[43m)\u001b[49m\n",
      "Cell \u001b[0;32mIn[34], line 22\u001b[0m, in \u001b[0;36mcalculate_features\u001b[0;34m(mri_data, mask_data, label)\u001b[0m\n\u001b[1;32m     15\u001b[0m params \u001b[38;5;241m=\u001b[39m {\n\u001b[1;32m     16\u001b[0m     \u001b[38;5;124m'\u001b[39m\u001b[38;5;124mlabel\u001b[39m\u001b[38;5;124m'\u001b[39m: label,  \u001b[38;5;66;03m# Specify the label to analyze\u001b[39;00m\n\u001b[1;32m     17\u001b[0m     \u001b[38;5;124m'\u001b[39m\u001b[38;5;124mcalculateAllShapeFeatures\u001b[39m\u001b[38;5;124m'\u001b[39m: \u001b[38;5;28;01mTrue\u001b[39;00m,\n\u001b[1;32m     18\u001b[0m     \u001b[38;5;124m'\u001b[39m\u001b[38;5;124mcalculateAllFirstOrderFeatures\u001b[39m\u001b[38;5;124m'\u001b[39m: \u001b[38;5;28;01mTrue\u001b[39;00m\n\u001b[1;32m     19\u001b[0m }\n\u001b[1;32m     21\u001b[0m extractor \u001b[38;5;241m=\u001b[39m featureextractor\u001b[38;5;241m.\u001b[39mRadiomicsFeatureExtractor(\u001b[38;5;241m*\u001b[39m\u001b[38;5;241m*\u001b[39msettings)\n\u001b[0;32m---> 22\u001b[0m \u001b[43mextractor\u001b[49m\u001b[38;5;241;43m.\u001b[39;49m\u001b[43mupdateParams\u001b[49m(\u001b[38;5;241m*\u001b[39m\u001b[38;5;241m*\u001b[39mparams)\n\u001b[1;32m     23\u001b[0m result \u001b[38;5;241m=\u001b[39m extractor\u001b[38;5;241m.\u001b[39mexecute(image_sitk, mask_sitk)\n\u001b[1;32m     25\u001b[0m features \u001b[38;5;241m=\u001b[39m {key: result[key] \u001b[38;5;28;01mfor\u001b[39;00m key \u001b[38;5;129;01min\u001b[39;00m result\u001b[38;5;241m.\u001b[39mkeys() \u001b[38;5;28;01mif\u001b[39;00m \u001b[38;5;124m'\u001b[39m\u001b[38;5;124moriginal\u001b[39m\u001b[38;5;124m'\u001b[39m \u001b[38;5;129;01min\u001b[39;00m key}\n",
      "\u001b[0;31mAttributeError\u001b[0m: 'RadiomicsFeatureExtractor' object has no attribute 'updateParams'"
     ]
    }
   ],
   "source": [
    "radiomics_features = calculate_features(mri_Data, im_Data, 1)"
   ]
  },
  {
   "cell_type": "code",
   "execution_count": null,
   "metadata": {},
   "outputs": [],
   "source": [
    "# Print results\n",
    "print(\"Extracted Radiomics Features:\")\n",
    "for feature, value in radiomics_features.items():\n",
    "    print(f\"{feature}: {value}\")\n"
   ]
  }
 ],
 "metadata": {
  "kernelspec": {
   "display_name": "venv_cerebriu",
   "language": "python",
   "name": "python3"
  },
  "language_info": {
   "codemirror_mode": {
    "name": "ipython",
    "version": 3
   },
   "file_extension": ".py",
   "mimetype": "text/x-python",
   "name": "python",
   "nbconvert_exporter": "python",
   "pygments_lexer": "ipython3",
   "version": "3.10.12"
  }
 },
 "nbformat": 4,
 "nbformat_minor": 2
}
