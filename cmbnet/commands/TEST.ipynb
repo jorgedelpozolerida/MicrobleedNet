{
 "cells": [
  {
   "cell_type": "code",
   "execution_count": 1,
   "metadata": {},
   "outputs": [],
   "source": [
    "import os \n",
    "import glob\n",
    "import json"
   ]
  },
  {
   "cell_type": "code",
   "execution_count": 3,
   "metadata": {},
   "outputs": [
    {
     "data": {
      "text/plain": [
       "['CRB-1.2.826.1.3680043.9.5282.150415.34194.3419422232714-CMB-18',\n",
       " 'CRB-1.3.12.2.1107.5.2.6.24111.30000019082703511493700000001-CMB-5',\n",
       " 'CRB-cd562073a877df14df5a16f1aea5d709de641b24-CMB-1',\n",
       " 'CRB-1.2.826.1.3680043.9.5282.150415.35985.3598522192214-CMB-1',\n",
       " 'CRB-1.2.826.1.3680043.9.5282.150415.178.178232327158-CMB-1',\n",
       " 'CRB-1.2.840.113845.13.14537.872975378.3343495815236-CMB-3',\n",
       " 'CRB-1.2.826.1.3680043.9.5282.150415.14832.16014832222376-CMB-12',\n",
       " 'CRB-1.2.826.1.3680043.9.5282.150415.25794.2579422232752-CMB-2',\n",
       " 'CRB-1.3.12.2.1107.5.2.6.24111.30000019082703511493700000040-CMB-11',\n",
       " 'CRB-1.2.826.1.3680043.9.5282.150415.24477.2447722188652-CMB-2',\n",
       " 'CRB-1.2.826.1.3680043.9.5282.150415.37517.3751722232714-CMB-1',\n",
       " 'CRB-42a2a5865709f9ddc47da60a1556f09552586685-CMB-6',\n",
       " 'CRB-1.2.840.113845.11.1000000001815528930.20201010223701.3603014-CMB-4',\n",
       " 'CRB-1.2.840.113845.13.13849.872975378.634767293118-CMB-29',\n",
       " 'CRB-1.3.12.2.1107.5.2.6.24111.30000019082104124198400000049-CMB-2',\n",
       " 'CRB-1.2.826.1.3680043.9.5282.150415.34242.3424222232714-CMB-12',\n",
       " 'CRB-1.2.826.1.3680043.9.5282.150415.650.650232327158-CMB-13',\n",
       " 'CRB-1.3.12.2.1107.5.2.6.24111.30000019082104124198400000043-CMB-4']"
      ]
     },
     "execution_count": 3,
     "metadata": {},
     "output_type": "execute_result"
    }
   ],
   "source": [
    "studies = os.listdir(\"/storage/evo1/jorge/datasets/cmb/cmb_crb/Data\")\n",
    "studies"
   ]
  },
  {
   "cell_type": "code",
   "execution_count": 4,
   "metadata": {},
   "outputs": [],
   "source": [
    "splits_dict = {\n",
    "    \"train\": [],\n",
    "    \"valid\": [],\n",
    "    \"test\": studies\n",
    "}"
   ]
  },
  {
   "cell_type": "code",
   "execution_count": 5,
   "metadata": {},
   "outputs": [],
   "source": [
    "json_object = json.dumps(splits_dict, indent=4)\n",
    "\n",
    "with open(\"/storage/evo1/jorge/datasets/cmb/cmb_crb/Data/splits.json\", 'w') as f:\n",
    "    f.write(json_object)"
   ]
  }
 ],
 "metadata": {
  "kernelspec": {
   "display_name": "crbr",
   "language": "python",
   "name": "python3"
  },
  "language_info": {
   "codemirror_mode": {
    "name": "ipython",
    "version": 3
   },
   "file_extension": ".py",
   "mimetype": "text/x-python",
   "name": "python",
   "nbconvert_exporter": "python",
   "pygments_lexer": "ipython3",
   "version": "3.11.3"
  }
 },
 "nbformat": 4,
 "nbformat_minor": 2
}
