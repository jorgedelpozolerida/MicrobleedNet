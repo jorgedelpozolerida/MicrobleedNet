{
 "cells": [
  {
   "cell_type": "code",
   "execution_count": 1,
   "metadata": {},
   "outputs": [
    {
     "data": {
      "text/html": [
       "<pre style=\"white-space:pre;overflow-x:auto;line-height:normal;font-family:Menlo,'DejaVu Sans Mono',consolas,'Courier New',monospace\"><span style=\"color: #7fbfbf; text-decoration-color: #7fbfbf\">[02/01/24 13:32:12] </span><span style=\"color: #800000; text-decoration-color: #800000\">WARNING </span> Applying nest-asyncio to a running event loop, this likely means you're in a jupyter  \n",
       "<span style=\"color: #7fbfbf; text-decoration-color: #7fbfbf\">                    </span>         notebook and you can safely ignore this.                                              \n",
       "</pre>\n"
      ],
      "text/plain": [
       "\u001b[2;36m[02/01/24 13:32:12]\u001b[0m\u001b[2;36m \u001b[0m\u001b[31mWARNING \u001b[0m Applying nest-asyncio to a running event loop, this likely means you're in a jupyter  \n",
       "\u001b[2;36m                    \u001b[0m         notebook and you can safely ignore this.                                              \n"
      ]
     },
     "metadata": {},
     "output_type": "display_data"
    },
    {
     "name": "stderr",
     "output_type": "stream",
     "text": [
      "INFO:utils_redbrick:Redbrick  sdk version: 2.15.1\n"
     ]
    }
   ],
   "source": [
    "import os\n",
    "import nibabel as nib\n",
    "import sys\n",
    "import redbrick\n",
    "import glob\n",
    "\n",
    "sys.path.append(\"/home/cerebriu/data/DM/data-management/redbrick/\")\n",
    "\n",
    "import utils_redbrick as rb_utils\n",
    "\n",
    "project_id = \"c289b8f2-c9ff-49da-86d4-c8e4dea6c092\"\n",
    "destination_dir = \"/home/cerebriu/data/datasets/raw/CEREBRIU_cmb\"\n",
    "withfile_flag = True\n",
    "project = rb_utils.initialize_project(project_id=project_id)"
   ]
  },
  {
   "cell_type": "code",
   "execution_count": 2,
   "metadata": {},
   "outputs": [],
   "source": [
    "def export_taskid(task, project, destination_dir, withfile_flag):\n",
    "    return project.export.export_tasks(only_ground_truth = False, \n",
    "                                        task_id = task, \n",
    "                                        destination=destination_dir,\n",
    "                                        with_files=withfile_flag)"
   ]
  },
  {
   "cell_type": "code",
   "execution_count": 3,
   "metadata": {},
   "outputs": [
    {
     "data": {
      "text/plain": [
       "'Cerebral Microbleeds (CMBs)'"
      ]
     },
     "execution_count": 3,
     "metadata": {},
     "output_type": "execute_result"
    }
   ],
   "source": [
    "project.name"
   ]
  },
  {
   "cell_type": "code",
   "execution_count": 4,
   "metadata": {},
   "outputs": [
    {
     "data": {
      "text/html": [
       "<div>\n",
       "<style scoped>\n",
       "    .dataframe tbody tr th:only-of-type {\n",
       "        vertical-align: middle;\n",
       "    }\n",
       "\n",
       "    .dataframe tbody tr th {\n",
       "        vertical-align: top;\n",
       "    }\n",
       "\n",
       "    .dataframe thead th {\n",
       "        text-align: right;\n",
       "    }\n",
       "</style>\n",
       "<table border=\"1\" class=\"dataframe\">\n",
       "  <thead>\n",
       "    <tr style=\"text-align: right;\">\n",
       "      <th></th>\n",
       "      <th>taskId</th>\n",
       "      <th>name</th>\n",
       "      <th>createdAt</th>\n",
       "      <th>currentStageName</th>\n",
       "      <th>assignees</th>\n",
       "      <th>priority</th>\n",
       "    </tr>\n",
       "  </thead>\n",
       "  <tbody>\n",
       "    <tr>\n",
       "      <th>0</th>\n",
       "      <td>2e2f0a36-2cdc-4c5a-9ba4-6d9907162ee6</td>\n",
       "      <td>1.2.840.113845.13.14537.872975378.3343495815236</td>\n",
       "      <td>2023-11-09 15:51:31.026857+00:00</td>\n",
       "      <td>Review_1</td>\n",
       "      <td>[{'user': 'jl@cerebriu.com', 'status': 'SKIPPE...</td>\n",
       "      <td>0.971014</td>\n",
       "    </tr>\n",
       "    <tr>\n",
       "      <th>1</th>\n",
       "      <td>1691ad00-5162-45ea-a20f-0d89c3e1b422</td>\n",
       "      <td>1.2.840.113845.13.13849.872975378.634767293118</td>\n",
       "      <td>2023-11-09 15:51:30.965891+00:00</td>\n",
       "      <td>Review_1</td>\n",
       "      <td>[{'user': 'jl@cerebriu.com', 'status': 'ASSIGN...</td>\n",
       "      <td>0.913043</td>\n",
       "    </tr>\n",
       "    <tr>\n",
       "      <th>16</th>\n",
       "      <td>5c7dd3bb-cdf5-42e5-9c4b-b309128a2af6</td>\n",
       "      <td>1.3.12.2.1107.5.2.6.24111.30000019082104124198...</td>\n",
       "      <td>2023-11-09 15:50:02.653774+00:00</td>\n",
       "      <td>Review_1</td>\n",
       "      <td>[{'user': 'jl@cerebriu.com', 'status': 'SKIPPE...</td>\n",
       "      <td>0.956522</td>\n",
       "    </tr>\n",
       "    <tr>\n",
       "      <th>21</th>\n",
       "      <td>06218ebf-c771-46a9-b07a-e85c9f8f4e26</td>\n",
       "      <td>1.3.12.2.1107.5.2.6.24111.30000019082703511493...</td>\n",
       "      <td>2023-11-09 15:50:02.535015+00:00</td>\n",
       "      <td>Review_1</td>\n",
       "      <td>[{'user': 'jl@cerebriu.com', 'status': 'IN_PRO...</td>\n",
       "      <td>0.608696</td>\n",
       "    </tr>\n",
       "    <tr>\n",
       "      <th>27</th>\n",
       "      <td>858a0b73-cc00-4012-a8d8-088c74de57ee</td>\n",
       "      <td>1.2.826.1.3680043.9.5282.150415.650.650232327158</td>\n",
       "      <td>2023-11-09 15:49:12.940204+00:00</td>\n",
       "      <td>Review_1</td>\n",
       "      <td>[{'user': 'jl@cerebriu.com', 'status': 'ASSIGN...</td>\n",
       "      <td>0.927536</td>\n",
       "    </tr>\n",
       "    <tr>\n",
       "      <th>35</th>\n",
       "      <td>9582c35d-71fb-4263-a4f9-25e86bef6303</td>\n",
       "      <td>1.2.826.1.3680043.9.5282.150415.34194.34194222...</td>\n",
       "      <td>2023-11-09 15:49:12.340989+00:00</td>\n",
       "      <td>Review_1</td>\n",
       "      <td>[{'user': 'jl@cerebriu.com', 'status': 'SKIPPE...</td>\n",
       "      <td>0.942029</td>\n",
       "    </tr>\n",
       "    <tr>\n",
       "      <th>38</th>\n",
       "      <td>238bce2f-217a-4ef1-af56-78e0b5419a7f</td>\n",
       "      <td>1.2.826.1.3680043.9.5282.150415.14832.16014832...</td>\n",
       "      <td>2023-11-09 15:48:45.870517+00:00</td>\n",
       "      <td>Review_1</td>\n",
       "      <td>[{'user': 'jl@cerebriu.com', 'status': 'IN_PRO...</td>\n",
       "      <td>1.000000</td>\n",
       "    </tr>\n",
       "    <tr>\n",
       "      <th>47</th>\n",
       "      <td>01d5dd45-74b2-4c65-9e3b-3bbdd2625e81</td>\n",
       "      <td>42a2a5865709f9ddc47da60a1556f09552586685</td>\n",
       "      <td>2023-11-09 15:47:15.277008+00:00</td>\n",
       "      <td>END</td>\n",
       "      <td>[]</td>\n",
       "      <td>0.724638</td>\n",
       "    </tr>\n",
       "  </tbody>\n",
       "</table>\n",
       "</div>"
      ],
      "text/plain": [
       "                                  taskId  \\\n",
       "0   2e2f0a36-2cdc-4c5a-9ba4-6d9907162ee6   \n",
       "1   1691ad00-5162-45ea-a20f-0d89c3e1b422   \n",
       "16  5c7dd3bb-cdf5-42e5-9c4b-b309128a2af6   \n",
       "21  06218ebf-c771-46a9-b07a-e85c9f8f4e26   \n",
       "27  858a0b73-cc00-4012-a8d8-088c74de57ee   \n",
       "35  9582c35d-71fb-4263-a4f9-25e86bef6303   \n",
       "38  238bce2f-217a-4ef1-af56-78e0b5419a7f   \n",
       "47  01d5dd45-74b2-4c65-9e3b-3bbdd2625e81   \n",
       "\n",
       "                                                 name  \\\n",
       "0     1.2.840.113845.13.14537.872975378.3343495815236   \n",
       "1      1.2.840.113845.13.13849.872975378.634767293118   \n",
       "16  1.3.12.2.1107.5.2.6.24111.30000019082104124198...   \n",
       "21  1.3.12.2.1107.5.2.6.24111.30000019082703511493...   \n",
       "27   1.2.826.1.3680043.9.5282.150415.650.650232327158   \n",
       "35  1.2.826.1.3680043.9.5282.150415.34194.34194222...   \n",
       "38  1.2.826.1.3680043.9.5282.150415.14832.16014832...   \n",
       "47           42a2a5865709f9ddc47da60a1556f09552586685   \n",
       "\n",
       "                          createdAt currentStageName  \\\n",
       "0  2023-11-09 15:51:31.026857+00:00         Review_1   \n",
       "1  2023-11-09 15:51:30.965891+00:00         Review_1   \n",
       "16 2023-11-09 15:50:02.653774+00:00         Review_1   \n",
       "21 2023-11-09 15:50:02.535015+00:00         Review_1   \n",
       "27 2023-11-09 15:49:12.940204+00:00         Review_1   \n",
       "35 2023-11-09 15:49:12.340989+00:00         Review_1   \n",
       "38 2023-11-09 15:48:45.870517+00:00         Review_1   \n",
       "47 2023-11-09 15:47:15.277008+00:00              END   \n",
       "\n",
       "                                            assignees  priority  \n",
       "0   [{'user': 'jl@cerebriu.com', 'status': 'SKIPPE...  0.971014  \n",
       "1   [{'user': 'jl@cerebriu.com', 'status': 'ASSIGN...  0.913043  \n",
       "16  [{'user': 'jl@cerebriu.com', 'status': 'SKIPPE...  0.956522  \n",
       "21  [{'user': 'jl@cerebriu.com', 'status': 'IN_PRO...  0.608696  \n",
       "27  [{'user': 'jl@cerebriu.com', 'status': 'ASSIGN...  0.927536  \n",
       "35  [{'user': 'jl@cerebriu.com', 'status': 'SKIPPE...  0.942029  \n",
       "38  [{'user': 'jl@cerebriu.com', 'status': 'IN_PRO...  1.000000  \n",
       "47                                                 []  0.724638  "
      ]
     },
     "execution_count": 4,
     "metadata": {},
     "output_type": "execute_result"
    }
   ],
   "source": [
    "stages = [\"Review_1\", \"END\"]\n",
    "tasks_df  = rb_utils.get_tasks_df(project.export.list_tasks(limit=None))\n",
    "selected_df = tasks_df[tasks_df['currentStageName'].isin(stages)]\n",
    "selected_df"
   ]
  },
  {
   "cell_type": "code",
   "execution_count": 5,
   "metadata": {},
   "outputs": [
    {
     "name": "stdout",
     "output_type": "stream",
     "text": [
      "---------------------------------------\n",
      "1.2.840.113845.13.14537.872975378.3343495815236\n"
     ]
    },
    {
     "data": {
      "text/html": [
       "<pre style=\"white-space:pre;overflow-x:auto;line-height:normal;font-family:Menlo,'DejaVu Sans Mono',consolas,'Courier New',monospace\"><span style=\"color: #7fbfbf; text-decoration-color: #7fbfbf\">[02/01/24 13:32:18] </span><span style=\"color: #000080; text-decoration-color: #000080\">INFO    </span> Saving masks to                                                                       \n",
       "<span style=\"color: #7fbfbf; text-decoration-color: #7fbfbf\">                    </span>         <span style=\"color: #800080; text-decoration-color: #800080\">/home/cerebriu/data/datasets/raw/CEREBRIU_cmb/1.2.840.113845.13.14537.872975378.334349</span>\n",
       "<span style=\"color: #7fbfbf; text-decoration-color: #7fbfbf\">                    </span>         <span style=\"color: #800080; text-decoration-color: #800080\">5815236/</span><span style=\"color: #ff00ff; text-decoration-color: #ff00ff\">segmentations</span> directory                                                       \n",
       "</pre>\n"
      ],
      "text/plain": [
       "\u001b[2;36m[02/01/24 13:32:18]\u001b[0m\u001b[2;36m \u001b[0m\u001b[34mINFO    \u001b[0m Saving masks to                                                                       \n",
       "\u001b[2;36m                    \u001b[0m         \u001b[35m/home/cerebriu/data/datasets/raw/CEREBRIU_cmb/1.2.840.113845.13.14537.872975378.334349\u001b[0m\n",
       "\u001b[2;36m                    \u001b[0m         \u001b[35m5815236/\u001b[0m\u001b[95msegmentations\u001b[0m directory                                                       \n"
      ]
     },
     "metadata": {},
     "output_type": "display_data"
    },
    {
     "name": "stderr",
     "output_type": "stream",
     "text": [
      "INFO:redbrick:Saving masks to /home/cerebriu/data/datasets/raw/CEREBRIU_cmb/1.2.840.113845.13.14537.872975378.3343495815236/segmentations directory\n"
     ]
    },
    {
     "data": {
      "text/html": [
       "<pre style=\"white-space:pre;overflow-x:auto;line-height:normal;font-family:Menlo,'DejaVu Sans Mono',consolas,'Courier New',monospace\"><span style=\"color: #7fbfbf; text-decoration-color: #7fbfbf\">                    </span><span style=\"color: #000080; text-decoration-color: #000080\">INFO    </span> Fetching task: <span style=\"color: #ffff00; text-decoration-color: #ffff00\">2e2f0a36-2cdc-4c5a-9ba4-6d9907162ee6</span>                                   \n",
       "</pre>\n"
      ],
      "text/plain": [
       "\u001b[2;36m                   \u001b[0m\u001b[2;36m \u001b[0m\u001b[34mINFO    \u001b[0m Fetching task: \u001b[93m2e2f0a36-2cdc-4c5a-9ba4-6d9907162ee6\u001b[0m                                   \n"
      ]
     },
     "metadata": {},
     "output_type": "display_data"
    },
    {
     "name": "stderr",
     "output_type": "stream",
     "text": [
      "INFO:redbrick:Fetching task: 2e2f0a36-2cdc-4c5a-9ba4-6d9907162ee6\n",
      "                                                                          \r"
     ]
    },
    {
     "name": "stdout",
     "output_type": "stream",
     "text": [
      "---------------------------------------\n",
      "1.2.840.113845.13.13849.872975378.634767293118\n"
     ]
    },
    {
     "data": {
      "text/html": [
       "<pre style=\"white-space:pre;overflow-x:auto;line-height:normal;font-family:Menlo,'DejaVu Sans Mono',consolas,'Courier New',monospace\"><span style=\"color: #7fbfbf; text-decoration-color: #7fbfbf\">[02/01/24 13:32:26] </span><span style=\"color: #000080; text-decoration-color: #000080\">INFO    </span> Saving masks to                                                                       \n",
       "<span style=\"color: #7fbfbf; text-decoration-color: #7fbfbf\">                    </span>         <span style=\"color: #800080; text-decoration-color: #800080\">/home/cerebriu/data/datasets/raw/CEREBRIU_cmb/1.2.840.113845.13.13849.872975378.634767</span>\n",
       "<span style=\"color: #7fbfbf; text-decoration-color: #7fbfbf\">                    </span>         <span style=\"color: #800080; text-decoration-color: #800080\">293118/</span><span style=\"color: #ff00ff; text-decoration-color: #ff00ff\">segmentations</span> directory                                                        \n",
       "</pre>\n"
      ],
      "text/plain": [
       "\u001b[2;36m[02/01/24 13:32:26]\u001b[0m\u001b[2;36m \u001b[0m\u001b[34mINFO    \u001b[0m Saving masks to                                                                       \n",
       "\u001b[2;36m                    \u001b[0m         \u001b[35m/home/cerebriu/data/datasets/raw/CEREBRIU_cmb/1.2.840.113845.13.13849.872975378.634767\u001b[0m\n",
       "\u001b[2;36m                    \u001b[0m         \u001b[35m293118/\u001b[0m\u001b[95msegmentations\u001b[0m directory                                                        \n"
      ]
     },
     "metadata": {},
     "output_type": "display_data"
    },
    {
     "name": "stderr",
     "output_type": "stream",
     "text": [
      "INFO:redbrick:Saving masks to /home/cerebriu/data/datasets/raw/CEREBRIU_cmb/1.2.840.113845.13.13849.872975378.634767293118/segmentations directory\n"
     ]
    },
    {
     "data": {
      "text/html": [
       "<pre style=\"white-space:pre;overflow-x:auto;line-height:normal;font-family:Menlo,'DejaVu Sans Mono',consolas,'Courier New',monospace\"><span style=\"color: #7fbfbf; text-decoration-color: #7fbfbf\">                    </span><span style=\"color: #000080; text-decoration-color: #000080\">INFO    </span> Fetching task: <span style=\"color: #ffff00; text-decoration-color: #ffff00\">1691ad00-5162-45ea-a20f-0d89c3e1b422</span>                                   \n",
       "</pre>\n"
      ],
      "text/plain": [
       "\u001b[2;36m                   \u001b[0m\u001b[2;36m \u001b[0m\u001b[34mINFO    \u001b[0m Fetching task: \u001b[93m1691ad00-5162-45ea-a20f-0d89c3e1b422\u001b[0m                                   \n"
      ]
     },
     "metadata": {},
     "output_type": "display_data"
    },
    {
     "name": "stderr",
     "output_type": "stream",
     "text": [
      "INFO:redbrick:Fetching task: 1691ad00-5162-45ea-a20f-0d89c3e1b422\n",
      "                                                                          \r"
     ]
    },
    {
     "name": "stdout",
     "output_type": "stream",
     "text": [
      "---------------------------------------\n",
      "1.3.12.2.1107.5.2.6.24111.30000019082104124198400000043\n"
     ]
    },
    {
     "data": {
      "text/html": [
       "<pre style=\"white-space:pre;overflow-x:auto;line-height:normal;font-family:Menlo,'DejaVu Sans Mono',consolas,'Courier New',monospace\"><span style=\"color: #7fbfbf; text-decoration-color: #7fbfbf\">[02/01/24 13:32:35] </span><span style=\"color: #000080; text-decoration-color: #000080\">INFO    </span> Saving masks to                                                                       \n",
       "<span style=\"color: #7fbfbf; text-decoration-color: #7fbfbf\">                    </span>         <span style=\"color: #800080; text-decoration-color: #800080\">/home/cerebriu/data/datasets/raw/CEREBRIU_cmb/1.3.12.2.1107.5.2.6.24111.30000019082104</span>\n",
       "<span style=\"color: #7fbfbf; text-decoration-color: #7fbfbf\">                    </span>         <span style=\"color: #800080; text-decoration-color: #800080\">124198400000043/</span><span style=\"color: #ff00ff; text-decoration-color: #ff00ff\">segmentations</span> directory                                               \n",
       "</pre>\n"
      ],
      "text/plain": [
       "\u001b[2;36m[02/01/24 13:32:35]\u001b[0m\u001b[2;36m \u001b[0m\u001b[34mINFO    \u001b[0m Saving masks to                                                                       \n",
       "\u001b[2;36m                    \u001b[0m         \u001b[35m/home/cerebriu/data/datasets/raw/CEREBRIU_cmb/1.3.12.2.1107.5.2.6.24111.30000019082104\u001b[0m\n",
       "\u001b[2;36m                    \u001b[0m         \u001b[35m124198400000043/\u001b[0m\u001b[95msegmentations\u001b[0m directory                                               \n"
      ]
     },
     "metadata": {},
     "output_type": "display_data"
    },
    {
     "name": "stderr",
     "output_type": "stream",
     "text": [
      "INFO:redbrick:Saving masks to /home/cerebriu/data/datasets/raw/CEREBRIU_cmb/1.3.12.2.1107.5.2.6.24111.30000019082104124198400000043/segmentations directory\n"
     ]
    },
    {
     "data": {
      "text/html": [
       "<pre style=\"white-space:pre;overflow-x:auto;line-height:normal;font-family:Menlo,'DejaVu Sans Mono',consolas,'Courier New',monospace\"><span style=\"color: #7fbfbf; text-decoration-color: #7fbfbf\">                    </span><span style=\"color: #000080; text-decoration-color: #000080\">INFO    </span> Fetching task: <span style=\"color: #ffff00; text-decoration-color: #ffff00\">5c7dd3bb-cdf5-42e5-9c4b-b309128a2af6</span>                                   \n",
       "</pre>\n"
      ],
      "text/plain": [
       "\u001b[2;36m                   \u001b[0m\u001b[2;36m \u001b[0m\u001b[34mINFO    \u001b[0m Fetching task: \u001b[93m5c7dd3bb-cdf5-42e5-9c4b-b309128a2af6\u001b[0m                                   \n"
      ]
     },
     "metadata": {},
     "output_type": "display_data"
    },
    {
     "name": "stderr",
     "output_type": "stream",
     "text": [
      "INFO:redbrick:Fetching task: 5c7dd3bb-cdf5-42e5-9c4b-b309128a2af6\n",
      "                                                                        \r"
     ]
    },
    {
     "name": "stdout",
     "output_type": "stream",
     "text": [
      "---------------------------------------\n",
      "1.3.12.2.1107.5.2.6.24111.30000019082703511493700000040\n"
     ]
    },
    {
     "data": {
      "text/html": [
       "<pre style=\"white-space:pre;overflow-x:auto;line-height:normal;font-family:Menlo,'DejaVu Sans Mono',consolas,'Courier New',monospace\"><span style=\"color: #7fbfbf; text-decoration-color: #7fbfbf\">[02/01/24 13:32:39] </span><span style=\"color: #000080; text-decoration-color: #000080\">INFO    </span> Saving masks to                                                                       \n",
       "<span style=\"color: #7fbfbf; text-decoration-color: #7fbfbf\">                    </span>         <span style=\"color: #800080; text-decoration-color: #800080\">/home/cerebriu/data/datasets/raw/CEREBRIU_cmb/1.3.12.2.1107.5.2.6.24111.30000019082703</span>\n",
       "<span style=\"color: #7fbfbf; text-decoration-color: #7fbfbf\">                    </span>         <span style=\"color: #800080; text-decoration-color: #800080\">511493700000040/</span><span style=\"color: #ff00ff; text-decoration-color: #ff00ff\">segmentations</span> directory                                               \n",
       "</pre>\n"
      ],
      "text/plain": [
       "\u001b[2;36m[02/01/24 13:32:39]\u001b[0m\u001b[2;36m \u001b[0m\u001b[34mINFO    \u001b[0m Saving masks to                                                                       \n",
       "\u001b[2;36m                    \u001b[0m         \u001b[35m/home/cerebriu/data/datasets/raw/CEREBRIU_cmb/1.3.12.2.1107.5.2.6.24111.30000019082703\u001b[0m\n",
       "\u001b[2;36m                    \u001b[0m         \u001b[35m511493700000040/\u001b[0m\u001b[95msegmentations\u001b[0m directory                                               \n"
      ]
     },
     "metadata": {},
     "output_type": "display_data"
    },
    {
     "name": "stderr",
     "output_type": "stream",
     "text": [
      "INFO:redbrick:Saving masks to /home/cerebriu/data/datasets/raw/CEREBRIU_cmb/1.3.12.2.1107.5.2.6.24111.30000019082703511493700000040/segmentations directory\n"
     ]
    },
    {
     "data": {
      "text/html": [
       "<pre style=\"white-space:pre;overflow-x:auto;line-height:normal;font-family:Menlo,'DejaVu Sans Mono',consolas,'Courier New',monospace\"><span style=\"color: #7fbfbf; text-decoration-color: #7fbfbf\">                    </span><span style=\"color: #000080; text-decoration-color: #000080\">INFO    </span> Fetching task: <span style=\"color: #ffff00; text-decoration-color: #ffff00\">06218ebf-c771-46a9-b07a-e85c9f8f4e26</span>                                   \n",
       "</pre>\n"
      ],
      "text/plain": [
       "\u001b[2;36m                   \u001b[0m\u001b[2;36m \u001b[0m\u001b[34mINFO    \u001b[0m Fetching task: \u001b[93m06218ebf-c771-46a9-b07a-e85c9f8f4e26\u001b[0m                                   \n"
      ]
     },
     "metadata": {},
     "output_type": "display_data"
    },
    {
     "name": "stderr",
     "output_type": "stream",
     "text": [
      "INFO:redbrick:Fetching task: 06218ebf-c771-46a9-b07a-e85c9f8f4e26\n",
      "                                                                        \r"
     ]
    },
    {
     "name": "stdout",
     "output_type": "stream",
     "text": [
      "---------------------------------------\n",
      "1.2.826.1.3680043.9.5282.150415.650.650232327158\n"
     ]
    },
    {
     "data": {
      "text/html": [
       "<pre style=\"white-space:pre;overflow-x:auto;line-height:normal;font-family:Menlo,'DejaVu Sans Mono',consolas,'Courier New',monospace\"><span style=\"color: #7fbfbf; text-decoration-color: #7fbfbf\">[02/01/24 13:32:43] </span><span style=\"color: #000080; text-decoration-color: #000080\">INFO    </span> Saving masks to                                                                       \n",
       "<span style=\"color: #7fbfbf; text-decoration-color: #7fbfbf\">                    </span>         <span style=\"color: #800080; text-decoration-color: #800080\">/home/cerebriu/data/datasets/raw/CEREBRIU_cmb/1.2.826.1.3680043.9.5282.150415.650.6502</span>\n",
       "<span style=\"color: #7fbfbf; text-decoration-color: #7fbfbf\">                    </span>         <span style=\"color: #800080; text-decoration-color: #800080\">32327158/</span><span style=\"color: #ff00ff; text-decoration-color: #ff00ff\">segmentations</span> directory                                                      \n",
       "</pre>\n"
      ],
      "text/plain": [
       "\u001b[2;36m[02/01/24 13:32:43]\u001b[0m\u001b[2;36m \u001b[0m\u001b[34mINFO    \u001b[0m Saving masks to                                                                       \n",
       "\u001b[2;36m                    \u001b[0m         \u001b[35m/home/cerebriu/data/datasets/raw/CEREBRIU_cmb/1.2.826.1.3680043.9.5282.150415.650.6502\u001b[0m\n",
       "\u001b[2;36m                    \u001b[0m         \u001b[35m32327158/\u001b[0m\u001b[95msegmentations\u001b[0m directory                                                      \n"
      ]
     },
     "metadata": {},
     "output_type": "display_data"
    },
    {
     "name": "stderr",
     "output_type": "stream",
     "text": [
      "INFO:redbrick:Saving masks to /home/cerebriu/data/datasets/raw/CEREBRIU_cmb/1.2.826.1.3680043.9.5282.150415.650.650232327158/segmentations directory\n"
     ]
    },
    {
     "data": {
      "text/html": [
       "<pre style=\"white-space:pre;overflow-x:auto;line-height:normal;font-family:Menlo,'DejaVu Sans Mono',consolas,'Courier New',monospace\"><span style=\"color: #7fbfbf; text-decoration-color: #7fbfbf\">                    </span><span style=\"color: #000080; text-decoration-color: #000080\">INFO    </span> Fetching task: <span style=\"color: #ffff00; text-decoration-color: #ffff00\">858a0b73-cc00-4012-a8d8-088c74de57ee</span>                                   \n",
       "</pre>\n"
      ],
      "text/plain": [
       "\u001b[2;36m                   \u001b[0m\u001b[2;36m \u001b[0m\u001b[34mINFO    \u001b[0m Fetching task: \u001b[93m858a0b73-cc00-4012-a8d8-088c74de57ee\u001b[0m                                   \n"
      ]
     },
     "metadata": {},
     "output_type": "display_data"
    },
    {
     "name": "stderr",
     "output_type": "stream",
     "text": [
      "INFO:redbrick:Fetching task: 858a0b73-cc00-4012-a8d8-088c74de57ee\n",
      "                                                                        \r"
     ]
    },
    {
     "name": "stdout",
     "output_type": "stream",
     "text": [
      "---------------------------------------\n",
      "1.2.826.1.3680043.9.5282.150415.34194.3419422232714\n"
     ]
    },
    {
     "data": {
      "text/html": [
       "<pre style=\"white-space:pre;overflow-x:auto;line-height:normal;font-family:Menlo,'DejaVu Sans Mono',consolas,'Courier New',monospace\"><span style=\"color: #7fbfbf; text-decoration-color: #7fbfbf\">[02/01/24 13:32:48] </span><span style=\"color: #000080; text-decoration-color: #000080\">INFO    </span> Saving masks to                                                                       \n",
       "<span style=\"color: #7fbfbf; text-decoration-color: #7fbfbf\">                    </span>         <span style=\"color: #800080; text-decoration-color: #800080\">/home/cerebriu/data/datasets/raw/CEREBRIU_cmb/1.2.826.1.3680043.9.5282.150415.34194.34</span>\n",
       "<span style=\"color: #7fbfbf; text-decoration-color: #7fbfbf\">                    </span>         <span style=\"color: #800080; text-decoration-color: #800080\">19422232714/</span><span style=\"color: #ff00ff; text-decoration-color: #ff00ff\">segmentations</span> directory                                                   \n",
       "</pre>\n"
      ],
      "text/plain": [
       "\u001b[2;36m[02/01/24 13:32:48]\u001b[0m\u001b[2;36m \u001b[0m\u001b[34mINFO    \u001b[0m Saving masks to                                                                       \n",
       "\u001b[2;36m                    \u001b[0m         \u001b[35m/home/cerebriu/data/datasets/raw/CEREBRIU_cmb/1.2.826.1.3680043.9.5282.150415.34194.34\u001b[0m\n",
       "\u001b[2;36m                    \u001b[0m         \u001b[35m19422232714/\u001b[0m\u001b[95msegmentations\u001b[0m directory                                                   \n"
      ]
     },
     "metadata": {},
     "output_type": "display_data"
    },
    {
     "name": "stderr",
     "output_type": "stream",
     "text": [
      "INFO:redbrick:Saving masks to /home/cerebriu/data/datasets/raw/CEREBRIU_cmb/1.2.826.1.3680043.9.5282.150415.34194.3419422232714/segmentations directory\n"
     ]
    },
    {
     "data": {
      "text/html": [
       "<pre style=\"white-space:pre;overflow-x:auto;line-height:normal;font-family:Menlo,'DejaVu Sans Mono',consolas,'Courier New',monospace\"><span style=\"color: #7fbfbf; text-decoration-color: #7fbfbf\">                    </span><span style=\"color: #000080; text-decoration-color: #000080\">INFO    </span> Fetching task: <span style=\"color: #ffff00; text-decoration-color: #ffff00\">9582c35d-71fb-4263-a4f9-25e86bef6303</span>                                   \n",
       "</pre>\n"
      ],
      "text/plain": [
       "\u001b[2;36m                   \u001b[0m\u001b[2;36m \u001b[0m\u001b[34mINFO    \u001b[0m Fetching task: \u001b[93m9582c35d-71fb-4263-a4f9-25e86bef6303\u001b[0m                                   \n"
      ]
     },
     "metadata": {},
     "output_type": "display_data"
    },
    {
     "name": "stderr",
     "output_type": "stream",
     "text": [
      "INFO:redbrick:Fetching task: 9582c35d-71fb-4263-a4f9-25e86bef6303\n",
      "                                                                        \r"
     ]
    },
    {
     "name": "stdout",
     "output_type": "stream",
     "text": [
      "---------------------------------------\n",
      "1.2.826.1.3680043.9.5282.150415.14832.16014832222376\n"
     ]
    },
    {
     "data": {
      "text/html": [
       "<pre style=\"white-space:pre;overflow-x:auto;line-height:normal;font-family:Menlo,'DejaVu Sans Mono',consolas,'Courier New',monospace\"><span style=\"color: #7fbfbf; text-decoration-color: #7fbfbf\">[02/01/24 13:32:52] </span><span style=\"color: #000080; text-decoration-color: #000080\">INFO    </span> Saving masks to                                                                       \n",
       "<span style=\"color: #7fbfbf; text-decoration-color: #7fbfbf\">                    </span>         <span style=\"color: #800080; text-decoration-color: #800080\">/home/cerebriu/data/datasets/raw/CEREBRIU_cmb/1.2.826.1.3680043.9.5282.150415.14832.16</span>\n",
       "<span style=\"color: #7fbfbf; text-decoration-color: #7fbfbf\">                    </span>         <span style=\"color: #800080; text-decoration-color: #800080\">014832222376/</span><span style=\"color: #ff00ff; text-decoration-color: #ff00ff\">segmentations</span> directory                                                  \n",
       "</pre>\n"
      ],
      "text/plain": [
       "\u001b[2;36m[02/01/24 13:32:52]\u001b[0m\u001b[2;36m \u001b[0m\u001b[34mINFO    \u001b[0m Saving masks to                                                                       \n",
       "\u001b[2;36m                    \u001b[0m         \u001b[35m/home/cerebriu/data/datasets/raw/CEREBRIU_cmb/1.2.826.1.3680043.9.5282.150415.14832.16\u001b[0m\n",
       "\u001b[2;36m                    \u001b[0m         \u001b[35m014832222376/\u001b[0m\u001b[95msegmentations\u001b[0m directory                                                  \n"
      ]
     },
     "metadata": {},
     "output_type": "display_data"
    },
    {
     "name": "stderr",
     "output_type": "stream",
     "text": [
      "INFO:redbrick:Saving masks to /home/cerebriu/data/datasets/raw/CEREBRIU_cmb/1.2.826.1.3680043.9.5282.150415.14832.16014832222376/segmentations directory\n"
     ]
    },
    {
     "data": {
      "text/html": [
       "<pre style=\"white-space:pre;overflow-x:auto;line-height:normal;font-family:Menlo,'DejaVu Sans Mono',consolas,'Courier New',monospace\"><span style=\"color: #7fbfbf; text-decoration-color: #7fbfbf\">                    </span><span style=\"color: #000080; text-decoration-color: #000080\">INFO    </span> Fetching task: <span style=\"color: #ffff00; text-decoration-color: #ffff00\">238bce2f-217a-4ef1-af56-78e0b5419a7f</span>                                   \n",
       "</pre>\n"
      ],
      "text/plain": [
       "\u001b[2;36m                   \u001b[0m\u001b[2;36m \u001b[0m\u001b[34mINFO    \u001b[0m Fetching task: \u001b[93m238bce2f-217a-4ef1-af56-78e0b5419a7f\u001b[0m                                   \n"
      ]
     },
     "metadata": {},
     "output_type": "display_data"
    },
    {
     "name": "stderr",
     "output_type": "stream",
     "text": [
      "INFO:redbrick:Fetching task: 238bce2f-217a-4ef1-af56-78e0b5419a7f\n",
      "                                                                        \r"
     ]
    },
    {
     "name": "stdout",
     "output_type": "stream",
     "text": [
      "---------------------------------------\n",
      "42a2a5865709f9ddc47da60a1556f09552586685\n"
     ]
    },
    {
     "data": {
      "text/html": [
       "<pre style=\"white-space:pre;overflow-x:auto;line-height:normal;font-family:Menlo,'DejaVu Sans Mono',consolas,'Courier New',monospace\"><span style=\"color: #7fbfbf; text-decoration-color: #7fbfbf\">[02/01/24 13:32:56] </span><span style=\"color: #000080; text-decoration-color: #000080\">INFO    </span> Saving masks to                                                                       \n",
       "<span style=\"color: #7fbfbf; text-decoration-color: #7fbfbf\">                    </span>         <span style=\"color: #800080; text-decoration-color: #800080\">/home/cerebriu/data/datasets/raw/CEREBRIU_cmb/42a2a5865709f9ddc47da60a1556f09552586685</span>\n",
       "<span style=\"color: #7fbfbf; text-decoration-color: #7fbfbf\">                    </span>         <span style=\"color: #800080; text-decoration-color: #800080\">/</span><span style=\"color: #ff00ff; text-decoration-color: #ff00ff\">segmentations</span> directory                                                              \n",
       "</pre>\n"
      ],
      "text/plain": [
       "\u001b[2;36m[02/01/24 13:32:56]\u001b[0m\u001b[2;36m \u001b[0m\u001b[34mINFO    \u001b[0m Saving masks to                                                                       \n",
       "\u001b[2;36m                    \u001b[0m         \u001b[35m/home/cerebriu/data/datasets/raw/CEREBRIU_cmb/42a2a5865709f9ddc47da60a1556f09552586685\u001b[0m\n",
       "\u001b[2;36m                    \u001b[0m         \u001b[35m/\u001b[0m\u001b[95msegmentations\u001b[0m directory                                                              \n"
      ]
     },
     "metadata": {},
     "output_type": "display_data"
    },
    {
     "name": "stderr",
     "output_type": "stream",
     "text": [
      "INFO:redbrick:Saving masks to /home/cerebriu/data/datasets/raw/CEREBRIU_cmb/42a2a5865709f9ddc47da60a1556f09552586685/segmentations directory\n"
     ]
    },
    {
     "data": {
      "text/html": [
       "<pre style=\"white-space:pre;overflow-x:auto;line-height:normal;font-family:Menlo,'DejaVu Sans Mono',consolas,'Courier New',monospace\"><span style=\"color: #7fbfbf; text-decoration-color: #7fbfbf\">                    </span><span style=\"color: #000080; text-decoration-color: #000080\">INFO    </span> Fetching task: <span style=\"color: #ffff00; text-decoration-color: #ffff00\">01d5dd45-74b2-4c65-9e3b-3bbdd2625e81</span>                                   \n",
       "</pre>\n"
      ],
      "text/plain": [
       "\u001b[2;36m                   \u001b[0m\u001b[2;36m \u001b[0m\u001b[34mINFO    \u001b[0m Fetching task: \u001b[93m01d5dd45-74b2-4c65-9e3b-3bbdd2625e81\u001b[0m                                   \n"
      ]
     },
     "metadata": {},
     "output_type": "display_data"
    },
    {
     "name": "stderr",
     "output_type": "stream",
     "text": [
      "INFO:redbrick:Fetching task: 01d5dd45-74b2-4c65-9e3b-3bbdd2625e81\n",
      "                                                                          \r"
     ]
    }
   ],
   "source": [
    "for i, row in selected_df.iterrows():\n",
    "    if row['name'] not in os.listdir(destination_dir):\n",
    "        print(\"---------------------------------------\")\n",
    "        print(row['name'])\n",
    "        g = export_taskid(row['taskId'], project, f\"{destination_dir}/{row['name']}\", withfile_flag)\n",
    "        next(g)"
   ]
  },
  {
   "cell_type": "code",
   "execution_count": 6,
   "metadata": {},
   "outputs": [],
   "source": [
    "import os\n",
    "import shutil\n",
    "\n",
    "def restructure_directory(study_dir, study):\n",
    "    \"\"\"\n",
    "    Restructures the directory to remove the redundant 'study' subfolder under 'images' and 'annotations'.\n",
    "\n",
    "    Args:\n",
    "        study_dir (str): The path to the study directory.\n",
    "    \"\"\"\n",
    "    for sub_dir_name in ['images', 'segmentations']:\n",
    "        sub_dir = os.path.join(study_dir, sub_dir_name)\n",
    "        study_sub_dir = os.path.join(sub_dir, study)\n",
    "\n",
    "        # Check if the redundant 'study' subdirectory exists\n",
    "        if os.path.exists(study_sub_dir) and os.path.isdir(study_sub_dir):\n",
    "            # Move each file from the redundant 'study' subdirectory to the parent directory\n",
    "            for file_name in os.listdir(study_sub_dir):\n",
    "                file_path = os.path.join(study_sub_dir, file_name)\n",
    "                shutil.move(file_path, sub_dir)\n",
    "\n",
    "            # Remove the now empty 'study' subdirectory\n",
    "            os.rmdir(study_sub_dir)\n"
   ]
  },
  {
   "cell_type": "code",
   "execution_count": 7,
   "metadata": {},
   "outputs": [
    {
     "name": "stdout",
     "output_type": "stream",
     "text": [
      "1.2.840.113845.13.14537.872975378.3343495815236\n",
      "1.2.840.113845.13.13849.872975378.634767293118\n",
      "1.3.12.2.1107.5.2.6.24111.30000019082104124198400000043\n",
      "1.3.12.2.1107.5.2.6.24111.30000019082703511493700000040\n",
      "1.2.826.1.3680043.9.5282.150415.650.650232327158\n",
      "1.2.826.1.3680043.9.5282.150415.34194.3419422232714\n",
      "1.2.826.1.3680043.9.5282.150415.14832.16014832222376\n",
      "42a2a5865709f9ddc47da60a1556f09552586685\n"
     ]
    }
   ],
   "source": [
    "for i, row in selected_df.iterrows():\n",
    "    study_dir = f\"{destination_dir}/{row['name']}\"\n",
    "    print(row['name'])\n",
    "    restructure_directory(study_dir, row['name'])"
   ]
  }
 ],
 "metadata": {
  "kernelspec": {
   "display_name": "venv_cerebriu",
   "language": "python",
   "name": "python3"
  },
  "language_info": {
   "codemirror_mode": {
    "name": "ipython",
    "version": 3
   },
   "file_extension": ".py",
   "mimetype": "text/x-python",
   "name": "python",
   "nbconvert_exporter": "python",
   "pygments_lexer": "ipython3",
   "version": "3.10.12"
  }
 },
 "nbformat": 4,
 "nbformat_minor": 2
}
