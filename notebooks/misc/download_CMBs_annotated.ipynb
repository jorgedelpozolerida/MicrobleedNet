{
 "cells": [
  {
   "cell_type": "code",
   "execution_count": 10,
   "metadata": {},
   "outputs": [],
   "source": [
    "import os\n",
    "import nibabel as nib\n",
    "import sys\n",
    "import redbrick\n",
    "import glob\n",
    "\n",
    "sys.path.append(\"/home/cerebriu/data/DM/data-management/redbrick/\")\n",
    "\n",
    "import utils_redbrick as rb_utils\n",
    "\n",
    "project_id = \"c289b8f2-c9ff-49da-86d4-c8e4dea6c092\"\n",
    "destination_dir = \"/home/cerebriu/data/datasets/raw/CEREBRIU\"\n",
    "withfile_flag = True\n",
    "project = rb_utils.initialize_project(project_id=project_id)"
   ]
  },
  {
   "cell_type": "code",
   "execution_count": 11,
   "metadata": {},
   "outputs": [],
   "source": [
    "old_ids = ['1.3.12.2.1107.5.2.6.24111.30000019082104124198400000043',\n",
    "    '1.2.826.1.3680043.9.5282.150415.34194.3419422232714',\n",
    "    '1.2.826.1.3680043.9.5282.150415.14832.16014832222376',\n",
    "    '1.2.826.1.3680043.9.5282.150415.650.650232327158',\n",
    "    '42a2a5865709f9ddc47da60a1556f09552586685',\n",
    "    '1.3.12.2.1107.5.2.6.24111.30000019082703511493700000040',\n",
    "    '1.2.840.113845.13.13849.872975378.634767293118',\n",
    "    '1.2.840.113845.13.14537.872975378.3343495815236']"
   ]
  },
  {
   "cell_type": "code",
   "execution_count": 12,
   "metadata": {},
   "outputs": [],
   "source": [
    "def export_taskid(task, project, destination_dir, withfile_flag):\n",
    "    return project.export.export_tasks(only_ground_truth = False, \n",
    "                                        task_id = task, \n",
    "                                        destination=destination_dir,\n",
    "                                        with_files=withfile_flag)"
   ]
  },
  {
   "cell_type": "code",
   "execution_count": 13,
   "metadata": {},
   "outputs": [
    {
     "data": {
      "text/plain": [
       "'Cerebral Microbleeds (CMBs)'"
      ]
     },
     "execution_count": 13,
     "metadata": {},
     "output_type": "execute_result"
    }
   ],
   "source": [
    "project.name"
   ]
  },
  {
   "cell_type": "code",
   "execution_count": 14,
   "metadata": {},
   "outputs": [
    {
     "name": "stdout",
     "output_type": "stream",
     "text": [
      "19\n"
     ]
    },
    {
     "data": {
      "text/html": [
       "<div>\n",
       "<style scoped>\n",
       "    .dataframe tbody tr th:only-of-type {\n",
       "        vertical-align: middle;\n",
       "    }\n",
       "\n",
       "    .dataframe tbody tr th {\n",
       "        vertical-align: top;\n",
       "    }\n",
       "\n",
       "    .dataframe thead th {\n",
       "        text-align: right;\n",
       "    }\n",
       "</style>\n",
       "<table border=\"1\" class=\"dataframe\">\n",
       "  <thead>\n",
       "    <tr style=\"text-align: right;\">\n",
       "      <th></th>\n",
       "      <th>taskId</th>\n",
       "      <th>name</th>\n",
       "      <th>createdAt</th>\n",
       "      <th>currentStageName</th>\n",
       "      <th>assignees</th>\n",
       "      <th>priority</th>\n",
       "    </tr>\n",
       "  </thead>\n",
       "  <tbody>\n",
       "    <tr>\n",
       "      <th>2</th>\n",
       "      <td>1691ad00-5162-45ea-a20f-0d89c3e1b422</td>\n",
       "      <td>1.2.840.113845.13.13849.872975378.634767293118</td>\n",
       "      <td>2023-11-09 15:51:30.965891+00:00</td>\n",
       "      <td>Review_1</td>\n",
       "      <td>[{'user': 'jl@cerebriu.com', 'status': 'ASSIGN...</td>\n",
       "      <td>0.913043</td>\n",
       "    </tr>\n",
       "    <tr>\n",
       "      <th>3</th>\n",
       "      <td>2e2f0a36-2cdc-4c5a-9ba4-6d9907162ee6</td>\n",
       "      <td>1.2.840.113845.13.14537.872975378.3343495815236</td>\n",
       "      <td>2023-11-09 15:51:31.026857+00:00</td>\n",
       "      <td>Review_1</td>\n",
       "      <td>[{'user': 'jl@cerebriu.com', 'status': 'SKIPPE...</td>\n",
       "      <td>0.971014</td>\n",
       "    </tr>\n",
       "    <tr>\n",
       "      <th>8</th>\n",
       "      <td>bc0fa2ec-5738-4eab-bb8a-ace9f2ecbb71</td>\n",
       "      <td>1.2.840.113845.11.1000000001815528930.20201010...</td>\n",
       "      <td>2023-11-09 15:51:07.402913+00:00</td>\n",
       "      <td>Review_1</td>\n",
       "      <td>[]</td>\n",
       "      <td>0.362319</td>\n",
       "    </tr>\n",
       "    <tr>\n",
       "      <th>12</th>\n",
       "      <td>3b895b01-0814-4572-9ff2-3e1b9ccc26bb</td>\n",
       "      <td>1.3.12.2.1107.5.2.6.24111.30000019082104124198...</td>\n",
       "      <td>2023-11-09 15:50:03.189434+00:00</td>\n",
       "      <td>Review_1</td>\n",
       "      <td>[{'user': 'jl@cerebriu.com', 'status': 'ASSIGN...</td>\n",
       "      <td>0.898551</td>\n",
       "    </tr>\n",
       "    <tr>\n",
       "      <th>14</th>\n",
       "      <td>54ec9de1-03d1-47ee-a1d8-cc0b6b494ff3</td>\n",
       "      <td>1.3.12.2.1107.5.2.6.24111.30000019080803320789...</td>\n",
       "      <td>2023-11-09 15:50:02.606288+00:00</td>\n",
       "      <td>Review_1</td>\n",
       "      <td>[{'user': 'jl@cerebriu.com', 'status': 'ASSIGN...</td>\n",
       "      <td>0.884058</td>\n",
       "    </tr>\n",
       "    <tr>\n",
       "      <th>15</th>\n",
       "      <td>5c7dd3bb-cdf5-42e5-9c4b-b309128a2af6</td>\n",
       "      <td>1.3.12.2.1107.5.2.6.24111.30000019082104124198...</td>\n",
       "      <td>2023-11-09 15:50:02.653774+00:00</td>\n",
       "      <td>Review_1</td>\n",
       "      <td>[{'user': 'jl@cerebriu.com', 'status': 'SKIPPE...</td>\n",
       "      <td>0.956522</td>\n",
       "    </tr>\n",
       "    <tr>\n",
       "      <th>18</th>\n",
       "      <td>e438f93f-9ecf-4f06-8e1e-1135e5a190f9</td>\n",
       "      <td>1.3.12.2.1107.5.2.6.24111.30000019082703511493...</td>\n",
       "      <td>2023-11-09 15:50:02.670665+00:00</td>\n",
       "      <td>Review_1</td>\n",
       "      <td>[]</td>\n",
       "      <td>0.623188</td>\n",
       "    </tr>\n",
       "    <tr>\n",
       "      <th>20</th>\n",
       "      <td>06218ebf-c771-46a9-b07a-e85c9f8f4e26</td>\n",
       "      <td>1.3.12.2.1107.5.2.6.24111.30000019082703511493...</td>\n",
       "      <td>2023-11-09 15:50:02.535015+00:00</td>\n",
       "      <td>Review_1</td>\n",
       "      <td>[{'user': 'jl@cerebriu.com', 'status': 'IN_PRO...</td>\n",
       "      <td>0.608696</td>\n",
       "    </tr>\n",
       "    <tr>\n",
       "      <th>25</th>\n",
       "      <td>858a0b73-cc00-4012-a8d8-088c74de57ee</td>\n",
       "      <td>1.2.826.1.3680043.9.5282.150415.650.650232327158</td>\n",
       "      <td>2023-11-09 15:49:12.940204+00:00</td>\n",
       "      <td>Review_1</td>\n",
       "      <td>[{'user': 'jl@cerebriu.com', 'status': 'ASSIGN...</td>\n",
       "      <td>0.927536</td>\n",
       "    </tr>\n",
       "    <tr>\n",
       "      <th>27</th>\n",
       "      <td>df4dda34-8f82-411c-a942-a00f5a897b6b</td>\n",
       "      <td>1.2.826.1.3680043.9.5282.150415.34242.34242222...</td>\n",
       "      <td>2023-11-09 15:49:12.488353+00:00</td>\n",
       "      <td>Review_1</td>\n",
       "      <td>[]</td>\n",
       "      <td>0.797101</td>\n",
       "    </tr>\n",
       "    <tr>\n",
       "      <th>28</th>\n",
       "      <td>e1901aa4-dae4-463c-ad24-9b0e23469a84</td>\n",
       "      <td>1.2.826.1.3680043.9.5282.150415.35985.35985221...</td>\n",
       "      <td>2023-11-09 15:49:12.429892+00:00</td>\n",
       "      <td>Review_1</td>\n",
       "      <td>[]</td>\n",
       "      <td>0.782609</td>\n",
       "    </tr>\n",
       "    <tr>\n",
       "      <th>30</th>\n",
       "      <td>238bce2f-217a-4ef1-af56-78e0b5419a7f</td>\n",
       "      <td>1.2.826.1.3680043.9.5282.150415.14832.16014832...</td>\n",
       "      <td>2023-11-09 15:48:45.870517+00:00</td>\n",
       "      <td>Review_1</td>\n",
       "      <td>[{'user': 'jl@cerebriu.com', 'status': 'IN_PRO...</td>\n",
       "      <td>1.000000</td>\n",
       "    </tr>\n",
       "    <tr>\n",
       "      <th>32</th>\n",
       "      <td>44de4ae8-a452-417e-a284-e191362b2a14</td>\n",
       "      <td>1.2.826.1.3680043.9.5282.150415.24477.24477221...</td>\n",
       "      <td>2023-11-09 15:49:12.361247+00:00</td>\n",
       "      <td>Review_1</td>\n",
       "      <td>[]</td>\n",
       "      <td>0.826087</td>\n",
       "    </tr>\n",
       "    <tr>\n",
       "      <th>33</th>\n",
       "      <td>5672622a-9e00-4003-a8a3-5bdc4a2c3535</td>\n",
       "      <td>1.2.826.1.3680043.9.5282.150415.178.178232327158</td>\n",
       "      <td>2023-11-09 15:49:12.336095+00:00</td>\n",
       "      <td>END</td>\n",
       "      <td>[]</td>\n",
       "      <td>0.811594</td>\n",
       "    </tr>\n",
       "    <tr>\n",
       "      <th>36</th>\n",
       "      <td>956d3665-b622-4514-8122-3491cc58a623</td>\n",
       "      <td>1.2.826.1.3680043.9.5282.150415.25794.25794222...</td>\n",
       "      <td>2023-11-09 15:49:12.382558+00:00</td>\n",
       "      <td>Review_1</td>\n",
       "      <td>[]</td>\n",
       "      <td>0.855072</td>\n",
       "    </tr>\n",
       "    <tr>\n",
       "      <th>37</th>\n",
       "      <td>9582c35d-71fb-4263-a4f9-25e86bef6303</td>\n",
       "      <td>1.2.826.1.3680043.9.5282.150415.34194.34194222...</td>\n",
       "      <td>2023-11-09 15:49:12.340989+00:00</td>\n",
       "      <td>Review_1</td>\n",
       "      <td>[{'user': 'jl@cerebriu.com', 'status': 'SKIPPE...</td>\n",
       "      <td>0.942029</td>\n",
       "    </tr>\n",
       "    <tr>\n",
       "      <th>38</th>\n",
       "      <td>d914323f-0ac7-4ec4-9afe-2c925e711f21</td>\n",
       "      <td>1.2.826.1.3680043.9.5282.150415.37517.37517222...</td>\n",
       "      <td>2023-11-09 15:49:12.381029+00:00</td>\n",
       "      <td>Review_1</td>\n",
       "      <td>[]</td>\n",
       "      <td>0.840580</td>\n",
       "    </tr>\n",
       "    <tr>\n",
       "      <th>40</th>\n",
       "      <td>01d5dd45-74b2-4c65-9e3b-3bbdd2625e81</td>\n",
       "      <td>42a2a5865709f9ddc47da60a1556f09552586685</td>\n",
       "      <td>2023-11-09 15:47:15.277008+00:00</td>\n",
       "      <td>END</td>\n",
       "      <td>[]</td>\n",
       "      <td>0.724638</td>\n",
       "    </tr>\n",
       "    <tr>\n",
       "      <th>53</th>\n",
       "      <td>85088bb2-5a3c-4829-af5a-05bc7e7ce642</td>\n",
       "      <td>cd562073a877df14df5a16f1aea5d709de641b24</td>\n",
       "      <td>2023-11-09 15:47:14.822087+00:00</td>\n",
       "      <td>Review_1</td>\n",
       "      <td>[]</td>\n",
       "      <td>0.768116</td>\n",
       "    </tr>\n",
       "  </tbody>\n",
       "</table>\n",
       "</div>"
      ],
      "text/plain": [
       "                                  taskId  \\\n",
       "2   1691ad00-5162-45ea-a20f-0d89c3e1b422   \n",
       "3   2e2f0a36-2cdc-4c5a-9ba4-6d9907162ee6   \n",
       "8   bc0fa2ec-5738-4eab-bb8a-ace9f2ecbb71   \n",
       "12  3b895b01-0814-4572-9ff2-3e1b9ccc26bb   \n",
       "14  54ec9de1-03d1-47ee-a1d8-cc0b6b494ff3   \n",
       "15  5c7dd3bb-cdf5-42e5-9c4b-b309128a2af6   \n",
       "18  e438f93f-9ecf-4f06-8e1e-1135e5a190f9   \n",
       "20  06218ebf-c771-46a9-b07a-e85c9f8f4e26   \n",
       "25  858a0b73-cc00-4012-a8d8-088c74de57ee   \n",
       "27  df4dda34-8f82-411c-a942-a00f5a897b6b   \n",
       "28  e1901aa4-dae4-463c-ad24-9b0e23469a84   \n",
       "30  238bce2f-217a-4ef1-af56-78e0b5419a7f   \n",
       "32  44de4ae8-a452-417e-a284-e191362b2a14   \n",
       "33  5672622a-9e00-4003-a8a3-5bdc4a2c3535   \n",
       "36  956d3665-b622-4514-8122-3491cc58a623   \n",
       "37  9582c35d-71fb-4263-a4f9-25e86bef6303   \n",
       "38  d914323f-0ac7-4ec4-9afe-2c925e711f21   \n",
       "40  01d5dd45-74b2-4c65-9e3b-3bbdd2625e81   \n",
       "53  85088bb2-5a3c-4829-af5a-05bc7e7ce642   \n",
       "\n",
       "                                                 name  \\\n",
       "2      1.2.840.113845.13.13849.872975378.634767293118   \n",
       "3     1.2.840.113845.13.14537.872975378.3343495815236   \n",
       "8   1.2.840.113845.11.1000000001815528930.20201010...   \n",
       "12  1.3.12.2.1107.5.2.6.24111.30000019082104124198...   \n",
       "14  1.3.12.2.1107.5.2.6.24111.30000019080803320789...   \n",
       "15  1.3.12.2.1107.5.2.6.24111.30000019082104124198...   \n",
       "18  1.3.12.2.1107.5.2.6.24111.30000019082703511493...   \n",
       "20  1.3.12.2.1107.5.2.6.24111.30000019082703511493...   \n",
       "25   1.2.826.1.3680043.9.5282.150415.650.650232327158   \n",
       "27  1.2.826.1.3680043.9.5282.150415.34242.34242222...   \n",
       "28  1.2.826.1.3680043.9.5282.150415.35985.35985221...   \n",
       "30  1.2.826.1.3680043.9.5282.150415.14832.16014832...   \n",
       "32  1.2.826.1.3680043.9.5282.150415.24477.24477221...   \n",
       "33   1.2.826.1.3680043.9.5282.150415.178.178232327158   \n",
       "36  1.2.826.1.3680043.9.5282.150415.25794.25794222...   \n",
       "37  1.2.826.1.3680043.9.5282.150415.34194.34194222...   \n",
       "38  1.2.826.1.3680043.9.5282.150415.37517.37517222...   \n",
       "40           42a2a5865709f9ddc47da60a1556f09552586685   \n",
       "53           cd562073a877df14df5a16f1aea5d709de641b24   \n",
       "\n",
       "                          createdAt currentStageName  \\\n",
       "2  2023-11-09 15:51:30.965891+00:00         Review_1   \n",
       "3  2023-11-09 15:51:31.026857+00:00         Review_1   \n",
       "8  2023-11-09 15:51:07.402913+00:00         Review_1   \n",
       "12 2023-11-09 15:50:03.189434+00:00         Review_1   \n",
       "14 2023-11-09 15:50:02.606288+00:00         Review_1   \n",
       "15 2023-11-09 15:50:02.653774+00:00         Review_1   \n",
       "18 2023-11-09 15:50:02.670665+00:00         Review_1   \n",
       "20 2023-11-09 15:50:02.535015+00:00         Review_1   \n",
       "25 2023-11-09 15:49:12.940204+00:00         Review_1   \n",
       "27 2023-11-09 15:49:12.488353+00:00         Review_1   \n",
       "28 2023-11-09 15:49:12.429892+00:00         Review_1   \n",
       "30 2023-11-09 15:48:45.870517+00:00         Review_1   \n",
       "32 2023-11-09 15:49:12.361247+00:00         Review_1   \n",
       "33 2023-11-09 15:49:12.336095+00:00              END   \n",
       "36 2023-11-09 15:49:12.382558+00:00         Review_1   \n",
       "37 2023-11-09 15:49:12.340989+00:00         Review_1   \n",
       "38 2023-11-09 15:49:12.381029+00:00         Review_1   \n",
       "40 2023-11-09 15:47:15.277008+00:00              END   \n",
       "53 2023-11-09 15:47:14.822087+00:00         Review_1   \n",
       "\n",
       "                                            assignees  priority  \n",
       "2   [{'user': 'jl@cerebriu.com', 'status': 'ASSIGN...  0.913043  \n",
       "3   [{'user': 'jl@cerebriu.com', 'status': 'SKIPPE...  0.971014  \n",
       "8                                                  []  0.362319  \n",
       "12  [{'user': 'jl@cerebriu.com', 'status': 'ASSIGN...  0.898551  \n",
       "14  [{'user': 'jl@cerebriu.com', 'status': 'ASSIGN...  0.884058  \n",
       "15  [{'user': 'jl@cerebriu.com', 'status': 'SKIPPE...  0.956522  \n",
       "18                                                 []  0.623188  \n",
       "20  [{'user': 'jl@cerebriu.com', 'status': 'IN_PRO...  0.608696  \n",
       "25  [{'user': 'jl@cerebriu.com', 'status': 'ASSIGN...  0.927536  \n",
       "27                                                 []  0.797101  \n",
       "28                                                 []  0.782609  \n",
       "30  [{'user': 'jl@cerebriu.com', 'status': 'IN_PRO...  1.000000  \n",
       "32                                                 []  0.826087  \n",
       "33                                                 []  0.811594  \n",
       "36                                                 []  0.855072  \n",
       "37  [{'user': 'jl@cerebriu.com', 'status': 'SKIPPE...  0.942029  \n",
       "38                                                 []  0.840580  \n",
       "40                                                 []  0.724638  \n",
       "53                                                 []  0.768116  "
      ]
     },
     "execution_count": 14,
     "metadata": {},
     "output_type": "execute_result"
    }
   ],
   "source": [
    "stages = [\"Review_1\", \"END\"]\n",
    "tasks_df  = rb_utils.get_tasks_df(project.export.list_tasks(limit=None))\n",
    "selected_df = tasks_df[tasks_df['currentStageName'].isin(stages)]\n",
    "# selected_df = selected_df[~selected_df['name'].isin(old_ids)]\n",
    "print(len(selected_df))\n",
    "selected_df.to_csv(\"~/Downloads/selected_tasks_CRB.csv\")\n",
    "selected_df"
   ]
  },
  {
   "cell_type": "code",
   "execution_count": 23,
   "metadata": {},
   "outputs": [
    {
     "data": {
      "text/plain": [
       "['1.2.840.113845.11.1000000001815528930.20201010223701.3603014',\n",
       " '1.3.12.2.1107.5.2.6.24111.30000019082104124198400000049',\n",
       " '1.3.12.2.1107.5.2.6.24111.30000019080803320789000000046',\n",
       " '1.3.12.2.1107.5.2.6.24111.30000019082703511493700000001',\n",
       " '1.2.826.1.3680043.9.5282.150415.34242.3424222232714',\n",
       " '1.2.826.1.3680043.9.5282.150415.35985.3598522192214',\n",
       " '1.2.826.1.3680043.9.5282.150415.24477.2447722188652',\n",
       " '1.2.826.1.3680043.9.5282.150415.178.178232327158',\n",
       " '1.2.826.1.3680043.9.5282.150415.25794.2579422232752',\n",
       " '1.2.826.1.3680043.9.5282.150415.37517.3751722232714',\n",
       " 'cd562073a877df14df5a16f1aea5d709de641b24']"
      ]
     },
     "execution_count": 23,
     "metadata": {},
     "output_type": "execute_result"
    }
   ],
   "source": [
    "new_df = selected_df[~selected_df['name'].isin(old_ids)]\n",
    "new_df['name'].to_list()"
   ]
  },
  {
   "cell_type": "code",
   "execution_count": 15,
   "metadata": {},
   "outputs": [
    {
     "data": {
      "text/plain": [
       "['https://app.redbrickai.com/ee09f50f-5afc-4d7a-a304-fdb8e45cbdd4/projects/c289b8f2-c9ff-49da-86d4-c8e4dea6c092/tool/Review_1?taskid=1691ad00-5162-45ea-a20f-0d89c3e1b422',\n",
       " 'https://app.redbrickai.com/ee09f50f-5afc-4d7a-a304-fdb8e45cbdd4/projects/c289b8f2-c9ff-49da-86d4-c8e4dea6c092/tool/Review_1?taskid=2e2f0a36-2cdc-4c5a-9ba4-6d9907162ee6',\n",
       " 'https://app.redbrickai.com/ee09f50f-5afc-4d7a-a304-fdb8e45cbdd4/projects/c289b8f2-c9ff-49da-86d4-c8e4dea6c092/tool/Review_1?taskid=bc0fa2ec-5738-4eab-bb8a-ace9f2ecbb71',\n",
       " 'https://app.redbrickai.com/ee09f50f-5afc-4d7a-a304-fdb8e45cbdd4/projects/c289b8f2-c9ff-49da-86d4-c8e4dea6c092/tool/Review_1?taskid=3b895b01-0814-4572-9ff2-3e1b9ccc26bb',\n",
       " 'https://app.redbrickai.com/ee09f50f-5afc-4d7a-a304-fdb8e45cbdd4/projects/c289b8f2-c9ff-49da-86d4-c8e4dea6c092/tool/Review_1?taskid=54ec9de1-03d1-47ee-a1d8-cc0b6b494ff3',\n",
       " 'https://app.redbrickai.com/ee09f50f-5afc-4d7a-a304-fdb8e45cbdd4/projects/c289b8f2-c9ff-49da-86d4-c8e4dea6c092/tool/Review_1?taskid=5c7dd3bb-cdf5-42e5-9c4b-b309128a2af6',\n",
       " 'https://app.redbrickai.com/ee09f50f-5afc-4d7a-a304-fdb8e45cbdd4/projects/c289b8f2-c9ff-49da-86d4-c8e4dea6c092/tool/Review_1?taskid=e438f93f-9ecf-4f06-8e1e-1135e5a190f9',\n",
       " 'https://app.redbrickai.com/ee09f50f-5afc-4d7a-a304-fdb8e45cbdd4/projects/c289b8f2-c9ff-49da-86d4-c8e4dea6c092/tool/Review_1?taskid=06218ebf-c771-46a9-b07a-e85c9f8f4e26',\n",
       " 'https://app.redbrickai.com/ee09f50f-5afc-4d7a-a304-fdb8e45cbdd4/projects/c289b8f2-c9ff-49da-86d4-c8e4dea6c092/tool/Review_1?taskid=858a0b73-cc00-4012-a8d8-088c74de57ee',\n",
       " 'https://app.redbrickai.com/ee09f50f-5afc-4d7a-a304-fdb8e45cbdd4/projects/c289b8f2-c9ff-49da-86d4-c8e4dea6c092/tool/Review_1?taskid=df4dda34-8f82-411c-a942-a00f5a897b6b',\n",
       " 'https://app.redbrickai.com/ee09f50f-5afc-4d7a-a304-fdb8e45cbdd4/projects/c289b8f2-c9ff-49da-86d4-c8e4dea6c092/tool/Review_1?taskid=e1901aa4-dae4-463c-ad24-9b0e23469a84',\n",
       " 'https://app.redbrickai.com/ee09f50f-5afc-4d7a-a304-fdb8e45cbdd4/projects/c289b8f2-c9ff-49da-86d4-c8e4dea6c092/tool/Review_1?taskid=238bce2f-217a-4ef1-af56-78e0b5419a7f',\n",
       " 'https://app.redbrickai.com/ee09f50f-5afc-4d7a-a304-fdb8e45cbdd4/projects/c289b8f2-c9ff-49da-86d4-c8e4dea6c092/tool/Review_1?taskid=44de4ae8-a452-417e-a284-e191362b2a14',\n",
       " 'https://app.redbrickai.com/ee09f50f-5afc-4d7a-a304-fdb8e45cbdd4/projects/c289b8f2-c9ff-49da-86d4-c8e4dea6c092/tool/Review_1?taskid=5672622a-9e00-4003-a8a3-5bdc4a2c3535',\n",
       " 'https://app.redbrickai.com/ee09f50f-5afc-4d7a-a304-fdb8e45cbdd4/projects/c289b8f2-c9ff-49da-86d4-c8e4dea6c092/tool/Review_1?taskid=956d3665-b622-4514-8122-3491cc58a623',\n",
       " 'https://app.redbrickai.com/ee09f50f-5afc-4d7a-a304-fdb8e45cbdd4/projects/c289b8f2-c9ff-49da-86d4-c8e4dea6c092/tool/Review_1?taskid=9582c35d-71fb-4263-a4f9-25e86bef6303',\n",
       " 'https://app.redbrickai.com/ee09f50f-5afc-4d7a-a304-fdb8e45cbdd4/projects/c289b8f2-c9ff-49da-86d4-c8e4dea6c092/tool/Review_1?taskid=d914323f-0ac7-4ec4-9afe-2c925e711f21',\n",
       " 'https://app.redbrickai.com/ee09f50f-5afc-4d7a-a304-fdb8e45cbdd4/projects/c289b8f2-c9ff-49da-86d4-c8e4dea6c092/tool/Review_1?taskid=01d5dd45-74b2-4c65-9e3b-3bbdd2625e81',\n",
       " 'https://app.redbrickai.com/ee09f50f-5afc-4d7a-a304-fdb8e45cbdd4/projects/c289b8f2-c9ff-49da-86d4-c8e4dea6c092/tool/Review_1?taskid=85088bb2-5a3c-4829-af5a-05bc7e7ce642']"
      ]
     },
     "execution_count": 15,
     "metadata": {},
     "output_type": "execute_result"
    }
   ],
   "source": [
    "[\n",
    "    f\"https://app.redbrickai.com/ee09f50f-5afc-4d7a-a304-fdb8e45cbdd4/projects/{project_id}/tool/Review_1?taskid={taskid}\"\n",
    "    for taskid in selected_df['taskId']\n",
    "]"
   ]
  },
  {
   "cell_type": "code",
   "execution_count": 16,
   "metadata": {},
   "outputs": [
    {
     "name": "stdout",
     "output_type": "stream",
     "text": [
      "---------------------------------------\n",
      "1.2.840.113845.13.13849.872975378.634767293118\n"
     ]
    },
    {
     "data": {
      "text/html": [
       "<pre style=\"white-space:pre;overflow-x:auto;line-height:normal;font-family:Menlo,'DejaVu Sans Mono',consolas,'Courier New',monospace\"><span style=\"color: #7fbfbf; text-decoration-color: #7fbfbf\">[04/17/24 18:26:06] </span><span style=\"color: #000080; text-decoration-color: #000080\">INFO    </span> Saving masks to                                                                       \n",
       "<span style=\"color: #7fbfbf; text-decoration-color: #7fbfbf\">                    </span>         <span style=\"color: #800080; text-decoration-color: #800080\">/home/cerebriu/data/datasets/raw/CEREBRIU/1.2.840.113845.13.13849.872975378.6347672931</span>\n",
       "<span style=\"color: #7fbfbf; text-decoration-color: #7fbfbf\">                    </span>         <span style=\"color: #800080; text-decoration-color: #800080\">18/</span><span style=\"color: #ff00ff; text-decoration-color: #ff00ff\">segmentations</span> directory                                                            \n",
       "</pre>\n"
      ],
      "text/plain": [
       "\u001b[2;36m[04/17/24 18:26:06]\u001b[0m\u001b[2;36m \u001b[0m\u001b[34mINFO    \u001b[0m Saving masks to                                                                       \n",
       "\u001b[2;36m                    \u001b[0m         \u001b[35m/home/cerebriu/data/datasets/raw/CEREBRIU/1.2.840.113845.13.13849.872975378.6347672931\u001b[0m\n",
       "\u001b[2;36m                    \u001b[0m         \u001b[35m18/\u001b[0m\u001b[95msegmentations\u001b[0m directory                                                            \n"
      ]
     },
     "metadata": {},
     "output_type": "display_data"
    },
    {
     "name": "stderr",
     "output_type": "stream",
     "text": [
      "INFO:redbrick:Saving masks to /home/cerebriu/data/datasets/raw/CEREBRIU/1.2.840.113845.13.13849.872975378.634767293118/segmentations directory\n"
     ]
    },
    {
     "data": {
      "text/html": [
       "<pre style=\"white-space:pre;overflow-x:auto;line-height:normal;font-family:Menlo,'DejaVu Sans Mono',consolas,'Courier New',monospace\"><span style=\"color: #7fbfbf; text-decoration-color: #7fbfbf\">                    </span><span style=\"color: #000080; text-decoration-color: #000080\">INFO    </span> Fetching task: <span style=\"color: #ffff00; text-decoration-color: #ffff00\">1691ad00-5162-45ea-a20f-0d89c3e1b422</span>                                   \n",
       "</pre>\n"
      ],
      "text/plain": [
       "\u001b[2;36m                   \u001b[0m\u001b[2;36m \u001b[0m\u001b[34mINFO    \u001b[0m Fetching task: \u001b[93m1691ad00-5162-45ea-a20f-0d89c3e1b422\u001b[0m                                   \n"
      ]
     },
     "metadata": {},
     "output_type": "display_data"
    },
    {
     "name": "stderr",
     "output_type": "stream",
     "text": [
      "INFO:redbrick:Fetching task: 1691ad00-5162-45ea-a20f-0d89c3e1b422\n",
      "                                                                          \r"
     ]
    },
    {
     "name": "stdout",
     "output_type": "stream",
     "text": [
      "---------------------------------------\n",
      "1.2.840.113845.13.14537.872975378.3343495815236\n"
     ]
    },
    {
     "data": {
      "text/html": [
       "<pre style=\"white-space:pre;overflow-x:auto;line-height:normal;font-family:Menlo,'DejaVu Sans Mono',consolas,'Courier New',monospace\"><span style=\"color: #7fbfbf; text-decoration-color: #7fbfbf\">[04/17/24 18:26:24] </span><span style=\"color: #000080; text-decoration-color: #000080\">INFO    </span> Saving masks to                                                                       \n",
       "<span style=\"color: #7fbfbf; text-decoration-color: #7fbfbf\">                    </span>         <span style=\"color: #800080; text-decoration-color: #800080\">/home/cerebriu/data/datasets/raw/CEREBRIU/1.2.840.113845.13.14537.872975378.3343495815</span>\n",
       "<span style=\"color: #7fbfbf; text-decoration-color: #7fbfbf\">                    </span>         <span style=\"color: #800080; text-decoration-color: #800080\">236/</span><span style=\"color: #ff00ff; text-decoration-color: #ff00ff\">segmentations</span> directory                                                           \n",
       "</pre>\n"
      ],
      "text/plain": [
       "\u001b[2;36m[04/17/24 18:26:24]\u001b[0m\u001b[2;36m \u001b[0m\u001b[34mINFO    \u001b[0m Saving masks to                                                                       \n",
       "\u001b[2;36m                    \u001b[0m         \u001b[35m/home/cerebriu/data/datasets/raw/CEREBRIU/1.2.840.113845.13.14537.872975378.3343495815\u001b[0m\n",
       "\u001b[2;36m                    \u001b[0m         \u001b[35m236/\u001b[0m\u001b[95msegmentations\u001b[0m directory                                                           \n"
      ]
     },
     "metadata": {},
     "output_type": "display_data"
    },
    {
     "name": "stderr",
     "output_type": "stream",
     "text": [
      "INFO:redbrick:Saving masks to /home/cerebriu/data/datasets/raw/CEREBRIU/1.2.840.113845.13.14537.872975378.3343495815236/segmentations directory\n"
     ]
    },
    {
     "data": {
      "text/html": [
       "<pre style=\"white-space:pre;overflow-x:auto;line-height:normal;font-family:Menlo,'DejaVu Sans Mono',consolas,'Courier New',monospace\"><span style=\"color: #7fbfbf; text-decoration-color: #7fbfbf\">                    </span><span style=\"color: #000080; text-decoration-color: #000080\">INFO    </span> Fetching task: <span style=\"color: #ffff00; text-decoration-color: #ffff00\">2e2f0a36-2cdc-4c5a-9ba4-6d9907162ee6</span>                                   \n",
       "</pre>\n"
      ],
      "text/plain": [
       "\u001b[2;36m                   \u001b[0m\u001b[2;36m \u001b[0m\u001b[34mINFO    \u001b[0m Fetching task: \u001b[93m2e2f0a36-2cdc-4c5a-9ba4-6d9907162ee6\u001b[0m                                   \n"
      ]
     },
     "metadata": {},
     "output_type": "display_data"
    },
    {
     "name": "stderr",
     "output_type": "stream",
     "text": [
      "INFO:redbrick:Fetching task: 2e2f0a36-2cdc-4c5a-9ba4-6d9907162ee6\n",
      "                                                                          \r"
     ]
    },
    {
     "name": "stdout",
     "output_type": "stream",
     "text": [
      "---------------------------------------\n",
      "1.2.840.113845.11.1000000001815528930.20201010223701.3603014\n"
     ]
    },
    {
     "data": {
      "text/html": [
       "<pre style=\"white-space:pre;overflow-x:auto;line-height:normal;font-family:Menlo,'DejaVu Sans Mono',consolas,'Courier New',monospace\"><span style=\"color: #7fbfbf; text-decoration-color: #7fbfbf\">[04/17/24 18:26:32] </span><span style=\"color: #000080; text-decoration-color: #000080\">INFO    </span> Saving masks to                                                                       \n",
       "<span style=\"color: #7fbfbf; text-decoration-color: #7fbfbf\">                    </span>         <span style=\"color: #800080; text-decoration-color: #800080\">/home/cerebriu/data/datasets/raw/CEREBRIU/1.2.840.113845.11.1000000001815528930.202010</span>\n",
       "<span style=\"color: #7fbfbf; text-decoration-color: #7fbfbf\">                    </span>         <span style=\"color: #800080; text-decoration-color: #800080\">10223701.3603014/</span><span style=\"color: #ff00ff; text-decoration-color: #ff00ff\">segmentations</span> directory                                              \n",
       "</pre>\n"
      ],
      "text/plain": [
       "\u001b[2;36m[04/17/24 18:26:32]\u001b[0m\u001b[2;36m \u001b[0m\u001b[34mINFO    \u001b[0m Saving masks to                                                                       \n",
       "\u001b[2;36m                    \u001b[0m         \u001b[35m/home/cerebriu/data/datasets/raw/CEREBRIU/1.2.840.113845.11.1000000001815528930.202010\u001b[0m\n",
       "\u001b[2;36m                    \u001b[0m         \u001b[35m10223701.3603014/\u001b[0m\u001b[95msegmentations\u001b[0m directory                                              \n"
      ]
     },
     "metadata": {},
     "output_type": "display_data"
    },
    {
     "name": "stderr",
     "output_type": "stream",
     "text": [
      "INFO:redbrick:Saving masks to /home/cerebriu/data/datasets/raw/CEREBRIU/1.2.840.113845.11.1000000001815528930.20201010223701.3603014/segmentations directory\n"
     ]
    },
    {
     "data": {
      "text/html": [
       "<pre style=\"white-space:pre;overflow-x:auto;line-height:normal;font-family:Menlo,'DejaVu Sans Mono',consolas,'Courier New',monospace\"><span style=\"color: #7fbfbf; text-decoration-color: #7fbfbf\">                    </span><span style=\"color: #000080; text-decoration-color: #000080\">INFO    </span> Fetching task: <span style=\"color: #ffff00; text-decoration-color: #ffff00\">bc0fa2ec-5738-4eab-bb8a-ace9f2ecbb71</span>                                   \n",
       "</pre>\n"
      ],
      "text/plain": [
       "\u001b[2;36m                   \u001b[0m\u001b[2;36m \u001b[0m\u001b[34mINFO    \u001b[0m Fetching task: \u001b[93mbc0fa2ec-5738-4eab-bb8a-ace9f2ecbb71\u001b[0m                                   \n"
      ]
     },
     "metadata": {},
     "output_type": "display_data"
    },
    {
     "name": "stderr",
     "output_type": "stream",
     "text": [
      "INFO:redbrick:Fetching task: bc0fa2ec-5738-4eab-bb8a-ace9f2ecbb71\n",
      "                                                                          \r"
     ]
    },
    {
     "name": "stdout",
     "output_type": "stream",
     "text": [
      "---------------------------------------\n",
      "1.3.12.2.1107.5.2.6.24111.30000019082104124198400000049\n"
     ]
    },
    {
     "data": {
      "text/html": [
       "<pre style=\"white-space:pre;overflow-x:auto;line-height:normal;font-family:Menlo,'DejaVu Sans Mono',consolas,'Courier New',monospace\"><span style=\"color: #7fbfbf; text-decoration-color: #7fbfbf\">[04/17/24 18:26:41] </span><span style=\"color: #000080; text-decoration-color: #000080\">INFO    </span> Saving masks to                                                                       \n",
       "<span style=\"color: #7fbfbf; text-decoration-color: #7fbfbf\">                    </span>         <span style=\"color: #800080; text-decoration-color: #800080\">/home/cerebriu/data/datasets/raw/CEREBRIU/1.3.12.2.1107.5.2.6.24111.300000190821041241</span>\n",
       "<span style=\"color: #7fbfbf; text-decoration-color: #7fbfbf\">                    </span>         <span style=\"color: #800080; text-decoration-color: #800080\">98400000049/</span><span style=\"color: #ff00ff; text-decoration-color: #ff00ff\">segmentations</span> directory                                                   \n",
       "</pre>\n"
      ],
      "text/plain": [
       "\u001b[2;36m[04/17/24 18:26:41]\u001b[0m\u001b[2;36m \u001b[0m\u001b[34mINFO    \u001b[0m Saving masks to                                                                       \n",
       "\u001b[2;36m                    \u001b[0m         \u001b[35m/home/cerebriu/data/datasets/raw/CEREBRIU/1.3.12.2.1107.5.2.6.24111.300000190821041241\u001b[0m\n",
       "\u001b[2;36m                    \u001b[0m         \u001b[35m98400000049/\u001b[0m\u001b[95msegmentations\u001b[0m directory                                                   \n"
      ]
     },
     "metadata": {},
     "output_type": "display_data"
    },
    {
     "name": "stderr",
     "output_type": "stream",
     "text": [
      "INFO:redbrick:Saving masks to /home/cerebriu/data/datasets/raw/CEREBRIU/1.3.12.2.1107.5.2.6.24111.30000019082104124198400000049/segmentations directory\n"
     ]
    },
    {
     "data": {
      "text/html": [
       "<pre style=\"white-space:pre;overflow-x:auto;line-height:normal;font-family:Menlo,'DejaVu Sans Mono',consolas,'Courier New',monospace\"><span style=\"color: #7fbfbf; text-decoration-color: #7fbfbf\">                    </span><span style=\"color: #000080; text-decoration-color: #000080\">INFO    </span> Fetching task: <span style=\"color: #ffff00; text-decoration-color: #ffff00\">3b895b01-0814-4572-9ff2-3e1b9ccc26bb</span>                                   \n",
       "</pre>\n"
      ],
      "text/plain": [
       "\u001b[2;36m                   \u001b[0m\u001b[2;36m \u001b[0m\u001b[34mINFO    \u001b[0m Fetching task: \u001b[93m3b895b01-0814-4572-9ff2-3e1b9ccc26bb\u001b[0m                                   \n"
      ]
     },
     "metadata": {},
     "output_type": "display_data"
    },
    {
     "name": "stderr",
     "output_type": "stream",
     "text": [
      "INFO:redbrick:Fetching task: 3b895b01-0814-4572-9ff2-3e1b9ccc26bb\n",
      "                                                                        \r"
     ]
    },
    {
     "name": "stdout",
     "output_type": "stream",
     "text": [
      "---------------------------------------\n",
      "1.3.12.2.1107.5.2.6.24111.30000019080803320789000000046\n"
     ]
    },
    {
     "data": {
      "text/html": [
       "<pre style=\"white-space:pre;overflow-x:auto;line-height:normal;font-family:Menlo,'DejaVu Sans Mono',consolas,'Courier New',monospace\"><span style=\"color: #7fbfbf; text-decoration-color: #7fbfbf\">[04/17/24 18:26:45] </span><span style=\"color: #000080; text-decoration-color: #000080\">INFO    </span> Saving masks to                                                                       \n",
       "<span style=\"color: #7fbfbf; text-decoration-color: #7fbfbf\">                    </span>         <span style=\"color: #800080; text-decoration-color: #800080\">/home/cerebriu/data/datasets/raw/CEREBRIU/1.3.12.2.1107.5.2.6.24111.300000190808033207</span>\n",
       "<span style=\"color: #7fbfbf; text-decoration-color: #7fbfbf\">                    </span>         <span style=\"color: #800080; text-decoration-color: #800080\">89000000046/</span><span style=\"color: #ff00ff; text-decoration-color: #ff00ff\">segmentations</span> directory                                                   \n",
       "</pre>\n"
      ],
      "text/plain": [
       "\u001b[2;36m[04/17/24 18:26:45]\u001b[0m\u001b[2;36m \u001b[0m\u001b[34mINFO    \u001b[0m Saving masks to                                                                       \n",
       "\u001b[2;36m                    \u001b[0m         \u001b[35m/home/cerebriu/data/datasets/raw/CEREBRIU/1.3.12.2.1107.5.2.6.24111.300000190808033207\u001b[0m\n",
       "\u001b[2;36m                    \u001b[0m         \u001b[35m89000000046/\u001b[0m\u001b[95msegmentations\u001b[0m directory                                                   \n"
      ]
     },
     "metadata": {},
     "output_type": "display_data"
    },
    {
     "name": "stderr",
     "output_type": "stream",
     "text": [
      "INFO:redbrick:Saving masks to /home/cerebriu/data/datasets/raw/CEREBRIU/1.3.12.2.1107.5.2.6.24111.30000019080803320789000000046/segmentations directory\n"
     ]
    },
    {
     "data": {
      "text/html": [
       "<pre style=\"white-space:pre;overflow-x:auto;line-height:normal;font-family:Menlo,'DejaVu Sans Mono',consolas,'Courier New',monospace\"><span style=\"color: #7fbfbf; text-decoration-color: #7fbfbf\">                    </span><span style=\"color: #000080; text-decoration-color: #000080\">INFO    </span> Fetching task: <span style=\"color: #ffff00; text-decoration-color: #ffff00\">54ec9de1-03d1-47ee-a1d8-cc0b6b494ff3</span>                                   \n",
       "</pre>\n"
      ],
      "text/plain": [
       "\u001b[2;36m                   \u001b[0m\u001b[2;36m \u001b[0m\u001b[34mINFO    \u001b[0m Fetching task: \u001b[93m54ec9de1-03d1-47ee-a1d8-cc0b6b494ff3\u001b[0m                                   \n"
      ]
     },
     "metadata": {},
     "output_type": "display_data"
    },
    {
     "name": "stderr",
     "output_type": "stream",
     "text": [
      "INFO:redbrick:Fetching task: 54ec9de1-03d1-47ee-a1d8-cc0b6b494ff3\n",
      "                                                                        \r"
     ]
    },
    {
     "name": "stdout",
     "output_type": "stream",
     "text": [
      "---------------------------------------\n",
      "1.3.12.2.1107.5.2.6.24111.30000019082104124198400000043\n"
     ]
    },
    {
     "data": {
      "text/html": [
       "<pre style=\"white-space:pre;overflow-x:auto;line-height:normal;font-family:Menlo,'DejaVu Sans Mono',consolas,'Courier New',monospace\"><span style=\"color: #7fbfbf; text-decoration-color: #7fbfbf\">[04/17/24 18:26:50] </span><span style=\"color: #000080; text-decoration-color: #000080\">INFO    </span> Saving masks to                                                                       \n",
       "<span style=\"color: #7fbfbf; text-decoration-color: #7fbfbf\">                    </span>         <span style=\"color: #800080; text-decoration-color: #800080\">/home/cerebriu/data/datasets/raw/CEREBRIU/1.3.12.2.1107.5.2.6.24111.300000190821041241</span>\n",
       "<span style=\"color: #7fbfbf; text-decoration-color: #7fbfbf\">                    </span>         <span style=\"color: #800080; text-decoration-color: #800080\">98400000043/</span><span style=\"color: #ff00ff; text-decoration-color: #ff00ff\">segmentations</span> directory                                                   \n",
       "</pre>\n"
      ],
      "text/plain": [
       "\u001b[2;36m[04/17/24 18:26:50]\u001b[0m\u001b[2;36m \u001b[0m\u001b[34mINFO    \u001b[0m Saving masks to                                                                       \n",
       "\u001b[2;36m                    \u001b[0m         \u001b[35m/home/cerebriu/data/datasets/raw/CEREBRIU/1.3.12.2.1107.5.2.6.24111.300000190821041241\u001b[0m\n",
       "\u001b[2;36m                    \u001b[0m         \u001b[35m98400000043/\u001b[0m\u001b[95msegmentations\u001b[0m directory                                                   \n"
      ]
     },
     "metadata": {},
     "output_type": "display_data"
    },
    {
     "name": "stderr",
     "output_type": "stream",
     "text": [
      "INFO:redbrick:Saving masks to /home/cerebriu/data/datasets/raw/CEREBRIU/1.3.12.2.1107.5.2.6.24111.30000019082104124198400000043/segmentations directory\n"
     ]
    },
    {
     "data": {
      "text/html": [
       "<pre style=\"white-space:pre;overflow-x:auto;line-height:normal;font-family:Menlo,'DejaVu Sans Mono',consolas,'Courier New',monospace\"><span style=\"color: #7fbfbf; text-decoration-color: #7fbfbf\">                    </span><span style=\"color: #000080; text-decoration-color: #000080\">INFO    </span> Fetching task: <span style=\"color: #ffff00; text-decoration-color: #ffff00\">5c7dd3bb-cdf5-42e5-9c4b-b309128a2af6</span>                                   \n",
       "</pre>\n"
      ],
      "text/plain": [
       "\u001b[2;36m                   \u001b[0m\u001b[2;36m \u001b[0m\u001b[34mINFO    \u001b[0m Fetching task: \u001b[93m5c7dd3bb-cdf5-42e5-9c4b-b309128a2af6\u001b[0m                                   \n"
      ]
     },
     "metadata": {},
     "output_type": "display_data"
    },
    {
     "name": "stderr",
     "output_type": "stream",
     "text": [
      "INFO:redbrick:Fetching task: 5c7dd3bb-cdf5-42e5-9c4b-b309128a2af6\n",
      "                                                                        \r"
     ]
    },
    {
     "name": "stdout",
     "output_type": "stream",
     "text": [
      "---------------------------------------\n",
      "1.3.12.2.1107.5.2.6.24111.30000019082703511493700000001\n"
     ]
    },
    {
     "data": {
      "text/html": [
       "<pre style=\"white-space:pre;overflow-x:auto;line-height:normal;font-family:Menlo,'DejaVu Sans Mono',consolas,'Courier New',monospace\"><span style=\"color: #7fbfbf; text-decoration-color: #7fbfbf\">[04/17/24 18:26:57] </span><span style=\"color: #000080; text-decoration-color: #000080\">INFO    </span> Saving masks to                                                                       \n",
       "<span style=\"color: #7fbfbf; text-decoration-color: #7fbfbf\">                    </span>         <span style=\"color: #800080; text-decoration-color: #800080\">/home/cerebriu/data/datasets/raw/CEREBRIU/1.3.12.2.1107.5.2.6.24111.300000190827035114</span>\n",
       "<span style=\"color: #7fbfbf; text-decoration-color: #7fbfbf\">                    </span>         <span style=\"color: #800080; text-decoration-color: #800080\">93700000001/</span><span style=\"color: #ff00ff; text-decoration-color: #ff00ff\">segmentations</span> directory                                                   \n",
       "</pre>\n"
      ],
      "text/plain": [
       "\u001b[2;36m[04/17/24 18:26:57]\u001b[0m\u001b[2;36m \u001b[0m\u001b[34mINFO    \u001b[0m Saving masks to                                                                       \n",
       "\u001b[2;36m                    \u001b[0m         \u001b[35m/home/cerebriu/data/datasets/raw/CEREBRIU/1.3.12.2.1107.5.2.6.24111.300000190827035114\u001b[0m\n",
       "\u001b[2;36m                    \u001b[0m         \u001b[35m93700000001/\u001b[0m\u001b[95msegmentations\u001b[0m directory                                                   \n"
      ]
     },
     "metadata": {},
     "output_type": "display_data"
    },
    {
     "name": "stderr",
     "output_type": "stream",
     "text": [
      "INFO:redbrick:Saving masks to /home/cerebriu/data/datasets/raw/CEREBRIU/1.3.12.2.1107.5.2.6.24111.30000019082703511493700000001/segmentations directory\n"
     ]
    },
    {
     "data": {
      "text/html": [
       "<pre style=\"white-space:pre;overflow-x:auto;line-height:normal;font-family:Menlo,'DejaVu Sans Mono',consolas,'Courier New',monospace\"><span style=\"color: #7fbfbf; text-decoration-color: #7fbfbf\">                    </span><span style=\"color: #000080; text-decoration-color: #000080\">INFO    </span> Fetching task: <span style=\"color: #ffff00; text-decoration-color: #ffff00\">e438f93f-9ecf-4f06-8e1e-1135e5a190f9</span>                                   \n",
       "</pre>\n"
      ],
      "text/plain": [
       "\u001b[2;36m                   \u001b[0m\u001b[2;36m \u001b[0m\u001b[34mINFO    \u001b[0m Fetching task: \u001b[93me438f93f-9ecf-4f06-8e1e-1135e5a190f9\u001b[0m                                   \n"
      ]
     },
     "metadata": {},
     "output_type": "display_data"
    },
    {
     "name": "stderr",
     "output_type": "stream",
     "text": [
      "INFO:redbrick:Fetching task: e438f93f-9ecf-4f06-8e1e-1135e5a190f9\n",
      "                                                                        \r"
     ]
    },
    {
     "name": "stdout",
     "output_type": "stream",
     "text": [
      "---------------------------------------\n",
      "1.3.12.2.1107.5.2.6.24111.30000019082703511493700000040\n"
     ]
    },
    {
     "data": {
      "text/html": [
       "<pre style=\"white-space:pre;overflow-x:auto;line-height:normal;font-family:Menlo,'DejaVu Sans Mono',consolas,'Courier New',monospace\"><span style=\"color: #7fbfbf; text-decoration-color: #7fbfbf\">[04/17/24 18:27:01] </span><span style=\"color: #000080; text-decoration-color: #000080\">INFO    </span> Saving masks to                                                                       \n",
       "<span style=\"color: #7fbfbf; text-decoration-color: #7fbfbf\">                    </span>         <span style=\"color: #800080; text-decoration-color: #800080\">/home/cerebriu/data/datasets/raw/CEREBRIU/1.3.12.2.1107.5.2.6.24111.300000190827035114</span>\n",
       "<span style=\"color: #7fbfbf; text-decoration-color: #7fbfbf\">                    </span>         <span style=\"color: #800080; text-decoration-color: #800080\">93700000040/</span><span style=\"color: #ff00ff; text-decoration-color: #ff00ff\">segmentations</span> directory                                                   \n",
       "</pre>\n"
      ],
      "text/plain": [
       "\u001b[2;36m[04/17/24 18:27:01]\u001b[0m\u001b[2;36m \u001b[0m\u001b[34mINFO    \u001b[0m Saving masks to                                                                       \n",
       "\u001b[2;36m                    \u001b[0m         \u001b[35m/home/cerebriu/data/datasets/raw/CEREBRIU/1.3.12.2.1107.5.2.6.24111.300000190827035114\u001b[0m\n",
       "\u001b[2;36m                    \u001b[0m         \u001b[35m93700000040/\u001b[0m\u001b[95msegmentations\u001b[0m directory                                                   \n"
      ]
     },
     "metadata": {},
     "output_type": "display_data"
    },
    {
     "name": "stderr",
     "output_type": "stream",
     "text": [
      "INFO:redbrick:Saving masks to /home/cerebriu/data/datasets/raw/CEREBRIU/1.3.12.2.1107.5.2.6.24111.30000019082703511493700000040/segmentations directory\n"
     ]
    },
    {
     "data": {
      "text/html": [
       "<pre style=\"white-space:pre;overflow-x:auto;line-height:normal;font-family:Menlo,'DejaVu Sans Mono',consolas,'Courier New',monospace\"><span style=\"color: #7fbfbf; text-decoration-color: #7fbfbf\">                    </span><span style=\"color: #000080; text-decoration-color: #000080\">INFO    </span> Fetching task: <span style=\"color: #ffff00; text-decoration-color: #ffff00\">06218ebf-c771-46a9-b07a-e85c9f8f4e26</span>                                   \n",
       "</pre>\n"
      ],
      "text/plain": [
       "\u001b[2;36m                   \u001b[0m\u001b[2;36m \u001b[0m\u001b[34mINFO    \u001b[0m Fetching task: \u001b[93m06218ebf-c771-46a9-b07a-e85c9f8f4e26\u001b[0m                                   \n"
      ]
     },
     "metadata": {},
     "output_type": "display_data"
    },
    {
     "name": "stderr",
     "output_type": "stream",
     "text": [
      "INFO:redbrick:Fetching task: 06218ebf-c771-46a9-b07a-e85c9f8f4e26\n",
      "                                                                        \r"
     ]
    },
    {
     "name": "stdout",
     "output_type": "stream",
     "text": [
      "---------------------------------------\n",
      "1.2.826.1.3680043.9.5282.150415.650.650232327158\n"
     ]
    },
    {
     "data": {
      "text/html": [
       "<pre style=\"white-space:pre;overflow-x:auto;line-height:normal;font-family:Menlo,'DejaVu Sans Mono',consolas,'Courier New',monospace\"><span style=\"color: #7fbfbf; text-decoration-color: #7fbfbf\">[04/17/24 18:27:06] </span><span style=\"color: #000080; text-decoration-color: #000080\">INFO    </span> Saving masks to                                                                       \n",
       "<span style=\"color: #7fbfbf; text-decoration-color: #7fbfbf\">                    </span>         <span style=\"color: #800080; text-decoration-color: #800080\">/home/cerebriu/data/datasets/raw/CEREBRIU/1.2.826.1.3680043.9.5282.150415.650.65023232</span>\n",
       "<span style=\"color: #7fbfbf; text-decoration-color: #7fbfbf\">                    </span>         <span style=\"color: #800080; text-decoration-color: #800080\">7158/</span><span style=\"color: #ff00ff; text-decoration-color: #ff00ff\">segmentations</span> directory                                                          \n",
       "</pre>\n"
      ],
      "text/plain": [
       "\u001b[2;36m[04/17/24 18:27:06]\u001b[0m\u001b[2;36m \u001b[0m\u001b[34mINFO    \u001b[0m Saving masks to                                                                       \n",
       "\u001b[2;36m                    \u001b[0m         \u001b[35m/home/cerebriu/data/datasets/raw/CEREBRIU/1.2.826.1.3680043.9.5282.150415.650.65023232\u001b[0m\n",
       "\u001b[2;36m                    \u001b[0m         \u001b[35m7158/\u001b[0m\u001b[95msegmentations\u001b[0m directory                                                          \n"
      ]
     },
     "metadata": {},
     "output_type": "display_data"
    },
    {
     "name": "stderr",
     "output_type": "stream",
     "text": [
      "INFO:redbrick:Saving masks to /home/cerebriu/data/datasets/raw/CEREBRIU/1.2.826.1.3680043.9.5282.150415.650.650232327158/segmentations directory\n"
     ]
    },
    {
     "data": {
      "text/html": [
       "<pre style=\"white-space:pre;overflow-x:auto;line-height:normal;font-family:Menlo,'DejaVu Sans Mono',consolas,'Courier New',monospace\"><span style=\"color: #7fbfbf; text-decoration-color: #7fbfbf\">                    </span><span style=\"color: #000080; text-decoration-color: #000080\">INFO    </span> Fetching task: <span style=\"color: #ffff00; text-decoration-color: #ffff00\">858a0b73-cc00-4012-a8d8-088c74de57ee</span>                                   \n",
       "</pre>\n"
      ],
      "text/plain": [
       "\u001b[2;36m                   \u001b[0m\u001b[2;36m \u001b[0m\u001b[34mINFO    \u001b[0m Fetching task: \u001b[93m858a0b73-cc00-4012-a8d8-088c74de57ee\u001b[0m                                   \n"
      ]
     },
     "metadata": {},
     "output_type": "display_data"
    },
    {
     "name": "stderr",
     "output_type": "stream",
     "text": [
      "INFO:redbrick:Fetching task: 858a0b73-cc00-4012-a8d8-088c74de57ee\n",
      "                                                                        \r"
     ]
    },
    {
     "name": "stdout",
     "output_type": "stream",
     "text": [
      "---------------------------------------\n",
      "1.2.826.1.3680043.9.5282.150415.34242.3424222232714\n"
     ]
    },
    {
     "data": {
      "text/html": [
       "<pre style=\"white-space:pre;overflow-x:auto;line-height:normal;font-family:Menlo,'DejaVu Sans Mono',consolas,'Courier New',monospace\"><span style=\"color: #7fbfbf; text-decoration-color: #7fbfbf\">[04/17/24 18:27:11] </span><span style=\"color: #000080; text-decoration-color: #000080\">INFO    </span> Saving masks to                                                                       \n",
       "<span style=\"color: #7fbfbf; text-decoration-color: #7fbfbf\">                    </span>         <span style=\"color: #800080; text-decoration-color: #800080\">/home/cerebriu/data/datasets/raw/CEREBRIU/1.2.826.1.3680043.9.5282.150415.34242.342422</span>\n",
       "<span style=\"color: #7fbfbf; text-decoration-color: #7fbfbf\">                    </span>         <span style=\"color: #800080; text-decoration-color: #800080\">2232714/</span><span style=\"color: #ff00ff; text-decoration-color: #ff00ff\">segmentations</span> directory                                                       \n",
       "</pre>\n"
      ],
      "text/plain": [
       "\u001b[2;36m[04/17/24 18:27:11]\u001b[0m\u001b[2;36m \u001b[0m\u001b[34mINFO    \u001b[0m Saving masks to                                                                       \n",
       "\u001b[2;36m                    \u001b[0m         \u001b[35m/home/cerebriu/data/datasets/raw/CEREBRIU/1.2.826.1.3680043.9.5282.150415.34242.342422\u001b[0m\n",
       "\u001b[2;36m                    \u001b[0m         \u001b[35m2232714/\u001b[0m\u001b[95msegmentations\u001b[0m directory                                                       \n"
      ]
     },
     "metadata": {},
     "output_type": "display_data"
    },
    {
     "name": "stderr",
     "output_type": "stream",
     "text": [
      "INFO:redbrick:Saving masks to /home/cerebriu/data/datasets/raw/CEREBRIU/1.2.826.1.3680043.9.5282.150415.34242.3424222232714/segmentations directory\n"
     ]
    },
    {
     "data": {
      "text/html": [
       "<pre style=\"white-space:pre;overflow-x:auto;line-height:normal;font-family:Menlo,'DejaVu Sans Mono',consolas,'Courier New',monospace\"><span style=\"color: #7fbfbf; text-decoration-color: #7fbfbf\">                    </span><span style=\"color: #000080; text-decoration-color: #000080\">INFO    </span> Fetching task: <span style=\"color: #ffff00; text-decoration-color: #ffff00\">df4dda34-8f82-411c-a942-a00f5a897b6b</span>                                   \n",
       "</pre>\n"
      ],
      "text/plain": [
       "\u001b[2;36m                   \u001b[0m\u001b[2;36m \u001b[0m\u001b[34mINFO    \u001b[0m Fetching task: \u001b[93mdf4dda34-8f82-411c-a942-a00f5a897b6b\u001b[0m                                   \n"
      ]
     },
     "metadata": {},
     "output_type": "display_data"
    },
    {
     "name": "stderr",
     "output_type": "stream",
     "text": [
      "INFO:redbrick:Fetching task: df4dda34-8f82-411c-a942-a00f5a897b6b\n",
      "                                                                        \r"
     ]
    },
    {
     "name": "stdout",
     "output_type": "stream",
     "text": [
      "---------------------------------------\n",
      "1.2.826.1.3680043.9.5282.150415.35985.3598522192214\n"
     ]
    },
    {
     "data": {
      "text/html": [
       "<pre style=\"white-space:pre;overflow-x:auto;line-height:normal;font-family:Menlo,'DejaVu Sans Mono',consolas,'Courier New',monospace\"><span style=\"color: #7fbfbf; text-decoration-color: #7fbfbf\">[04/17/24 18:27:15] </span><span style=\"color: #000080; text-decoration-color: #000080\">INFO    </span> Saving masks to                                                                       \n",
       "<span style=\"color: #7fbfbf; text-decoration-color: #7fbfbf\">                    </span>         <span style=\"color: #800080; text-decoration-color: #800080\">/home/cerebriu/data/datasets/raw/CEREBRIU/1.2.826.1.3680043.9.5282.150415.35985.359852</span>\n",
       "<span style=\"color: #7fbfbf; text-decoration-color: #7fbfbf\">                    </span>         <span style=\"color: #800080; text-decoration-color: #800080\">2192214/</span><span style=\"color: #ff00ff; text-decoration-color: #ff00ff\">segmentations</span> directory                                                       \n",
       "</pre>\n"
      ],
      "text/plain": [
       "\u001b[2;36m[04/17/24 18:27:15]\u001b[0m\u001b[2;36m \u001b[0m\u001b[34mINFO    \u001b[0m Saving masks to                                                                       \n",
       "\u001b[2;36m                    \u001b[0m         \u001b[35m/home/cerebriu/data/datasets/raw/CEREBRIU/1.2.826.1.3680043.9.5282.150415.35985.359852\u001b[0m\n",
       "\u001b[2;36m                    \u001b[0m         \u001b[35m2192214/\u001b[0m\u001b[95msegmentations\u001b[0m directory                                                       \n"
      ]
     },
     "metadata": {},
     "output_type": "display_data"
    },
    {
     "name": "stderr",
     "output_type": "stream",
     "text": [
      "INFO:redbrick:Saving masks to /home/cerebriu/data/datasets/raw/CEREBRIU/1.2.826.1.3680043.9.5282.150415.35985.3598522192214/segmentations directory\n"
     ]
    },
    {
     "data": {
      "text/html": [
       "<pre style=\"white-space:pre;overflow-x:auto;line-height:normal;font-family:Menlo,'DejaVu Sans Mono',consolas,'Courier New',monospace\"><span style=\"color: #7fbfbf; text-decoration-color: #7fbfbf\">                    </span><span style=\"color: #000080; text-decoration-color: #000080\">INFO    </span> Fetching task: <span style=\"color: #ffff00; text-decoration-color: #ffff00\">e1901aa4-dae4-463c-ad24-9b0e23469a84</span>                                   \n",
       "</pre>\n"
      ],
      "text/plain": [
       "\u001b[2;36m                   \u001b[0m\u001b[2;36m \u001b[0m\u001b[34mINFO    \u001b[0m Fetching task: \u001b[93me1901aa4-dae4-463c-ad24-9b0e23469a84\u001b[0m                                   \n"
      ]
     },
     "metadata": {},
     "output_type": "display_data"
    },
    {
     "name": "stderr",
     "output_type": "stream",
     "text": [
      "INFO:redbrick:Fetching task: e1901aa4-dae4-463c-ad24-9b0e23469a84\n",
      "                                                                          \r"
     ]
    },
    {
     "name": "stdout",
     "output_type": "stream",
     "text": [
      "---------------------------------------\n",
      "1.2.826.1.3680043.9.5282.150415.14832.16014832222376\n"
     ]
    },
    {
     "data": {
      "text/html": [
       "<pre style=\"white-space:pre;overflow-x:auto;line-height:normal;font-family:Menlo,'DejaVu Sans Mono',consolas,'Courier New',monospace\"><span style=\"color: #7fbfbf; text-decoration-color: #7fbfbf\">[04/17/24 18:27:20] </span><span style=\"color: #000080; text-decoration-color: #000080\">INFO    </span> Saving masks to                                                                       \n",
       "<span style=\"color: #7fbfbf; text-decoration-color: #7fbfbf\">                    </span>         <span style=\"color: #800080; text-decoration-color: #800080\">/home/cerebriu/data/datasets/raw/CEREBRIU/1.2.826.1.3680043.9.5282.150415.14832.160148</span>\n",
       "<span style=\"color: #7fbfbf; text-decoration-color: #7fbfbf\">                    </span>         <span style=\"color: #800080; text-decoration-color: #800080\">32222376/</span><span style=\"color: #ff00ff; text-decoration-color: #ff00ff\">segmentations</span> directory                                                      \n",
       "</pre>\n"
      ],
      "text/plain": [
       "\u001b[2;36m[04/17/24 18:27:20]\u001b[0m\u001b[2;36m \u001b[0m\u001b[34mINFO    \u001b[0m Saving masks to                                                                       \n",
       "\u001b[2;36m                    \u001b[0m         \u001b[35m/home/cerebriu/data/datasets/raw/CEREBRIU/1.2.826.1.3680043.9.5282.150415.14832.160148\u001b[0m\n",
       "\u001b[2;36m                    \u001b[0m         \u001b[35m32222376/\u001b[0m\u001b[95msegmentations\u001b[0m directory                                                      \n"
      ]
     },
     "metadata": {},
     "output_type": "display_data"
    },
    {
     "name": "stderr",
     "output_type": "stream",
     "text": [
      "INFO:redbrick:Saving masks to /home/cerebriu/data/datasets/raw/CEREBRIU/1.2.826.1.3680043.9.5282.150415.14832.16014832222376/segmentations directory\n"
     ]
    },
    {
     "data": {
      "text/html": [
       "<pre style=\"white-space:pre;overflow-x:auto;line-height:normal;font-family:Menlo,'DejaVu Sans Mono',consolas,'Courier New',monospace\"><span style=\"color: #7fbfbf; text-decoration-color: #7fbfbf\">                    </span><span style=\"color: #000080; text-decoration-color: #000080\">INFO    </span> Fetching task: <span style=\"color: #ffff00; text-decoration-color: #ffff00\">238bce2f-217a-4ef1-af56-78e0b5419a7f</span>                                   \n",
       "</pre>\n"
      ],
      "text/plain": [
       "\u001b[2;36m                   \u001b[0m\u001b[2;36m \u001b[0m\u001b[34mINFO    \u001b[0m Fetching task: \u001b[93m238bce2f-217a-4ef1-af56-78e0b5419a7f\u001b[0m                                   \n"
      ]
     },
     "metadata": {},
     "output_type": "display_data"
    },
    {
     "name": "stderr",
     "output_type": "stream",
     "text": [
      "INFO:redbrick:Fetching task: 238bce2f-217a-4ef1-af56-78e0b5419a7f\n",
      "                                                                        \r"
     ]
    },
    {
     "name": "stdout",
     "output_type": "stream",
     "text": [
      "---------------------------------------\n",
      "1.2.826.1.3680043.9.5282.150415.24477.2447722188652\n"
     ]
    },
    {
     "data": {
      "text/html": [
       "<pre style=\"white-space:pre;overflow-x:auto;line-height:normal;font-family:Menlo,'DejaVu Sans Mono',consolas,'Courier New',monospace\"><span style=\"color: #7fbfbf; text-decoration-color: #7fbfbf\">[04/17/24 18:27:25] </span><span style=\"color: #000080; text-decoration-color: #000080\">INFO    </span> Saving masks to                                                                       \n",
       "<span style=\"color: #7fbfbf; text-decoration-color: #7fbfbf\">                    </span>         <span style=\"color: #800080; text-decoration-color: #800080\">/home/cerebriu/data/datasets/raw/CEREBRIU/1.2.826.1.3680043.9.5282.150415.24477.244772</span>\n",
       "<span style=\"color: #7fbfbf; text-decoration-color: #7fbfbf\">                    </span>         <span style=\"color: #800080; text-decoration-color: #800080\">2188652/</span><span style=\"color: #ff00ff; text-decoration-color: #ff00ff\">segmentations</span> directory                                                       \n",
       "</pre>\n"
      ],
      "text/plain": [
       "\u001b[2;36m[04/17/24 18:27:25]\u001b[0m\u001b[2;36m \u001b[0m\u001b[34mINFO    \u001b[0m Saving masks to                                                                       \n",
       "\u001b[2;36m                    \u001b[0m         \u001b[35m/home/cerebriu/data/datasets/raw/CEREBRIU/1.2.826.1.3680043.9.5282.150415.24477.244772\u001b[0m\n",
       "\u001b[2;36m                    \u001b[0m         \u001b[35m2188652/\u001b[0m\u001b[95msegmentations\u001b[0m directory                                                       \n"
      ]
     },
     "metadata": {},
     "output_type": "display_data"
    },
    {
     "name": "stderr",
     "output_type": "stream",
     "text": [
      "INFO:redbrick:Saving masks to /home/cerebriu/data/datasets/raw/CEREBRIU/1.2.826.1.3680043.9.5282.150415.24477.2447722188652/segmentations directory\n"
     ]
    },
    {
     "data": {
      "text/html": [
       "<pre style=\"white-space:pre;overflow-x:auto;line-height:normal;font-family:Menlo,'DejaVu Sans Mono',consolas,'Courier New',monospace\"><span style=\"color: #7fbfbf; text-decoration-color: #7fbfbf\">                    </span><span style=\"color: #000080; text-decoration-color: #000080\">INFO    </span> Fetching task: <span style=\"color: #ffff00; text-decoration-color: #ffff00\">44de4ae8-a452-417e-a284-e191362b2a14</span>                                   \n",
       "</pre>\n"
      ],
      "text/plain": [
       "\u001b[2;36m                   \u001b[0m\u001b[2;36m \u001b[0m\u001b[34mINFO    \u001b[0m Fetching task: \u001b[93m44de4ae8-a452-417e-a284-e191362b2a14\u001b[0m                                   \n"
      ]
     },
     "metadata": {},
     "output_type": "display_data"
    },
    {
     "name": "stderr",
     "output_type": "stream",
     "text": [
      "INFO:redbrick:Fetching task: 44de4ae8-a452-417e-a284-e191362b2a14\n",
      "                                                                          \r"
     ]
    },
    {
     "name": "stdout",
     "output_type": "stream",
     "text": [
      "---------------------------------------\n",
      "1.2.826.1.3680043.9.5282.150415.178.178232327158\n"
     ]
    },
    {
     "data": {
      "text/html": [
       "<pre style=\"white-space:pre;overflow-x:auto;line-height:normal;font-family:Menlo,'DejaVu Sans Mono',consolas,'Courier New',monospace\"><span style=\"color: #7fbfbf; text-decoration-color: #7fbfbf\">[04/17/24 18:27:30] </span><span style=\"color: #000080; text-decoration-color: #000080\">INFO    </span> Saving masks to                                                                       \n",
       "<span style=\"color: #7fbfbf; text-decoration-color: #7fbfbf\">                    </span>         <span style=\"color: #800080; text-decoration-color: #800080\">/home/cerebriu/data/datasets/raw/CEREBRIU/1.2.826.1.3680043.9.5282.150415.178.17823232</span>\n",
       "<span style=\"color: #7fbfbf; text-decoration-color: #7fbfbf\">                    </span>         <span style=\"color: #800080; text-decoration-color: #800080\">7158/</span><span style=\"color: #ff00ff; text-decoration-color: #ff00ff\">segmentations</span> directory                                                          \n",
       "</pre>\n"
      ],
      "text/plain": [
       "\u001b[2;36m[04/17/24 18:27:30]\u001b[0m\u001b[2;36m \u001b[0m\u001b[34mINFO    \u001b[0m Saving masks to                                                                       \n",
       "\u001b[2;36m                    \u001b[0m         \u001b[35m/home/cerebriu/data/datasets/raw/CEREBRIU/1.2.826.1.3680043.9.5282.150415.178.17823232\u001b[0m\n",
       "\u001b[2;36m                    \u001b[0m         \u001b[35m7158/\u001b[0m\u001b[95msegmentations\u001b[0m directory                                                          \n"
      ]
     },
     "metadata": {},
     "output_type": "display_data"
    },
    {
     "name": "stderr",
     "output_type": "stream",
     "text": [
      "INFO:redbrick:Saving masks to /home/cerebriu/data/datasets/raw/CEREBRIU/1.2.826.1.3680043.9.5282.150415.178.178232327158/segmentations directory\n"
     ]
    },
    {
     "data": {
      "text/html": [
       "<pre style=\"white-space:pre;overflow-x:auto;line-height:normal;font-family:Menlo,'DejaVu Sans Mono',consolas,'Courier New',monospace\"><span style=\"color: #7fbfbf; text-decoration-color: #7fbfbf\">                    </span><span style=\"color: #000080; text-decoration-color: #000080\">INFO    </span> Fetching task: <span style=\"color: #ffff00; text-decoration-color: #ffff00\">5672622a-9e00-4003-a8a3-5bdc4a2c3535</span>                                   \n",
       "</pre>\n"
      ],
      "text/plain": [
       "\u001b[2;36m                   \u001b[0m\u001b[2;36m \u001b[0m\u001b[34mINFO    \u001b[0m Fetching task: \u001b[93m5672622a-9e00-4003-a8a3-5bdc4a2c3535\u001b[0m                                   \n"
      ]
     },
     "metadata": {},
     "output_type": "display_data"
    },
    {
     "name": "stderr",
     "output_type": "stream",
     "text": [
      "INFO:redbrick:Fetching task: 5672622a-9e00-4003-a8a3-5bdc4a2c3535\n",
      "                                                                        \r"
     ]
    },
    {
     "name": "stdout",
     "output_type": "stream",
     "text": [
      "---------------------------------------\n",
      "1.2.826.1.3680043.9.5282.150415.25794.2579422232752\n"
     ]
    },
    {
     "data": {
      "text/html": [
       "<pre style=\"white-space:pre;overflow-x:auto;line-height:normal;font-family:Menlo,'DejaVu Sans Mono',consolas,'Courier New',monospace\"><span style=\"color: #7fbfbf; text-decoration-color: #7fbfbf\">[04/17/24 18:27:36] </span><span style=\"color: #000080; text-decoration-color: #000080\">INFO    </span> Saving masks to                                                                       \n",
       "<span style=\"color: #7fbfbf; text-decoration-color: #7fbfbf\">                    </span>         <span style=\"color: #800080; text-decoration-color: #800080\">/home/cerebriu/data/datasets/raw/CEREBRIU/1.2.826.1.3680043.9.5282.150415.25794.257942</span>\n",
       "<span style=\"color: #7fbfbf; text-decoration-color: #7fbfbf\">                    </span>         <span style=\"color: #800080; text-decoration-color: #800080\">2232752/</span><span style=\"color: #ff00ff; text-decoration-color: #ff00ff\">segmentations</span> directory                                                       \n",
       "</pre>\n"
      ],
      "text/plain": [
       "\u001b[2;36m[04/17/24 18:27:36]\u001b[0m\u001b[2;36m \u001b[0m\u001b[34mINFO    \u001b[0m Saving masks to                                                                       \n",
       "\u001b[2;36m                    \u001b[0m         \u001b[35m/home/cerebriu/data/datasets/raw/CEREBRIU/1.2.826.1.3680043.9.5282.150415.25794.257942\u001b[0m\n",
       "\u001b[2;36m                    \u001b[0m         \u001b[35m2232752/\u001b[0m\u001b[95msegmentations\u001b[0m directory                                                       \n"
      ]
     },
     "metadata": {},
     "output_type": "display_data"
    },
    {
     "name": "stderr",
     "output_type": "stream",
     "text": [
      "INFO:redbrick:Saving masks to /home/cerebriu/data/datasets/raw/CEREBRIU/1.2.826.1.3680043.9.5282.150415.25794.2579422232752/segmentations directory\n"
     ]
    },
    {
     "data": {
      "text/html": [
       "<pre style=\"white-space:pre;overflow-x:auto;line-height:normal;font-family:Menlo,'DejaVu Sans Mono',consolas,'Courier New',monospace\"><span style=\"color: #7fbfbf; text-decoration-color: #7fbfbf\">                    </span><span style=\"color: #000080; text-decoration-color: #000080\">INFO    </span> Fetching task: <span style=\"color: #ffff00; text-decoration-color: #ffff00\">956d3665-b622-4514-8122-3491cc58a623</span>                                   \n",
       "</pre>\n"
      ],
      "text/plain": [
       "\u001b[2;36m                   \u001b[0m\u001b[2;36m \u001b[0m\u001b[34mINFO    \u001b[0m Fetching task: \u001b[93m956d3665-b622-4514-8122-3491cc58a623\u001b[0m                                   \n"
      ]
     },
     "metadata": {},
     "output_type": "display_data"
    },
    {
     "name": "stderr",
     "output_type": "stream",
     "text": [
      "INFO:redbrick:Fetching task: 956d3665-b622-4514-8122-3491cc58a623\n",
      "                                                                        \r"
     ]
    },
    {
     "name": "stdout",
     "output_type": "stream",
     "text": [
      "---------------------------------------\n",
      "1.2.826.1.3680043.9.5282.150415.34194.3419422232714\n"
     ]
    },
    {
     "data": {
      "text/html": [
       "<pre style=\"white-space:pre;overflow-x:auto;line-height:normal;font-family:Menlo,'DejaVu Sans Mono',consolas,'Courier New',monospace\"><span style=\"color: #7fbfbf; text-decoration-color: #7fbfbf\">[04/17/24 18:27:42] </span><span style=\"color: #000080; text-decoration-color: #000080\">INFO    </span> Saving masks to                                                                       \n",
       "<span style=\"color: #7fbfbf; text-decoration-color: #7fbfbf\">                    </span>         <span style=\"color: #800080; text-decoration-color: #800080\">/home/cerebriu/data/datasets/raw/CEREBRIU/1.2.826.1.3680043.9.5282.150415.34194.341942</span>\n",
       "<span style=\"color: #7fbfbf; text-decoration-color: #7fbfbf\">                    </span>         <span style=\"color: #800080; text-decoration-color: #800080\">2232714/</span><span style=\"color: #ff00ff; text-decoration-color: #ff00ff\">segmentations</span> directory                                                       \n",
       "</pre>\n"
      ],
      "text/plain": [
       "\u001b[2;36m[04/17/24 18:27:42]\u001b[0m\u001b[2;36m \u001b[0m\u001b[34mINFO    \u001b[0m Saving masks to                                                                       \n",
       "\u001b[2;36m                    \u001b[0m         \u001b[35m/home/cerebriu/data/datasets/raw/CEREBRIU/1.2.826.1.3680043.9.5282.150415.34194.341942\u001b[0m\n",
       "\u001b[2;36m                    \u001b[0m         \u001b[35m2232714/\u001b[0m\u001b[95msegmentations\u001b[0m directory                                                       \n"
      ]
     },
     "metadata": {},
     "output_type": "display_data"
    },
    {
     "name": "stderr",
     "output_type": "stream",
     "text": [
      "INFO:redbrick:Saving masks to /home/cerebriu/data/datasets/raw/CEREBRIU/1.2.826.1.3680043.9.5282.150415.34194.3419422232714/segmentations directory\n"
     ]
    },
    {
     "data": {
      "text/html": [
       "<pre style=\"white-space:pre;overflow-x:auto;line-height:normal;font-family:Menlo,'DejaVu Sans Mono',consolas,'Courier New',monospace\"><span style=\"color: #7fbfbf; text-decoration-color: #7fbfbf\">                    </span><span style=\"color: #000080; text-decoration-color: #000080\">INFO    </span> Fetching task: <span style=\"color: #ffff00; text-decoration-color: #ffff00\">9582c35d-71fb-4263-a4f9-25e86bef6303</span>                                   \n",
       "</pre>\n"
      ],
      "text/plain": [
       "\u001b[2;36m                   \u001b[0m\u001b[2;36m \u001b[0m\u001b[34mINFO    \u001b[0m Fetching task: \u001b[93m9582c35d-71fb-4263-a4f9-25e86bef6303\u001b[0m                                   \n"
      ]
     },
     "metadata": {},
     "output_type": "display_data"
    },
    {
     "name": "stderr",
     "output_type": "stream",
     "text": [
      "INFO:redbrick:Fetching task: 9582c35d-71fb-4263-a4f9-25e86bef6303\n",
      "                                                                        \r"
     ]
    },
    {
     "name": "stdout",
     "output_type": "stream",
     "text": [
      "---------------------------------------\n",
      "1.2.826.1.3680043.9.5282.150415.37517.3751722232714\n"
     ]
    },
    {
     "data": {
      "text/html": [
       "<pre style=\"white-space:pre;overflow-x:auto;line-height:normal;font-family:Menlo,'DejaVu Sans Mono',consolas,'Courier New',monospace\"><span style=\"color: #7fbfbf; text-decoration-color: #7fbfbf\">[04/17/24 18:27:47] </span><span style=\"color: #000080; text-decoration-color: #000080\">INFO    </span> Saving masks to                                                                       \n",
       "<span style=\"color: #7fbfbf; text-decoration-color: #7fbfbf\">                    </span>         <span style=\"color: #800080; text-decoration-color: #800080\">/home/cerebriu/data/datasets/raw/CEREBRIU/1.2.826.1.3680043.9.5282.150415.37517.375172</span>\n",
       "<span style=\"color: #7fbfbf; text-decoration-color: #7fbfbf\">                    </span>         <span style=\"color: #800080; text-decoration-color: #800080\">2232714/</span><span style=\"color: #ff00ff; text-decoration-color: #ff00ff\">segmentations</span> directory                                                       \n",
       "</pre>\n"
      ],
      "text/plain": [
       "\u001b[2;36m[04/17/24 18:27:47]\u001b[0m\u001b[2;36m \u001b[0m\u001b[34mINFO    \u001b[0m Saving masks to                                                                       \n",
       "\u001b[2;36m                    \u001b[0m         \u001b[35m/home/cerebriu/data/datasets/raw/CEREBRIU/1.2.826.1.3680043.9.5282.150415.37517.375172\u001b[0m\n",
       "\u001b[2;36m                    \u001b[0m         \u001b[35m2232714/\u001b[0m\u001b[95msegmentations\u001b[0m directory                                                       \n"
      ]
     },
     "metadata": {},
     "output_type": "display_data"
    },
    {
     "name": "stderr",
     "output_type": "stream",
     "text": [
      "INFO:redbrick:Saving masks to /home/cerebriu/data/datasets/raw/CEREBRIU/1.2.826.1.3680043.9.5282.150415.37517.3751722232714/segmentations directory\n"
     ]
    },
    {
     "data": {
      "text/html": [
       "<pre style=\"white-space:pre;overflow-x:auto;line-height:normal;font-family:Menlo,'DejaVu Sans Mono',consolas,'Courier New',monospace\"><span style=\"color: #7fbfbf; text-decoration-color: #7fbfbf\">                    </span><span style=\"color: #000080; text-decoration-color: #000080\">INFO    </span> Fetching task: <span style=\"color: #ffff00; text-decoration-color: #ffff00\">d914323f-0ac7-4ec4-9afe-2c925e711f21</span>                                   \n",
       "</pre>\n"
      ],
      "text/plain": [
       "\u001b[2;36m                   \u001b[0m\u001b[2;36m \u001b[0m\u001b[34mINFO    \u001b[0m Fetching task: \u001b[93md914323f-0ac7-4ec4-9afe-2c925e711f21\u001b[0m                                   \n"
      ]
     },
     "metadata": {},
     "output_type": "display_data"
    },
    {
     "name": "stderr",
     "output_type": "stream",
     "text": [
      "INFO:redbrick:Fetching task: d914323f-0ac7-4ec4-9afe-2c925e711f21\n",
      "                                                                        \r"
     ]
    },
    {
     "name": "stdout",
     "output_type": "stream",
     "text": [
      "---------------------------------------\n",
      "42a2a5865709f9ddc47da60a1556f09552586685\n"
     ]
    },
    {
     "data": {
      "text/html": [
       "<pre style=\"white-space:pre;overflow-x:auto;line-height:normal;font-family:Menlo,'DejaVu Sans Mono',consolas,'Courier New',monospace\"><span style=\"color: #7fbfbf; text-decoration-color: #7fbfbf\">[04/17/24 18:27:52] </span><span style=\"color: #000080; text-decoration-color: #000080\">INFO    </span> Saving masks to                                                                       \n",
       "<span style=\"color: #7fbfbf; text-decoration-color: #7fbfbf\">                    </span>         <span style=\"color: #800080; text-decoration-color: #800080\">/home/cerebriu/data/datasets/raw/CEREBRIU/42a2a5865709f9ddc47da60a1556f09552586685/</span><span style=\"color: #ff00ff; text-decoration-color: #ff00ff\">seg</span>\n",
       "<span style=\"color: #7fbfbf; text-decoration-color: #7fbfbf\">                    </span>         <span style=\"color: #ff00ff; text-decoration-color: #ff00ff\">mentations</span> directory                                                                  \n",
       "</pre>\n"
      ],
      "text/plain": [
       "\u001b[2;36m[04/17/24 18:27:52]\u001b[0m\u001b[2;36m \u001b[0m\u001b[34mINFO    \u001b[0m Saving masks to                                                                       \n",
       "\u001b[2;36m                    \u001b[0m         \u001b[35m/home/cerebriu/data/datasets/raw/CEREBRIU/42a2a5865709f9ddc47da60a1556f09552586685/\u001b[0m\u001b[95mseg\u001b[0m\n",
       "\u001b[2;36m                    \u001b[0m         \u001b[95mmentations\u001b[0m directory                                                                  \n"
      ]
     },
     "metadata": {},
     "output_type": "display_data"
    },
    {
     "name": "stderr",
     "output_type": "stream",
     "text": [
      "INFO:redbrick:Saving masks to /home/cerebriu/data/datasets/raw/CEREBRIU/42a2a5865709f9ddc47da60a1556f09552586685/segmentations directory\n"
     ]
    },
    {
     "data": {
      "text/html": [
       "<pre style=\"white-space:pre;overflow-x:auto;line-height:normal;font-family:Menlo,'DejaVu Sans Mono',consolas,'Courier New',monospace\"><span style=\"color: #7fbfbf; text-decoration-color: #7fbfbf\">                    </span><span style=\"color: #000080; text-decoration-color: #000080\">INFO    </span> Fetching task: <span style=\"color: #ffff00; text-decoration-color: #ffff00\">01d5dd45-74b2-4c65-9e3b-3bbdd2625e81</span>                                   \n",
       "</pre>\n"
      ],
      "text/plain": [
       "\u001b[2;36m                   \u001b[0m\u001b[2;36m \u001b[0m\u001b[34mINFO    \u001b[0m Fetching task: \u001b[93m01d5dd45-74b2-4c65-9e3b-3bbdd2625e81\u001b[0m                                   \n"
      ]
     },
     "metadata": {},
     "output_type": "display_data"
    },
    {
     "name": "stderr",
     "output_type": "stream",
     "text": [
      "INFO:redbrick:Fetching task: 01d5dd45-74b2-4c65-9e3b-3bbdd2625e81\n",
      "                                                                          \r"
     ]
    },
    {
     "name": "stdout",
     "output_type": "stream",
     "text": [
      "---------------------------------------\n",
      "cd562073a877df14df5a16f1aea5d709de641b24\n"
     ]
    },
    {
     "data": {
      "text/html": [
       "<pre style=\"white-space:pre;overflow-x:auto;line-height:normal;font-family:Menlo,'DejaVu Sans Mono',consolas,'Courier New',monospace\"><span style=\"color: #7fbfbf; text-decoration-color: #7fbfbf\">[04/17/24 18:27:59] </span><span style=\"color: #000080; text-decoration-color: #000080\">INFO    </span> Saving masks to                                                                       \n",
       "<span style=\"color: #7fbfbf; text-decoration-color: #7fbfbf\">                    </span>         <span style=\"color: #800080; text-decoration-color: #800080\">/home/cerebriu/data/datasets/raw/CEREBRIU/cd562073a877df14df5a16f1aea5d709de641b24/</span><span style=\"color: #ff00ff; text-decoration-color: #ff00ff\">seg</span>\n",
       "<span style=\"color: #7fbfbf; text-decoration-color: #7fbfbf\">                    </span>         <span style=\"color: #ff00ff; text-decoration-color: #ff00ff\">mentations</span> directory                                                                  \n",
       "</pre>\n"
      ],
      "text/plain": [
       "\u001b[2;36m[04/17/24 18:27:59]\u001b[0m\u001b[2;36m \u001b[0m\u001b[34mINFO    \u001b[0m Saving masks to                                                                       \n",
       "\u001b[2;36m                    \u001b[0m         \u001b[35m/home/cerebriu/data/datasets/raw/CEREBRIU/cd562073a877df14df5a16f1aea5d709de641b24/\u001b[0m\u001b[95mseg\u001b[0m\n",
       "\u001b[2;36m                    \u001b[0m         \u001b[95mmentations\u001b[0m directory                                                                  \n"
      ]
     },
     "metadata": {},
     "output_type": "display_data"
    },
    {
     "name": "stderr",
     "output_type": "stream",
     "text": [
      "INFO:redbrick:Saving masks to /home/cerebriu/data/datasets/raw/CEREBRIU/cd562073a877df14df5a16f1aea5d709de641b24/segmentations directory\n"
     ]
    },
    {
     "data": {
      "text/html": [
       "<pre style=\"white-space:pre;overflow-x:auto;line-height:normal;font-family:Menlo,'DejaVu Sans Mono',consolas,'Courier New',monospace\"><span style=\"color: #7fbfbf; text-decoration-color: #7fbfbf\">                    </span><span style=\"color: #000080; text-decoration-color: #000080\">INFO    </span> Fetching task: <span style=\"color: #ffff00; text-decoration-color: #ffff00\">85088bb2-5a3c-4829-af5a-05bc7e7ce642</span>                                   \n",
       "</pre>\n"
      ],
      "text/plain": [
       "\u001b[2;36m                   \u001b[0m\u001b[2;36m \u001b[0m\u001b[34mINFO    \u001b[0m Fetching task: \u001b[93m85088bb2-5a3c-4829-af5a-05bc7e7ce642\u001b[0m                                   \n"
      ]
     },
     "metadata": {},
     "output_type": "display_data"
    },
    {
     "name": "stderr",
     "output_type": "stream",
     "text": [
      "INFO:redbrick:Fetching task: 85088bb2-5a3c-4829-af5a-05bc7e7ce642\n",
      "                                                                          \r"
     ]
    }
   ],
   "source": [
    "for i, row in selected_df.iterrows():\n",
    "    if row['name'] not in os.listdir(destination_dir):\n",
    "        print(\"---------------------------------------\")\n",
    "        print(row['name'])\n",
    "        g = export_taskid(row['taskId'], project, f\"{destination_dir}/{row['name']}\", withfile_flag)\n",
    "        next(g)"
   ]
  },
  {
   "cell_type": "code",
   "execution_count": 19,
   "metadata": {},
   "outputs": [],
   "source": [
    "import os\n",
    "import shutil\n",
    "\n",
    "def restructure_directory(study_dir, study):\n",
    "    \"\"\"\n",
    "    Restructures the directory to remove the redundant 'study' subfolder under 'images' and 'annotations'.\n",
    "\n",
    "    Args:\n",
    "        study_dir (str): The path to the study directory.\n",
    "    \"\"\"\n",
    "    for sub_dir_name in ['images', 'segmentations']:\n",
    "        sub_dir = os.path.join(study_dir, sub_dir_name)\n",
    "        study_sub_dir = os.path.join(sub_dir, study)\n",
    "\n",
    "        # Check if the redundant 'study' subdirectory exists\n",
    "        if os.path.exists(study_sub_dir) and os.path.isdir(study_sub_dir):\n",
    "            # Move each file from the redundant 'study' subdirectory to the parent directory\n",
    "            for file_name in os.listdir(study_sub_dir):\n",
    "                file_path = os.path.join(study_sub_dir, file_name)\n",
    "                shutil.move(file_path, sub_dir)\n",
    "\n",
    "            # Remove the now empty 'study' subdirectory\n",
    "            os.rmdir(study_sub_dir)\n"
   ]
  },
  {
   "cell_type": "code",
   "execution_count": 20,
   "metadata": {},
   "outputs": [
    {
     "name": "stdout",
     "output_type": "stream",
     "text": [
      "1.2.840.113845.13.13849.872975378.634767293118\n",
      "1.2.840.113845.13.14537.872975378.3343495815236\n",
      "1.2.840.113845.11.1000000001815528930.20201010223701.3603014\n",
      "1.3.12.2.1107.5.2.6.24111.30000019082104124198400000049\n",
      "1.3.12.2.1107.5.2.6.24111.30000019080803320789000000046\n",
      "1.3.12.2.1107.5.2.6.24111.30000019082104124198400000043\n",
      "1.3.12.2.1107.5.2.6.24111.30000019082703511493700000001\n",
      "1.3.12.2.1107.5.2.6.24111.30000019082703511493700000040\n",
      "1.2.826.1.3680043.9.5282.150415.650.650232327158\n",
      "1.2.826.1.3680043.9.5282.150415.34242.3424222232714\n",
      "1.2.826.1.3680043.9.5282.150415.35985.3598522192214\n",
      "1.2.826.1.3680043.9.5282.150415.14832.16014832222376\n",
      "1.2.826.1.3680043.9.5282.150415.24477.2447722188652\n",
      "1.2.826.1.3680043.9.5282.150415.178.178232327158\n",
      "1.2.826.1.3680043.9.5282.150415.25794.2579422232752\n",
      "1.2.826.1.3680043.9.5282.150415.34194.3419422232714\n",
      "1.2.826.1.3680043.9.5282.150415.37517.3751722232714\n",
      "42a2a5865709f9ddc47da60a1556f09552586685\n",
      "cd562073a877df14df5a16f1aea5d709de641b24\n"
     ]
    }
   ],
   "source": [
    "for i, row in selected_df.iterrows():\n",
    "    study_dir = f\"{destination_dir}/{row['name']}\"\n",
    "    print(row['name'])\n",
    "    restructure_directory(study_dir, row['name'])"
   ]
  }
 ],
 "metadata": {
  "kernelspec": {
   "display_name": "venv_cerebriu",
   "language": "python",
   "name": "python3"
  },
  "language_info": {
   "codemirror_mode": {
    "name": "ipython",
    "version": 3
   },
   "file_extension": ".py",
   "mimetype": "text/x-python",
   "name": "python",
   "nbconvert_exporter": "python",
   "pygments_lexer": "ipython3",
   "version": "3.10.12"
  }
 },
 "nbformat": 4,
 "nbformat_minor": 2
}
