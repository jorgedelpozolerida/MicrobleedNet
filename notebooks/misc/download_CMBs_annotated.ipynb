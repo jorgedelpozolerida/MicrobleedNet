{
 "cells": [
  {
   "cell_type": "code",
   "execution_count": 1,
   "metadata": {},
   "outputs": [
    {
     "data": {
      "text/html": [
       "<pre style=\"white-space:pre;overflow-x:auto;line-height:normal;font-family:Menlo,'DejaVu Sans Mono',consolas,'Courier New',monospace\"><span style=\"color: #7fbfbf; text-decoration-color: #7fbfbf\">[03/19/24 15:00:57] </span><span style=\"color: #800000; text-decoration-color: #800000\">WARNING </span> Applying nest-asyncio to a running event loop, this likely means you're in a jupyter  \n",
       "<span style=\"color: #7fbfbf; text-decoration-color: #7fbfbf\">                    </span>         notebook and you can safely ignore this.                                              \n",
       "</pre>\n"
      ],
      "text/plain": [
       "\u001b[2;36m[03/19/24 15:00:57]\u001b[0m\u001b[2;36m \u001b[0m\u001b[31mWARNING \u001b[0m Applying nest-asyncio to a running event loop, this likely means you're in a jupyter  \n",
       "\u001b[2;36m                    \u001b[0m         notebook and you can safely ignore this.                                              \n"
      ]
     },
     "metadata": {},
     "output_type": "display_data"
    },
    {
     "name": "stderr",
     "output_type": "stream",
     "text": [
      "INFO:utils_redbrick:Redbrick  sdk version: 2.16.10\n"
     ]
    }
   ],
   "source": [
    "import os\n",
    "import nibabel as nib\n",
    "import sys\n",
    "import redbrick\n",
    "import glob\n",
    "\n",
    "sys.path.append(\"/home/cerebriu/data/DM/data-management/redbrick/\")\n",
    "\n",
    "import utils_redbrick as rb_utils\n",
    "\n",
    "project_id = \"c289b8f2-c9ff-49da-86d4-c8e4dea6c092\"\n",
    "destination_dir = \"/home/cerebriu/data/datasets/raw/CEREBRIU\"\n",
    "withfile_flag = True\n",
    "project = rb_utils.initialize_project(project_id=project_id)"
   ]
  },
  {
   "cell_type": "code",
   "execution_count": 2,
   "metadata": {},
   "outputs": [],
   "source": [
    "old_ids = ['1.3.12.2.1107.5.2.6.24111.30000019082104124198400000043',\n",
    "    '1.2.826.1.3680043.9.5282.150415.34194.3419422232714',\n",
    "    '1.2.826.1.3680043.9.5282.150415.14832.16014832222376',\n",
    "    '1.2.826.1.3680043.9.5282.150415.650.650232327158',\n",
    "    '42a2a5865709f9ddc47da60a1556f09552586685',\n",
    "    '1.3.12.2.1107.5.2.6.24111.30000019082703511493700000040',\n",
    "    '1.2.840.113845.13.13849.872975378.634767293118',\n",
    "    '1.2.840.113845.13.14537.872975378.3343495815236']"
   ]
  },
  {
   "cell_type": "code",
   "execution_count": 3,
   "metadata": {},
   "outputs": [],
   "source": [
    "def export_taskid(task, project, destination_dir, withfile_flag):\n",
    "    return project.export.export_tasks(only_ground_truth = False, \n",
    "                                        task_id = task, \n",
    "                                        destination=destination_dir,\n",
    "                                        with_files=withfile_flag)"
   ]
  },
  {
   "cell_type": "code",
   "execution_count": 4,
   "metadata": {},
   "outputs": [
    {
     "data": {
      "text/plain": [
       "'Cerebral Microbleeds (CMBs)'"
      ]
     },
     "execution_count": 4,
     "metadata": {},
     "output_type": "execute_result"
    }
   ],
   "source": [
    "project.name"
   ]
  },
  {
   "cell_type": "code",
   "execution_count": 5,
   "metadata": {},
   "outputs": [
    {
     "name": "stdout",
     "output_type": "stream",
     "text": [
      "11\n"
     ]
    },
    {
     "data": {
      "text/html": [
       "<div>\n",
       "<style scoped>\n",
       "    .dataframe tbody tr th:only-of-type {\n",
       "        vertical-align: middle;\n",
       "    }\n",
       "\n",
       "    .dataframe tbody tr th {\n",
       "        vertical-align: top;\n",
       "    }\n",
       "\n",
       "    .dataframe thead th {\n",
       "        text-align: right;\n",
       "    }\n",
       "</style>\n",
       "<table border=\"1\" class=\"dataframe\">\n",
       "  <thead>\n",
       "    <tr style=\"text-align: right;\">\n",
       "      <th></th>\n",
       "      <th>taskId</th>\n",
       "      <th>name</th>\n",
       "      <th>createdAt</th>\n",
       "      <th>currentStageName</th>\n",
       "      <th>assignees</th>\n",
       "      <th>priority</th>\n",
       "    </tr>\n",
       "  </thead>\n",
       "  <tbody>\n",
       "    <tr>\n",
       "      <th>4</th>\n",
       "      <td>bc0fa2ec-5738-4eab-bb8a-ace9f2ecbb71</td>\n",
       "      <td>1.2.840.113845.11.1000000001815528930.20201010...</td>\n",
       "      <td>2023-11-09 15:51:07.402913+00:00</td>\n",
       "      <td>Review_1</td>\n",
       "      <td>[]</td>\n",
       "      <td>0.362319</td>\n",
       "    </tr>\n",
       "    <tr>\n",
       "      <th>12</th>\n",
       "      <td>3b895b01-0814-4572-9ff2-3e1b9ccc26bb</td>\n",
       "      <td>1.3.12.2.1107.5.2.6.24111.30000019082104124198...</td>\n",
       "      <td>2023-11-09 15:50:03.189434+00:00</td>\n",
       "      <td>Review_1</td>\n",
       "      <td>[{'user': 'jl@cerebriu.com', 'status': 'ASSIGN...</td>\n",
       "      <td>0.898551</td>\n",
       "    </tr>\n",
       "    <tr>\n",
       "      <th>14</th>\n",
       "      <td>e438f93f-9ecf-4f06-8e1e-1135e5a190f9</td>\n",
       "      <td>1.3.12.2.1107.5.2.6.24111.30000019082703511493...</td>\n",
       "      <td>2023-11-09 15:50:02.670665+00:00</td>\n",
       "      <td>Review_1</td>\n",
       "      <td>[]</td>\n",
       "      <td>0.623188</td>\n",
       "    </tr>\n",
       "    <tr>\n",
       "      <th>17</th>\n",
       "      <td>54ec9de1-03d1-47ee-a1d8-cc0b6b494ff3</td>\n",
       "      <td>1.3.12.2.1107.5.2.6.24111.30000019080803320789...</td>\n",
       "      <td>2023-11-09 15:50:02.606288+00:00</td>\n",
       "      <td>Review_1</td>\n",
       "      <td>[{'user': 'jl@cerebriu.com', 'status': 'ASSIGN...</td>\n",
       "      <td>0.884058</td>\n",
       "    </tr>\n",
       "    <tr>\n",
       "      <th>28</th>\n",
       "      <td>df4dda34-8f82-411c-a942-a00f5a897b6b</td>\n",
       "      <td>1.2.826.1.3680043.9.5282.150415.34242.34242222...</td>\n",
       "      <td>2023-11-09 15:49:12.488353+00:00</td>\n",
       "      <td>Review_1</td>\n",
       "      <td>[]</td>\n",
       "      <td>0.797101</td>\n",
       "    </tr>\n",
       "    <tr>\n",
       "      <th>29</th>\n",
       "      <td>e1901aa4-dae4-463c-ad24-9b0e23469a84</td>\n",
       "      <td>1.2.826.1.3680043.9.5282.150415.35985.35985221...</td>\n",
       "      <td>2023-11-09 15:49:12.429892+00:00</td>\n",
       "      <td>Review_1</td>\n",
       "      <td>[]</td>\n",
       "      <td>0.782609</td>\n",
       "    </tr>\n",
       "    <tr>\n",
       "      <th>31</th>\n",
       "      <td>956d3665-b622-4514-8122-3491cc58a623</td>\n",
       "      <td>1.2.826.1.3680043.9.5282.150415.25794.25794222...</td>\n",
       "      <td>2023-11-09 15:49:12.382558+00:00</td>\n",
       "      <td>Review_1</td>\n",
       "      <td>[]</td>\n",
       "      <td>0.855072</td>\n",
       "    </tr>\n",
       "    <tr>\n",
       "      <th>32</th>\n",
       "      <td>d914323f-0ac7-4ec4-9afe-2c925e711f21</td>\n",
       "      <td>1.2.826.1.3680043.9.5282.150415.37517.37517222...</td>\n",
       "      <td>2023-11-09 15:49:12.381029+00:00</td>\n",
       "      <td>Review_1</td>\n",
       "      <td>[]</td>\n",
       "      <td>0.840580</td>\n",
       "    </tr>\n",
       "    <tr>\n",
       "      <th>33</th>\n",
       "      <td>44de4ae8-a452-417e-a284-e191362b2a14</td>\n",
       "      <td>1.2.826.1.3680043.9.5282.150415.24477.24477221...</td>\n",
       "      <td>2023-11-09 15:49:12.361247+00:00</td>\n",
       "      <td>Review_1</td>\n",
       "      <td>[]</td>\n",
       "      <td>0.826087</td>\n",
       "    </tr>\n",
       "    <tr>\n",
       "      <th>36</th>\n",
       "      <td>5672622a-9e00-4003-a8a3-5bdc4a2c3535</td>\n",
       "      <td>1.2.826.1.3680043.9.5282.150415.178.178232327158</td>\n",
       "      <td>2023-11-09 15:49:12.336095+00:00</td>\n",
       "      <td>Review_1</td>\n",
       "      <td>[]</td>\n",
       "      <td>0.811594</td>\n",
       "    </tr>\n",
       "    <tr>\n",
       "      <th>56</th>\n",
       "      <td>85088bb2-5a3c-4829-af5a-05bc7e7ce642</td>\n",
       "      <td>cd562073a877df14df5a16f1aea5d709de641b24</td>\n",
       "      <td>2023-11-09 15:47:14.822087+00:00</td>\n",
       "      <td>Review_1</td>\n",
       "      <td>[]</td>\n",
       "      <td>0.768116</td>\n",
       "    </tr>\n",
       "  </tbody>\n",
       "</table>\n",
       "</div>"
      ],
      "text/plain": [
       "                                  taskId  \\\n",
       "4   bc0fa2ec-5738-4eab-bb8a-ace9f2ecbb71   \n",
       "12  3b895b01-0814-4572-9ff2-3e1b9ccc26bb   \n",
       "14  e438f93f-9ecf-4f06-8e1e-1135e5a190f9   \n",
       "17  54ec9de1-03d1-47ee-a1d8-cc0b6b494ff3   \n",
       "28  df4dda34-8f82-411c-a942-a00f5a897b6b   \n",
       "29  e1901aa4-dae4-463c-ad24-9b0e23469a84   \n",
       "31  956d3665-b622-4514-8122-3491cc58a623   \n",
       "32  d914323f-0ac7-4ec4-9afe-2c925e711f21   \n",
       "33  44de4ae8-a452-417e-a284-e191362b2a14   \n",
       "36  5672622a-9e00-4003-a8a3-5bdc4a2c3535   \n",
       "56  85088bb2-5a3c-4829-af5a-05bc7e7ce642   \n",
       "\n",
       "                                                 name  \\\n",
       "4   1.2.840.113845.11.1000000001815528930.20201010...   \n",
       "12  1.3.12.2.1107.5.2.6.24111.30000019082104124198...   \n",
       "14  1.3.12.2.1107.5.2.6.24111.30000019082703511493...   \n",
       "17  1.3.12.2.1107.5.2.6.24111.30000019080803320789...   \n",
       "28  1.2.826.1.3680043.9.5282.150415.34242.34242222...   \n",
       "29  1.2.826.1.3680043.9.5282.150415.35985.35985221...   \n",
       "31  1.2.826.1.3680043.9.5282.150415.25794.25794222...   \n",
       "32  1.2.826.1.3680043.9.5282.150415.37517.37517222...   \n",
       "33  1.2.826.1.3680043.9.5282.150415.24477.24477221...   \n",
       "36   1.2.826.1.3680043.9.5282.150415.178.178232327158   \n",
       "56           cd562073a877df14df5a16f1aea5d709de641b24   \n",
       "\n",
       "                          createdAt currentStageName  \\\n",
       "4  2023-11-09 15:51:07.402913+00:00         Review_1   \n",
       "12 2023-11-09 15:50:03.189434+00:00         Review_1   \n",
       "14 2023-11-09 15:50:02.670665+00:00         Review_1   \n",
       "17 2023-11-09 15:50:02.606288+00:00         Review_1   \n",
       "28 2023-11-09 15:49:12.488353+00:00         Review_1   \n",
       "29 2023-11-09 15:49:12.429892+00:00         Review_1   \n",
       "31 2023-11-09 15:49:12.382558+00:00         Review_1   \n",
       "32 2023-11-09 15:49:12.381029+00:00         Review_1   \n",
       "33 2023-11-09 15:49:12.361247+00:00         Review_1   \n",
       "36 2023-11-09 15:49:12.336095+00:00         Review_1   \n",
       "56 2023-11-09 15:47:14.822087+00:00         Review_1   \n",
       "\n",
       "                                            assignees  priority  \n",
       "4                                                  []  0.362319  \n",
       "12  [{'user': 'jl@cerebriu.com', 'status': 'ASSIGN...  0.898551  \n",
       "14                                                 []  0.623188  \n",
       "17  [{'user': 'jl@cerebriu.com', 'status': 'ASSIGN...  0.884058  \n",
       "28                                                 []  0.797101  \n",
       "29                                                 []  0.782609  \n",
       "31                                                 []  0.855072  \n",
       "32                                                 []  0.840580  \n",
       "33                                                 []  0.826087  \n",
       "36                                                 []  0.811594  \n",
       "56                                                 []  0.768116  "
      ]
     },
     "execution_count": 5,
     "metadata": {},
     "output_type": "execute_result"
    }
   ],
   "source": [
    "stages = [\"Review_1\", \"END\"]\n",
    "tasks_df  = rb_utils.get_tasks_df(project.export.list_tasks(limit=None))\n",
    "selected_df = tasks_df[tasks_df['currentStageName'].isin(stages)]\n",
    "selected_df = selected_df[~selected_df['name'].isin(old_ids)]\n",
    "print(len(selected_df))\n",
    "selected_df"
   ]
  },
  {
   "cell_type": "code",
   "execution_count": 6,
   "metadata": {},
   "outputs": [
    {
     "data": {
      "text/plain": [
       "['https://app.redbrickai.com/ee09f50f-5afc-4d7a-a304-fdb8e45cbdd4/projects/c289b8f2-c9ff-49da-86d4-c8e4dea6c092/tool/Review_1?taskid=bc0fa2ec-5738-4eab-bb8a-ace9f2ecbb71',\n",
       " 'https://app.redbrickai.com/ee09f50f-5afc-4d7a-a304-fdb8e45cbdd4/projects/c289b8f2-c9ff-49da-86d4-c8e4dea6c092/tool/Review_1?taskid=3b895b01-0814-4572-9ff2-3e1b9ccc26bb',\n",
       " 'https://app.redbrickai.com/ee09f50f-5afc-4d7a-a304-fdb8e45cbdd4/projects/c289b8f2-c9ff-49da-86d4-c8e4dea6c092/tool/Review_1?taskid=e438f93f-9ecf-4f06-8e1e-1135e5a190f9',\n",
       " 'https://app.redbrickai.com/ee09f50f-5afc-4d7a-a304-fdb8e45cbdd4/projects/c289b8f2-c9ff-49da-86d4-c8e4dea6c092/tool/Review_1?taskid=54ec9de1-03d1-47ee-a1d8-cc0b6b494ff3',\n",
       " 'https://app.redbrickai.com/ee09f50f-5afc-4d7a-a304-fdb8e45cbdd4/projects/c289b8f2-c9ff-49da-86d4-c8e4dea6c092/tool/Review_1?taskid=df4dda34-8f82-411c-a942-a00f5a897b6b',\n",
       " 'https://app.redbrickai.com/ee09f50f-5afc-4d7a-a304-fdb8e45cbdd4/projects/c289b8f2-c9ff-49da-86d4-c8e4dea6c092/tool/Review_1?taskid=e1901aa4-dae4-463c-ad24-9b0e23469a84',\n",
       " 'https://app.redbrickai.com/ee09f50f-5afc-4d7a-a304-fdb8e45cbdd4/projects/c289b8f2-c9ff-49da-86d4-c8e4dea6c092/tool/Review_1?taskid=956d3665-b622-4514-8122-3491cc58a623',\n",
       " 'https://app.redbrickai.com/ee09f50f-5afc-4d7a-a304-fdb8e45cbdd4/projects/c289b8f2-c9ff-49da-86d4-c8e4dea6c092/tool/Review_1?taskid=d914323f-0ac7-4ec4-9afe-2c925e711f21',\n",
       " 'https://app.redbrickai.com/ee09f50f-5afc-4d7a-a304-fdb8e45cbdd4/projects/c289b8f2-c9ff-49da-86d4-c8e4dea6c092/tool/Review_1?taskid=44de4ae8-a452-417e-a284-e191362b2a14',\n",
       " 'https://app.redbrickai.com/ee09f50f-5afc-4d7a-a304-fdb8e45cbdd4/projects/c289b8f2-c9ff-49da-86d4-c8e4dea6c092/tool/Review_1?taskid=5672622a-9e00-4003-a8a3-5bdc4a2c3535',\n",
       " 'https://app.redbrickai.com/ee09f50f-5afc-4d7a-a304-fdb8e45cbdd4/projects/c289b8f2-c9ff-49da-86d4-c8e4dea6c092/tool/Review_1?taskid=85088bb2-5a3c-4829-af5a-05bc7e7ce642']"
      ]
     },
     "execution_count": 6,
     "metadata": {},
     "output_type": "execute_result"
    }
   ],
   "source": [
    "[\n",
    "    f\"https://app.redbrickai.com/ee09f50f-5afc-4d7a-a304-fdb8e45cbdd4/projects/{project_id}/tool/Review_1?taskid={taskid}\"\n",
    "    for taskid in selected_df['taskId']\n",
    "]"
   ]
  },
  {
   "cell_type": "code",
   "execution_count": 7,
   "metadata": {},
   "outputs": [],
   "source": [
    "for i, row in selected_df.iterrows():\n",
    "    if row['name'] not in os.listdir(destination_dir):\n",
    "        print(\"---------------------------------------\")\n",
    "        print(row['name'])\n",
    "        g = export_taskid(row['taskId'], project, f\"{destination_dir}/{row['name']}\", withfile_flag)\n",
    "        next(g)"
   ]
  },
  {
   "cell_type": "code",
   "execution_count": 8,
   "metadata": {},
   "outputs": [],
   "source": [
    "import os\n",
    "import shutil\n",
    "\n",
    "def restructure_directory(study_dir, study):\n",
    "    \"\"\"\n",
    "    Restructures the directory to remove the redundant 'study' subfolder under 'images' and 'annotations'.\n",
    "\n",
    "    Args:\n",
    "        study_dir (str): The path to the study directory.\n",
    "    \"\"\"\n",
    "    for sub_dir_name in ['images', 'segmentations']:\n",
    "        sub_dir = os.path.join(study_dir, sub_dir_name)\n",
    "        study_sub_dir = os.path.join(sub_dir, study)\n",
    "\n",
    "        # Check if the redundant 'study' subdirectory exists\n",
    "        if os.path.exists(study_sub_dir) and os.path.isdir(study_sub_dir):\n",
    "            # Move each file from the redundant 'study' subdirectory to the parent directory\n",
    "            for file_name in os.listdir(study_sub_dir):\n",
    "                file_path = os.path.join(study_sub_dir, file_name)\n",
    "                shutil.move(file_path, sub_dir)\n",
    "\n",
    "            # Remove the now empty 'study' subdirectory\n",
    "            os.rmdir(study_sub_dir)\n"
   ]
  },
  {
   "cell_type": "code",
   "execution_count": 9,
   "metadata": {},
   "outputs": [
    {
     "name": "stdout",
     "output_type": "stream",
     "text": [
      "1.2.840.113845.11.1000000001815528930.20201010223701.3603014\n",
      "1.3.12.2.1107.5.2.6.24111.30000019082104124198400000049\n",
      "1.3.12.2.1107.5.2.6.24111.30000019082703511493700000001\n",
      "1.3.12.2.1107.5.2.6.24111.30000019080803320789000000046\n",
      "1.2.826.1.3680043.9.5282.150415.34242.3424222232714\n",
      "1.2.826.1.3680043.9.5282.150415.35985.3598522192214\n",
      "1.2.826.1.3680043.9.5282.150415.25794.2579422232752\n",
      "1.2.826.1.3680043.9.5282.150415.37517.3751722232714\n",
      "1.2.826.1.3680043.9.5282.150415.24477.2447722188652\n",
      "1.2.826.1.3680043.9.5282.150415.178.178232327158\n",
      "cd562073a877df14df5a16f1aea5d709de641b24\n"
     ]
    }
   ],
   "source": [
    "for i, row in selected_df.iterrows():\n",
    "    study_dir = f\"{destination_dir}/{row['name']}\"\n",
    "    print(row['name'])\n",
    "    restructure_directory(study_dir, row['name'])"
   ]
  }
 ],
 "metadata": {
  "kernelspec": {
   "display_name": "venv_cerebriu",
   "language": "python",
   "name": "python3"
  },
  "language_info": {
   "codemirror_mode": {
    "name": "ipython",
    "version": 3
   },
   "file_extension": ".py",
   "mimetype": "text/x-python",
   "name": "python",
   "nbconvert_exporter": "python",
   "pygments_lexer": "ipython3",
   "version": "3.10.12"
  }
 },
 "nbformat": 4,
 "nbformat_minor": 2
}
