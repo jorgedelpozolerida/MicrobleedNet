{
 "cells": [
  {
   "cell_type": "code",
   "execution_count": 5,
   "metadata": {},
   "outputs": [],
   "source": [
    "import pandas as pd \n",
    "import os\n",
    "import cmbnet.preprocessing.loading as loading"
   ]
  },
  {
   "cell_type": "code",
   "execution_count": 7,
   "metadata": {},
   "outputs": [],
   "source": [
    "data_processed = pd.read_csv(\"/home/cerebriu/Downloads/log_2024-02-25_01-36-41.csv\", sep=\";\")\n",
    "all_studies = loading.get_dataset_subjects(\"momeni\", \"/home/cerebriu/data/datasets/raw/MOMENI\")"
   ]
  },
  {
   "cell_type": "code",
   "execution_count": 10,
   "metadata": {},
   "outputs": [
    {
     "data": {
      "text/html": [
       "<div>\n",
       "<style scoped>\n",
       "    .dataframe tbody tr th:only-of-type {\n",
       "        vertical-align: middle;\n",
       "    }\n",
       "\n",
       "    .dataframe tbody tr th {\n",
       "        vertical-align: top;\n",
       "    }\n",
       "\n",
       "    .dataframe thead th {\n",
       "        text-align: right;\n",
       "    }\n",
       "</style>\n",
       "<table border=\"1\" class=\"dataframe\">\n",
       "  <thead>\n",
       "    <tr style=\"text-align: right;\">\n",
       "      <th></th>\n",
       "      <th>studyUID</th>\n",
       "      <th>status</th>\n",
       "      <th>message</th>\n",
       "    </tr>\n",
       "  </thead>\n",
       "  <tbody>\n",
       "    <tr>\n",
       "      <th>0</th>\n",
       "      <td>279_T0_MRI_SWI_BFC_50mm_HM</td>\n",
       "      <td>completed</td>\n",
       "      <td>Started processing 279_T0_MRI_SWI_BFC_50mm_HM....</td>\n",
       "    </tr>\n",
       "    <tr>\n",
       "      <th>1</th>\n",
       "      <td>256_T1_MRI_SWI_BFC_50mm_HM</td>\n",
       "      <td>completed</td>\n",
       "      <td>Started processing 256_T1_MRI_SWI_BFC_50mm_HM....</td>\n",
       "    </tr>\n",
       "    <tr>\n",
       "      <th>2</th>\n",
       "      <td>3_T2_MRI_SWI_BFC_50mm_HM</td>\n",
       "      <td>completed</td>\n",
       "      <td>Started processing 3_T2_MRI_SWI_BFC_50mm_HM......</td>\n",
       "    </tr>\n",
       "    <tr>\n",
       "      <th>3</th>\n",
       "      <td>122_T1_MRI_SWI_BFC_50mm_HM</td>\n",
       "      <td>completed</td>\n",
       "      <td>Started processing 122_T1_MRI_SWI_BFC_50mm_HM....</td>\n",
       "    </tr>\n",
       "    <tr>\n",
       "      <th>4</th>\n",
       "      <td>249_T1_MRI_SWI_BFC_50mm_HM</td>\n",
       "      <td>completed</td>\n",
       "      <td>Started processing 249_T1_MRI_SWI_BFC_50mm_HM....</td>\n",
       "    </tr>\n",
       "  </tbody>\n",
       "</table>\n",
       "</div>"
      ],
      "text/plain": [
       "                     studyUID     status  \\\n",
       "0  279_T0_MRI_SWI_BFC_50mm_HM  completed   \n",
       "1  256_T1_MRI_SWI_BFC_50mm_HM  completed   \n",
       "2    3_T2_MRI_SWI_BFC_50mm_HM  completed   \n",
       "3  122_T1_MRI_SWI_BFC_50mm_HM  completed   \n",
       "4  249_T1_MRI_SWI_BFC_50mm_HM  completed   \n",
       "\n",
       "                                             message  \n",
       "0  Started processing 279_T0_MRI_SWI_BFC_50mm_HM....  \n",
       "1  Started processing 256_T1_MRI_SWI_BFC_50mm_HM....  \n",
       "2  Started processing 3_T2_MRI_SWI_BFC_50mm_HM......  \n",
       "3  Started processing 122_T1_MRI_SWI_BFC_50mm_HM....  \n",
       "4  Started processing 249_T1_MRI_SWI_BFC_50mm_HM....  "
      ]
     },
     "execution_count": 10,
     "metadata": {},
     "output_type": "execute_result"
    }
   ],
   "source": [
    "data_processed.head()"
   ]
  },
  {
   "cell_type": "code",
   "execution_count": 15,
   "metadata": {},
   "outputs": [
    {
     "data": {
      "text/plain": [
       "['304_T2_MRI_SWI_BFC_50mm_HM']"
      ]
     },
     "execution_count": 15,
     "metadata": {},
     "output_type": "execute_result"
    }
   ],
   "source": [
    "missing_studies = [s for s in all_studies if s not in data_processed['studyUID'].to_list()]\n",
    "missing_studies"
   ]
  },
  {
   "cell_type": "markdown",
   "metadata": {},
   "source": [
    "# valdo"
   ]
  },
  {
   "cell_type": "code",
   "execution_count": 16,
   "metadata": {},
   "outputs": [],
   "source": [
    "data_processed = pd.read_csv(\"/home/cerebriu/Downloads/log_2024-02-25_09-44-34.csv\", sep=\";\")\n",
    "all_studies = loading.get_dataset_subjects(\"valdo\", \"/home/cerebriu/data/datasets/raw/VALDO\")"
   ]
  },
  {
   "cell_type": "code",
   "execution_count": 18,
   "metadata": {},
   "outputs": [
    {
     "name": "stdout",
     "output_type": "stream",
     "text": [
      "sub-110 sub-101 sub-306 sub-216\n"
     ]
    }
   ],
   "source": [
    "missing_studies = [s for s in all_studies if s not in data_processed['studyUID'].to_list()]\n",
    "print(' '.join(missing_studies))"
   ]
  }
 ],
 "metadata": {
  "kernelspec": {
   "display_name": "venv_CMB",
   "language": "python",
   "name": "python3"
  },
  "language_info": {
   "codemirror_mode": {
    "name": "ipython",
    "version": 3
   },
   "file_extension": ".py",
   "mimetype": "text/x-python",
   "name": "python",
   "nbconvert_exporter": "python",
   "pygments_lexer": "ipython3",
   "version": "3.11.6"
  }
 },
 "nbformat": 4,
 "nbformat_minor": 2
}
