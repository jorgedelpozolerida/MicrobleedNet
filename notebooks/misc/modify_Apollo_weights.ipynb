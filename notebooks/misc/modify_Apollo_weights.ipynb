{
 "cells": [
  {
   "cell_type": "code",
   "execution_count": 1,
   "metadata": {},
   "outputs": [
    {
     "name": "stderr",
     "output_type": "stream",
     "text": [
      "2024-03-22 11:42:09.723940: I tensorflow/core/util/port.cc:111] oneDNN custom operations are on. You may see slightly different numerical results due to floating-point round-off errors from different computation orders. To turn them off, set the environment variable `TF_ENABLE_ONEDNN_OPTS=0`.\n",
      "2024-03-22 11:42:09.757252: E tensorflow/compiler/xla/stream_executor/cuda/cuda_dnn.cc:9342] Unable to register cuDNN factory: Attempting to register factory for plugin cuDNN when one has already been registered\n",
      "2024-03-22 11:42:09.757281: E tensorflow/compiler/xla/stream_executor/cuda/cuda_fft.cc:609] Unable to register cuFFT factory: Attempting to register factory for plugin cuFFT when one has already been registered\n",
      "2024-03-22 11:42:09.757303: E tensorflow/compiler/xla/stream_executor/cuda/cuda_blas.cc:1518] Unable to register cuBLAS factory: Attempting to register factory for plugin cuBLAS when one has already been registered\n",
      "2024-03-22 11:42:09.763325: I tensorflow/core/platform/cpu_feature_guard.cc:182] This TensorFlow binary is optimized to use available CPU instructions in performance-critical operations.\n",
      "To enable the following instructions: AVX2 AVX512F AVX512_VNNI FMA, in other operations, rebuild TensorFlow with the appropriate compiler flags.\n",
      "2024-03-22 11:42:10.406213: W tensorflow/compiler/tf2tensorrt/utils/py_utils.cc:38] TF-TRT Warning: Could not find TensorRT\n"
     ]
    }
   ],
   "source": [
    "from crbr.models.models import UNetApollo\n",
    "import os\n",
    "from clearml import OutputModel, Task\n",
    "import numpy as np\n",
    "\n",
    "\n",
    "raw_weights_fname = 'mlops-weights-128x128x128-seModel-hemorrhages-all-all-v18b-seModel_refine_v8.27-cycle-0-20.h5'\n",
    "new_weights_name = \"mlops-weights-128x128x128-seModel-hemorrhages-all-all-v18b-seModel_refine_v8.27-cycle-0-20_MODIFIED.h5\"\n",
    "raw_weights_path = os.path.join(\"/home/cerebriu/data/DM/MyCerebriu/Apollo/\", raw_weights_fname)\n",
    "modified_weights_path = os.path.join(\"/home/cerebriu/data/DM/MyCerebriu/Apollo/\", new_weights_name)"
   ]
  },
  {
   "cell_type": "code",
   "execution_count": 2,
   "metadata": {},
   "outputs": [],
   "source": [
    "def get_layers_info(model_in):\n",
    "    for i, layer in enumerate(model_in.layers):\n",
    "        # Get the configuration of the current layer\n",
    "        config = layer.get_config()\n",
    "\n",
    "        # Print layer details\n",
    "        print(f\"Layer {i} | Name: {config.get('name')} | Type: {layer.__class__.__name__}\")\n",
    "        print(f\"Config: {config}\")\n",
    "\n",
    "        # If the layer has weights, print their shapes\n",
    "        if layer.weights:\n",
    "            weights_shapes = [w.shape.as_list() for w in layer.weights]\n",
    "            print(f\"Weight shapes: {weights_shapes}\")"
   ]
  },
  {
   "cell_type": "markdown",
   "metadata": {},
   "source": [
    "### Create Original Apollo without deep supervision"
   ]
  },
  {
   "cell_type": "code",
   "execution_count": 3,
   "metadata": {},
   "outputs": [],
   "source": [
    "# Load original Apollo architecture with NO supervision and load pretrained weights\n",
    "model_pretrained = UNetApollo(\n",
    "    n_classes = 5,\n",
    "    n_channels = 3,\n",
    "    deep_supervision=False\n",
    "    )   \n",
    "model_pretrained.build([None, 128, 128, 128, 3])\n",
    "model_pretrained.load_weights(raw_weights_path, by_name=True)"
   ]
  },
  {
   "cell_type": "markdown",
   "metadata": {},
   "source": [
    "### Create desired model architecture with ranodmly initialized weights"
   ]
  },
  {
   "cell_type": "code",
   "execution_count": 4,
   "metadata": {},
   "outputs": [],
   "source": [
    "model_cmb = UNetApollo(\n",
    "    n_classes = 2,\n",
    "    n_channels = 1,\n",
    "    deep_supervision=False\n",
    "    )\n",
    "model_cmb.build([None, 128, 128, 128, 1])\n"
   ]
  },
  {
   "cell_type": "code",
   "execution_count": 5,
   "metadata": {},
   "outputs": [],
   "source": [
    "# get_layers_info(model)"
   ]
  },
  {
   "cell_type": "code",
   "execution_count": 6,
   "metadata": {},
   "outputs": [
    {
     "name": "stdout",
     "output_type": "stream",
     "text": [
      "Model: \"UNetApollo3D\"\n",
      "_________________________________________________________________\n",
      " Layer (type)                Output Shape              Param #   \n",
      "=================================================================\n",
      " input (InputLayer)          [(None, 128, 128, 128,    0         \n",
      "                             3)]                                 \n",
      "                                                                 \n",
      " Encoder (Encoder)           multiple                  19138082  \n",
      "                                                                 \n",
      " Decoder (Decoder)           multiple                  17165694  \n",
      "                                                                 \n",
      " output_conv (Conv3D)        multiple                  165       \n",
      "                                                                 \n",
      " SelfAttentionBlock (SelfAt  multiple                  18        \n",
      " tentionBlock)                                                   \n",
      "                                                                 \n",
      "=================================================================\n",
      "Total params: 36303959 (138.49 MB)\n",
      "Trainable params: 36303959 (138.49 MB)\n",
      "Non-trainable params: 0 (0.00 Byte)\n",
      "_________________________________________________________________\n"
     ]
    }
   ],
   "source": [
    "model_pretrained.summary()"
   ]
  },
  {
   "cell_type": "code",
   "execution_count": 7,
   "metadata": {},
   "outputs": [],
   "source": [
    "# get_layers_info(model_cmb)"
   ]
  },
  {
   "cell_type": "code",
   "execution_count": 8,
   "metadata": {},
   "outputs": [],
   "source": [
    "# model_cmb.summary()"
   ]
  },
  {
   "cell_type": "code",
   "execution_count": 9,
   "metadata": {},
   "outputs": [
    {
     "name": "stdout",
     "output_type": "stream",
     "text": [
      "OLD: Layer 0 | Name: input | Type: InputLayer\n",
      "NEW: Layer 0 | Name: input | Type: InputLayer\n",
      "--------------------------------------------------\n",
      "\n",
      "OLD: Layer 1 | Name: Encoder | Type: Encoder\n",
      "NEW: Layer 1 | Name: Encoder | Type: Encoder\n",
      "\tLayer has weights\n",
      "\tDIFFERENCE FOUND --> Shape old: (3, 3, 3, 3, 32), shape new: (3, 3, 3, 1, 32)\n",
      "--------------------------------------------------\n",
      "\n",
      "OLD: Layer 2 | Name: Decoder | Type: Decoder\n",
      "NEW: Layer 2 | Name: Decoder | Type: Decoder\n",
      "\tLayer has weights\n",
      "--------------------------------------------------\n",
      "\n",
      "OLD: Layer 3 | Name: output_conv | Type: Conv3D\n",
      "NEW: Layer 3 | Name: output_conv | Type: Conv3D\n",
      "\tLayer has weights\n",
      "\tDIFFERENCE FOUND --> Shape old: (1, 1, 1, 32, 5), shape new: (1, 1, 1, 32, 2)\n",
      "\tDIFFERENCE FOUND --> Shape old: (5,), shape new: (2,)\n",
      "--------------------------------------------------\n",
      "\n",
      "OLD: Layer 4 | Name: SelfAttentionBlock | Type: SelfAttentionBlock\n",
      "NEW: Layer 4 | Name: SelfAttentionBlock | Type: SelfAttentionBlock\n",
      "\tLayer has weights\n",
      "\tDIFFERENCE FOUND --> Shape old: (3, 3), shape new: (1, 1)\n",
      "\tDIFFERENCE FOUND --> Shape old: (3, 3), shape new: (1, 1)\n",
      "--------------------------------------------------\n",
      "\n"
     ]
    }
   ],
   "source": [
    "\n",
    "for i, (layer_old, layer_new) in enumerate(zip(model_pretrained.layers, model_cmb.layers)):\n",
    "    # Print layer details\n",
    "    print(f\"OLD: Layer {i} | Name: {layer_old.name} | Type: {layer_old.__class__.__name__}\")\n",
    "    print(f\"NEW: Layer {i} | Name: {layer_new.name} | Type: {layer_new.__class__.__name__}\")\n",
    "\n",
    "    if layer_old.weights:\n",
    "        print(f\"\\tLayer has weights\")\n",
    "        weights = layer_old.get_weights()  # Get current weights\n",
    "        new_weights = layer_new.get_weights()\n",
    "        for w_old, w_new in zip(weights, new_weights):\n",
    "            if w_old.shape != w_new.shape:\n",
    "                print(f\"\\tDIFFERENCE FOUND --> Shape old: {w_old.shape}, shape new: {w_new.shape}\")\n",
    "\n",
    "\n",
    "    print(\"--------------------------------------------------\\n\")\n",
    "\n",
    "# # Note: After performing these operations, the model's architecture has been altered, \n",
    "# # and it might not work as originally designed. Ensure to validate the model's performance.\n"
   ]
  },
  {
   "cell_type": "markdown",
   "metadata": {},
   "source": [
    "## Overwrite weights in random initialization with weights in Apollo prtrained\n",
    "Changing dimensiosn when needed and keeping only weights of interest"
   ]
  },
  {
   "cell_type": "code",
   "execution_count": 10,
   "metadata": {},
   "outputs": [
    {
     "name": "stdout",
     "output_type": "stream",
     "text": [
      "OLD: Layer 0 | Name: input | Type: InputLayer\n",
      "NEW: Layer 0 | Name: input | Type: InputLayer\n",
      "--------------------------------------------------\n",
      "\n",
      "OLD: Layer 1 | Name: Encoder | Type: Encoder\n",
      "NEW: Layer 1 | Name: Encoder | Type: Encoder\n",
      "\tExtracted weights of interest, from (3, 3, 3, 3, 32) --> (3, 3, 3, 1, 32)\n",
      "\tWeights have been overwritten with pretrained in this layer\n",
      "--------------------------------------------------\n",
      "\n",
      "OLD: Layer 2 | Name: Decoder | Type: Decoder\n",
      "NEW: Layer 2 | Name: Decoder | Type: Decoder\n",
      "\tWeights have been overwritten with pretrained in this layer\n",
      "--------------------------------------------------\n",
      "\n",
      "OLD: Layer 3 | Name: output_conv | Type: Conv3D\n",
      "NEW: Layer 3 | Name: output_conv | Type: Conv3D\n",
      "\tExtracted weights of interest, from (1, 1, 1, 32, 5) --> (1, 1, 1, 32, 2)\n",
      "\tExtracted weights of interest, from (5,) --> (2,)\n",
      "\tWeights have been overwritten with pretrained in this layer\n",
      "--------------------------------------------------\n",
      "\n",
      "OLD: Layer 4 | Name: SelfAttentionBlock | Type: SelfAttentionBlock\n",
      "NEW: Layer 4 | Name: SelfAttentionBlock | Type: SelfAttentionBlock\n",
      "\tExtracted weights of interest, from (3, 3) --> (1, 1)\n",
      "\tExtracted weights of interest, from (3, 3) --> (1, 1)\n",
      "\tWeights have been overwritten with pretrained in this layer\n",
      "\n",
      "\n",
      "\n",
      "-- Apollo weights --\n",
      "[array([[ 0.5632669 , -0.7053032 ,  0.6504666 ],\n",
      "       [ 0.6072006 , -0.7917804 , -0.5586509 ],\n",
      "       [ 0.43359348,  0.5011907 ,  0.3605014 ]], dtype=float32), array([[ 0.54126954, -0.6674252 ,  0.26225555],\n",
      "       [-0.47375166, -0.33530304,  0.87347764],\n",
      "       [ 0.59955806,  0.60947984, -0.8207123 ]], dtype=float32)]\n",
      "-- Default initialized --\n",
      "[array([[1.1167582]], dtype=float32), array([[1.3540314]], dtype=float32)]\n",
      "-- Apollo pretrained --\n",
      "[array([[-0.7917804]], dtype=float32), array([[-0.33530304]], dtype=float32)]\n",
      "--------------------------------------------------\n",
      "\n"
     ]
    }
   ],
   "source": [
    "for i, (layer_old, layer_new) in enumerate(zip(model_pretrained.layers, model_cmb.layers)):\n",
    "    # Print layer details\n",
    "    print(f\"OLD: Layer {i} | Name: {layer_old.name} | Type: {layer_old.__class__.__name__}\")\n",
    "    print(f\"NEW: Layer {i} | Name: {layer_new.name} | Type: {layer_new.__class__.__name__}\")\n",
    "    new_weights = []\n",
    "    if layer_old.weights:\n",
    "        weights = layer_old.get_weights()  # Get current weights\n",
    "        weights_new = layer_new.get_weights()\n",
    "\n",
    "        if layer_old.name == \"SelfAttentionBlock\":\n",
    "            for w in weights:\n",
    "                if w.shape == (3, 3):\n",
    "                    # Keep only MIDDLE SWI/T2S\n",
    "                    # Use slicing to keep the dimensions: [last_row:last_row+1, last_column:last_column+1]\n",
    "                    modified_w = w[1:2, 1:2]  # This will have a shape of (1, 1)\n",
    "                    print(f\"\\tExtracted weights of interest, from {w.shape} --> {modified_w.shape}\")\n",
    "                    new_weights.append(modified_w)\n",
    "                else:\n",
    "                    new_weights.append(w)  # For weights that don't match the criteria, keep them unchanged\n",
    "\n",
    "        elif layer_old.name == \"output_conv\":\n",
    "            for i, w in enumerate(weights):\n",
    "                if w.shape == (1, 1, 1, 32, 5): \n",
    "                    modified_w = w[:,:,:,:, [0, 3]] # Keep only the weights for background and hemorrhages TODO: make sure it's this channel\n",
    "                    print(f\"\\tExtracted weights of interest, from {w.shape} --> {modified_w.shape}\")\n",
    "                    new_weights.append(modified_w)\n",
    "                elif w.shape == (5,):  # Bias adjustment\n",
    "                    modified_w = w[[0, 3]]  # Get biases for background and hemo\n",
    "                    print(f\"\\tExtracted weights of interest, from {w.shape} --> {modified_w.shape}\")\n",
    "                    new_weights.append(modified_w)\n",
    "                else:\n",
    "                    new_weights.append(w)\n",
    "\n",
    "        elif layer_old.name == \"Encoder\":\n",
    "            for i, w in enumerate(weights):\n",
    "                if w.shape == (3, 3, 3, 3, 32): \n",
    "                    modified_w = w[:, :, :, 1:2, :] # Keep only the weights for T2S/SWI, shape new: (3, 3, 3, 1, 32)\n",
    "                    print(f\"\\tExtracted weights of interest, from {w.shape} --> {modified_w.shape}\")\n",
    "                    new_weights.append(modified_w)\n",
    "                else:\n",
    "                    new_weights.append(w)\n",
    "        else:\n",
    "            for i, w in enumerate(weights):\n",
    "                new_weights.append(w)\n",
    "\n",
    "    # Set the modified weights back to the layer, if any modification was made\n",
    "    if len(new_weights)>0:\n",
    "        layer_new.set_weights(new_weights)\n",
    "        print(\"\\tWeights have been overwritten with pretrained in this layer\")\n",
    "        if layer_old.name in [\"SelfAttentionBlock\"\n",
    "                            #   , \"output_conv\" \n",
    "                            ]:\n",
    "            print()\n",
    "            print()\n",
    "            print()\n",
    "            print(\"-- Apollo weights --\")\n",
    "            print(weights)\n",
    "            print(\"-- Default initialized --\")\n",
    "            print(weights_new)\n",
    "            print(\"-- Apollo pretrained --\")\n",
    "            print(new_weights)\n",
    "\n",
    "    print(\"--------------------------------------------------\\n\")\n",
    "\n",
    "# # Note: After performing these operations, the model's architecture has been altered, \n",
    "# # and it might not work as originally designed. Ensure to validate the model's performance.\n"
   ]
  },
  {
   "cell_type": "code",
   "execution_count": 11,
   "metadata": {},
   "outputs": [
    {
     "data": {
      "text/plain": [
       "[array([[-0.7917804]], dtype=float32), array([[-0.33530304]], dtype=float32)]"
      ]
     },
     "execution_count": 11,
     "metadata": {},
     "output_type": "execute_result"
    }
   ],
   "source": [
    "model_cmb.get_layer(\n",
    "    \"SelfAttentionBlock\"\n",
    ").get_weights()\n",
    "\n",
    "# Output should look like this:\n",
    "# -- Apollo pretrained --\n",
    "# [array([[-0.7917804]], dtype=float32), array([[-0.33530304]], dtype=flo   at32)]"
   ]
  },
  {
   "cell_type": "code",
   "execution_count": 12,
   "metadata": {},
   "outputs": [],
   "source": [
    "model_cmb.save_weights(modified_weights_path)"
   ]
  }
 ],
 "metadata": {
  "kernelspec": {
   "display_name": "venv_cerebriu",
   "language": "python",
   "name": "python3"
  },
  "language_info": {
   "codemirror_mode": {
    "name": "ipython",
    "version": 3
   },
   "file_extension": ".py",
   "mimetype": "text/x-python",
   "name": "python",
   "nbconvert_exporter": "python",
   "pygments_lexer": "ipython3",
   "version": "3.10.12"
  }
 },
 "nbformat": 4,
 "nbformat_minor": 2
}
