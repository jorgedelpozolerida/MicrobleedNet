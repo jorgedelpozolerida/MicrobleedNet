{
 "cells": [
  {
   "cell_type": "code",
   "execution_count": 1,
   "metadata": {},
   "outputs": [
    {
     "name": "stderr",
     "output_type": "stream",
     "text": [
      "2024-03-22 11:48:08.862871: I tensorflow/core/util/port.cc:111] oneDNN custom operations are on. You may see slightly different numerical results due to floating-point round-off errors from different computation orders. To turn them off, set the environment variable `TF_ENABLE_ONEDNN_OPTS=0`.\n",
      "2024-03-22 11:48:08.864413: I tensorflow/tsl/cuda/cudart_stub.cc:28] Could not find cuda drivers on your machine, GPU will not be used.\n",
      "2024-03-22 11:48:08.891306: E tensorflow/compiler/xla/stream_executor/cuda/cuda_dnn.cc:9342] Unable to register cuDNN factory: Attempting to register factory for plugin cuDNN when one has already been registered\n",
      "2024-03-22 11:48:08.891336: E tensorflow/compiler/xla/stream_executor/cuda/cuda_fft.cc:609] Unable to register cuFFT factory: Attempting to register factory for plugin cuFFT when one has already been registered\n",
      "2024-03-22 11:48:08.891354: E tensorflow/compiler/xla/stream_executor/cuda/cuda_blas.cc:1518] Unable to register cuBLAS factory: Attempting to register factory for plugin cuBLAS when one has already been registered\n",
      "2024-03-22 11:48:08.896130: I tensorflow/tsl/cuda/cudart_stub.cc:28] Could not find cuda drivers on your machine, GPU will not be used.\n",
      "2024-03-22 11:48:08.896559: I tensorflow/core/platform/cpu_feature_guard.cc:182] This TensorFlow binary is optimized to use available CPU instructions in performance-critical operations.\n",
      "To enable the following instructions: AVX2 AVX512F AVX512_VNNI FMA, in other operations, rebuild TensorFlow with the appropriate compiler flags.\n",
      "2024-03-22 11:48:09.772889: W tensorflow/compiler/tf2tensorrt/utils/py_utils.cc:38] TF-TRT Warning: Could not find TensorRT\n"
     ]
    }
   ],
   "source": [
    "from crbr.models.models import UNetApollo\n",
    "import os\n",
    "from clearml import OutputModel, Task\n",
    "\n",
    "raw_weights_fname = 'mlops-weights-128x128x128-seModel-hemorrhages-all-all-v18b-seModel_refine_v8.27-cycle-0-20.h5'\n",
    "new_weights_name = \"mlops-weights-128x128x128-seModel-hemorrhages-all-all-v18b-seModel_refine_v8.27-cycle-0-20_MODIFIED.h5\"\n",
    "\n",
    "raw_weights_path = os.path.join(\"/home/cerebriu/data/DM/MyCerebriu/Apollo/\", raw_weights_fname)\n",
    "modified_weights_path = os.path.join(\"/home/cerebriu/data/DM/MyCerebriu/Apollo/\", new_weights_name)"
   ]
  },
  {
   "cell_type": "markdown",
   "metadata": {},
   "source": [
    "# Upload Apollo model as is "
   ]
  },
  {
   "cell_type": "code",
   "execution_count": 2,
   "metadata": {},
   "outputs": [],
   "source": [
    "# model_cmb = UNetApollo(\n",
    "#     n_classes = 2,\n",
    "#     n_channels = 1,\n",
    "#     deep_supervision=False\n",
    "#     )\n",
    "# model_cmb.build([1, 128, 128, 128, 1])\n",
    "\n",
    "# task = Task.init(project_name='CMB',\n",
    "#                     task_name='UNetApollo_pretrained',\n",
    "#                     task_type=Task.TaskTypes.inference,\n",
    "#                     tags=['UNetApollo', 'pretrained', 'upload'])\n",
    "\n",
    "# output_model = OutputModel(task=task)\n",
    "# output_model.update_weights(weights_filename=modified_weights_path)\n",
    "# task.close()\n"
   ]
  },
  {
   "cell_type": "markdown",
   "metadata": {},
   "source": [
    "# Upload modified apollo model"
   ]
  },
  {
   "cell_type": "code",
   "execution_count": 3,
   "metadata": {},
   "outputs": [
    {
     "name": "stderr",
     "output_type": "stream",
     "text": [
      "InsecureRequestWarning: Certificate verification is disabled! Adding certificate verification is strongly advised. See: https://urllib3.readthedocs.io/en/latest/advanced-usage.html#ssl-warnings\n"
     ]
    },
    {
     "name": "stdout",
     "output_type": "stream",
     "text": [
      "ClearML Task: created new task id=e3fee439905849cf91ca74e115f921e0\n",
      "2024-03-22 11:48:12,828 - clearml.Repository Detection - WARNING - Could not read Jupyter Notebook: No module named 'nbconvert'\n",
      "2024-03-22 11:48:12,833 - clearml.Task - INFO - Storing jupyter notebook directly as code\n",
      "ClearML results page: https://130.61.76.150:8080/projects/6ddb0981c8fb40a48548f69513819fa8/experiments/e3fee439905849cf91ca74e115f921e0/output/log\n",
      "s3://cerebriu-research-mlops/clearml/mlops-server\n",
      "2024-03-22 11:48:14,752 - clearml.storage - INFO - Starting upload: /home/cerebriu/data/DM/MyCerebriu/Apollo/mlops-weights-128x128x128-seModel-hemorrhages-all-all-v18b-seModel_refine_v8.27-cycle-0-20_MODIFIED.h5 => cerebriu-research-mlops/clearml/mlops-server/CMB/UNetApollo_pretrained_modified.e3fee439905849cf91ca74e115f921e0/models/mlops-weights-128x128x128-seModel-hemorrhages-all-all-v18b-seModel_refine_v8.27-cycle-0-20_MODIFIED.h5\n",
      "2024-03-22 11:48:15,545 - clearml.storage - INFO - Uploading: 5.00MB / 138.67MB @ 6.31MBs from /home/cerebriu/data/DM/MyCerebriu/Apollo/mlops-weights-128x128x128-seModel-hemorrhages-all-all-v18b-seModel_refine_v8.27-cycle-0-20_MODIFIED.h5\n",
      "ClearML results page: https://130.61.76.150:8080/projects/6ddb0981c8fb40a48548f69513819fa8/experiments/e3fee439905849cf91ca74e115f921e0/output/log\n",
      "ClearML Monitor: GPU monitoring failed getting GPU reading, switching off GPU monitoring\n",
      "2024-03-22 11:48:15,822 - clearml.storage - INFO - Uploading: 10.00MB / 138.67MB @ 18.06MBs from /home/cerebriu/data/DM/MyCerebriu/Apollo/mlops-weights-128x128x128-seModel-hemorrhages-all-all-v18b-seModel_refine_v8.27-cycle-0-20_MODIFIED.h5\n",
      "2024-03-22 11:48:16,168 - clearml.storage - INFO - Uploading: 15.00MB / 138.67MB @ 14.45MBs from /home/cerebriu/data/DM/MyCerebriu/Apollo/mlops-weights-128x128x128-seModel-hemorrhages-all-all-v18b-seModel_refine_v8.27-cycle-0-20_MODIFIED.h5\n",
      "2024-03-22 11:48:16,540 - clearml.storage - INFO - Uploading: 20.00MB / 138.67MB @ 13.46MBs from /home/cerebriu/data/DM/MyCerebriu/Apollo/mlops-weights-128x128x128-seModel-hemorrhages-all-all-v18b-seModel_refine_v8.27-cycle-0-20_MODIFIED.h5\n",
      "2024-03-22 11:48:16,893 - clearml.storage - INFO - Uploading: 25.00MB / 138.67MB @ 14.17MBs from /home/cerebriu/data/DM/MyCerebriu/Apollo/mlops-weights-128x128x128-seModel-hemorrhages-all-all-v18b-seModel_refine_v8.27-cycle-0-20_MODIFIED.h5\n",
      "2024-03-22 11:48:17,256 - clearml.storage - INFO - Uploading: 30.00MB / 138.67MB @ 13.77MBs from /home/cerebriu/data/DM/MyCerebriu/Apollo/mlops-weights-128x128x128-seModel-hemorrhages-all-all-v18b-seModel_refine_v8.27-cycle-0-20_MODIFIED.h5\n",
      "2024-03-22 11:48:17,596 - clearml.storage - INFO - Uploading: 35.00MB / 138.67MB @ 14.68MBs from /home/cerebriu/data/DM/MyCerebriu/Apollo/mlops-weights-128x128x128-seModel-hemorrhages-all-all-v18b-seModel_refine_v8.27-cycle-0-20_MODIFIED.h5\n",
      "2024-03-22 11:48:17,897 - clearml.storage - INFO - Uploading: 40.00MB / 138.67MB @ 16.64MBs from /home/cerebriu/data/DM/MyCerebriu/Apollo/mlops-weights-128x128x128-seModel-hemorrhages-all-all-v18b-seModel_refine_v8.27-cycle-0-20_MODIFIED.h5\n",
      "2024-03-22 11:48:18,139 - clearml.storage - INFO - Uploading: 45.00MB / 138.67MB @ 20.62MBs from /home/cerebriu/data/DM/MyCerebriu/Apollo/mlops-weights-128x128x128-seModel-hemorrhages-all-all-v18b-seModel_refine_v8.27-cycle-0-20_MODIFIED.h5\n",
      "2024-03-22 11:48:18,409 - clearml.storage - INFO - Uploading: 50.00MB / 138.67MB @ 18.53MBs from /home/cerebriu/data/DM/MyCerebriu/Apollo/mlops-weights-128x128x128-seModel-hemorrhages-all-all-v18b-seModel_refine_v8.27-cycle-0-20_MODIFIED.h5\n",
      "2024-03-22 11:48:18,712 - clearml.storage - INFO - Uploading: 55.00MB / 138.67MB @ 16.50MBs from /home/cerebriu/data/DM/MyCerebriu/Apollo/mlops-weights-128x128x128-seModel-hemorrhages-all-all-v18b-seModel_refine_v8.27-cycle-0-20_MODIFIED.h5\n",
      "2024-03-22 11:48:19,187 - clearml.storage - INFO - Uploading: 60.00MB / 138.67MB @ 10.53MBs from /home/cerebriu/data/DM/MyCerebriu/Apollo/mlops-weights-128x128x128-seModel-hemorrhages-all-all-v18b-seModel_refine_v8.27-cycle-0-20_MODIFIED.h5\n",
      "2024-03-22 11:48:19,676 - clearml.storage - INFO - Uploading: 65.00MB / 138.67MB @ 10.22MBs from /home/cerebriu/data/DM/MyCerebriu/Apollo/mlops-weights-128x128x128-seModel-hemorrhages-all-all-v18b-seModel_refine_v8.27-cycle-0-20_MODIFIED.h5\n",
      "2024-03-22 11:48:20,042 - clearml.storage - INFO - Uploading: 70.00MB / 138.67MB @ 13.66MBs from /home/cerebriu/data/DM/MyCerebriu/Apollo/mlops-weights-128x128x128-seModel-hemorrhages-all-all-v18b-seModel_refine_v8.27-cycle-0-20_MODIFIED.h5\n",
      "2024-03-22 11:48:20,456 - clearml.storage - INFO - Uploading: 75.00MB / 138.67MB @ 12.09MBs from /home/cerebriu/data/DM/MyCerebriu/Apollo/mlops-weights-128x128x128-seModel-hemorrhages-all-all-v18b-seModel_refine_v8.27-cycle-0-20_MODIFIED.h5\n",
      "2024-03-22 11:48:20,986 - clearml.storage - INFO - Uploading: 80.00MB / 138.67MB @ 9.42MBs from /home/cerebriu/data/DM/MyCerebriu/Apollo/mlops-weights-128x128x128-seModel-hemorrhages-all-all-v18b-seModel_refine_v8.27-cycle-0-20_MODIFIED.h5\n",
      "2024-03-22 11:48:21,492 - clearml.storage - INFO - Uploading: 85.00MB / 138.67MB @ 9.89MBs from /home/cerebriu/data/DM/MyCerebriu/Apollo/mlops-weights-128x128x128-seModel-hemorrhages-all-all-v18b-seModel_refine_v8.27-cycle-0-20_MODIFIED.h5\n",
      "2024-03-22 11:48:22,014 - clearml.storage - INFO - Uploading: 90.00MB / 138.67MB @ 9.58MBs from /home/cerebriu/data/DM/MyCerebriu/Apollo/mlops-weights-128x128x128-seModel-hemorrhages-all-all-v18b-seModel_refine_v8.27-cycle-0-20_MODIFIED.h5\n",
      "2024-03-22 11:48:22,322 - clearml.storage - INFO - Uploading: 95.17MB / 138.67MB @ 16.75MBs from /home/cerebriu/data/DM/MyCerebriu/Apollo/mlops-weights-128x128x128-seModel-hemorrhages-all-all-v18b-seModel_refine_v8.27-cycle-0-20_MODIFIED.h5\n",
      "2024-03-22 11:48:22,791 - clearml.storage - INFO - Uploading: 100.17MB / 138.67MB @ 10.68MBs from /home/cerebriu/data/DM/MyCerebriu/Apollo/mlops-weights-128x128x128-seModel-hemorrhages-all-all-v18b-seModel_refine_v8.27-cycle-0-20_MODIFIED.h5\n",
      "2024-03-22 11:48:23,192 - clearml.storage - INFO - Uploading: 105.17MB / 138.67MB @ 12.47MBs from /home/cerebriu/data/DM/MyCerebriu/Apollo/mlops-weights-128x128x128-seModel-hemorrhages-all-all-v18b-seModel_refine_v8.27-cycle-0-20_MODIFIED.h5\n",
      "2024-03-22 11:48:23,525 - clearml.storage - INFO - Uploading: 110.17MB / 138.67MB @ 14.99MBs from /home/cerebriu/data/DM/MyCerebriu/Apollo/mlops-weights-128x128x128-seModel-hemorrhages-all-all-v18b-seModel_refine_v8.27-cycle-0-20_MODIFIED.h5\n",
      "2024-03-22 11:48:23,812 - clearml.storage - INFO - Uploading: 115.17MB / 138.67MB @ 17.41MBs from /home/cerebriu/data/DM/MyCerebriu/Apollo/mlops-weights-128x128x128-seModel-hemorrhages-all-all-v18b-seModel_refine_v8.27-cycle-0-20_MODIFIED.h5\n",
      "2024-03-22 11:48:24,387 - clearml.storage - INFO - Uploading: 120.17MB / 138.67MB @ 8.69MBs from /home/cerebriu/data/DM/MyCerebriu/Apollo/mlops-weights-128x128x128-seModel-hemorrhages-all-all-v18b-seModel_refine_v8.27-cycle-0-20_MODIFIED.h5\n",
      "2024-03-22 11:48:24,727 - clearml.storage - INFO - Uploading: 125.17MB / 138.67MB @ 14.72MBs from /home/cerebriu/data/DM/MyCerebriu/Apollo/mlops-weights-128x128x128-seModel-hemorrhages-all-all-v18b-seModel_refine_v8.27-cycle-0-20_MODIFIED.h5\n",
      "2024-03-22 11:48:25,331 - clearml.storage - INFO - Uploading: 130.17MB / 138.67MB @ 8.28MBs from /home/cerebriu/data/DM/MyCerebriu/Apollo/mlops-weights-128x128x128-seModel-hemorrhages-all-all-v18b-seModel_refine_v8.27-cycle-0-20_MODIFIED.h5\n",
      "2024-03-22 11:48:26,100 - clearml.storage - INFO - Uploading: 135.17MB / 138.67MB @ 6.50MBs from /home/cerebriu/data/DM/MyCerebriu/Apollo/mlops-weights-128x128x128-seModel-hemorrhages-all-all-v18b-seModel_refine_v8.27-cycle-0-20_MODIFIED.h5\n",
      "2024-03-22 11:48:26,980 - clearml.Task - INFO - Completed model upload to s3://cerebriu-research-mlops/clearml/mlops-server/CMB/UNetApollo_pretrained_modified.e3fee439905849cf91ca74e115f921e0/models/mlops-weights-128x128x128-seModel-hemorrhages-all-all-v18b-seModel_refine_v8.27-cycle-0-20_MODIFIED.h5\n"
     ]
    }
   ],
   "source": [
    "model_cmb = UNetApollo(\n",
    "    n_classes = 2,\n",
    "    n_channels = 1,\n",
    "    deep_supervision=False\n",
    "    )\n",
    "model_cmb.build([None, 128, 128, 128, 1])\n",
    "\n",
    "task = Task.init(project_name='CMB',\n",
    "                    task_name='UNetApollo_pretrained_modified',\n",
    "                    task_type=Task.TaskTypes.inference,\n",
    "                    output_uri=True,\n",
    "                    tags=['UNetApollo', 'pretrained', 'SWI|T2S', 'background', 'hemorrhage'])\n",
    "\n",
    "print(task.get_output_destination())\n",
    "\n",
    "output_model = OutputModel(task=task, config_dict=model_cmb.get_config())\n",
    "output_model.set_metadata(\"epoch\", 0)\n",
    "output_model.update_weights(weights_filename=modified_weights_path, auto_delete_file=False)\n",
    "output_model.wait_for_uploads()\n",
    "task.close()\n"
   ]
  }
 ],
 "metadata": {
  "kernelspec": {
   "display_name": "venv_cerebriu",
   "language": "python",
   "name": "python3"
  },
  "language_info": {
   "codemirror_mode": {
    "name": "ipython",
    "version": 3
   },
   "file_extension": ".py",
   "mimetype": "text/x-python",
   "name": "python",
   "nbconvert_exporter": "python",
   "pygments_lexer": "ipython3",
   "version": "3.11.6"
  }
 },
 "nbformat": 4,
 "nbformat_minor": 2
}
