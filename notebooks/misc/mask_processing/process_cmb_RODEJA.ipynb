{
 "cells": [
  {
   "cell_type": "markdown",
   "metadata": {},
   "source": [
    "# Processing of DOU masks"
   ]
  },
  {
   "cell_type": "code",
   "execution_count": 1,
   "metadata": {},
   "outputs": [
    {
     "data": {
      "text/plain": [
       "<module 'cmbnet' from '/home/cerebriu/data/RESEARCH/MicrobleedNet/cmbnet/__init__.py'>"
      ]
     },
     "execution_count": 1,
     "metadata": {},
     "output_type": "execute_result"
    }
   ],
   "source": [
    "import nibabel as nib\n",
    "import nilearn as nil\n",
    "import numpy as np \n",
    "import sys\n",
    "import pandas as pd\n",
    "import re\n",
    "\n",
    "import cmbnet.preprocessing.loading as loading\n",
    "\n",
    "import cmbnet.preprocessing.process_masks as process_masks\n",
    "from cmbnet.preprocessing.datasets.rodeja import load_RODEJA_data, perform_RODEJA_QC, load_RODEJA_raw\n",
    "from cmbnet.preprocessing.loading import get_dataset_subjects\n",
    "import cmbnet.visualization.utils_plotting as utils_plt\n",
    "import os\n",
    "\n",
    "import importlib\n",
    "import cmbnet\n",
    "importlib.reload(cmbnet)\n"
   ]
  },
  {
   "cell_type": "code",
   "execution_count": 2,
   "metadata": {},
   "outputs": [],
   "source": [
    "input_dir = \"/home/cerebriu/data/datasets/raw/RODEJA\"\n",
    "dataset_name=\"rodeja\"\n",
    "subjects = loading.get_dataset_subjects(dataset_name, input_dir)"
   ]
  },
  {
   "cell_type": "code",
   "execution_count": 3,
   "metadata": {},
   "outputs": [
    {
     "data": {
      "text/plain": [
       "103"
      ]
     },
     "execution_count": 3,
     "metadata": {},
     "output_type": "execute_result"
    }
   ],
   "source": [
    "len(subjects)"
   ]
  },
  {
   "cell_type": "code",
   "execution_count": 4,
   "metadata": {},
   "outputs": [],
   "source": [
    "df1 = pd.read_csv(\"/home/cerebriu/data/datasets/raw/RODEJA/cmb_annotations/notes_on_annotated_scans.txt\", \n",
    "                    header=None, dtype=str,\n",
    "                    sep = \" \", \n",
    "                    names=['studyUID', 'n_CMB', \"2remove\"])\n",
    "# df2 = pd.read_csv(\"/home/cerebriu/data/datasets/raw/RODEJA/cmb_annotations/notes_on_annotation.txt\", \n",
    "#                   header=None, dtype=str,\n",
    "#                   sep = \" \"\n",
    "#                   )\n",
    "df3 = pd.read_csv(\"/home/cerebriu/data/datasets/raw/RODEJA/cmb_annotations/notes_on_annotation_CMB.txt\",\n",
    "    header=None, dtype=str,\n",
    "                    sep = \" \",\n",
    "                    names=['studyUID', 'n_CMB', \"2remove\"])"
   ]
  },
  {
   "cell_type": "code",
   "execution_count": 5,
   "metadata": {},
   "outputs": [],
   "source": [
    "class Args:\n",
    "    def __init__(self, input_dir = input_dir, dataset_name=dataset_name):\n",
    "        self.input_dir = input_dir\n",
    "        self.dataset_name = dataset_name\n",
    "        self.plots_path = \"/home/cerebriu/Downloads/\""
   ]
  },
  {
   "cell_type": "code",
   "execution_count": 6,
   "metadata": {},
   "outputs": [
    {
     "name": "stdout",
     "output_type": "stream",
     "text": [
      "------------------------------------------------\n",
      "00006\n",
      "------------------------------------------------\n",
      "CMBs: [{'label': 1, 'size': 10, 'center_of_mass': (102, 130, 49)}, {'label': 2, 'size': 7, 'center_of_mass': (94, 118, 51)}, {'label': 3, 'size': 10, 'center_of_mass': (71, 107, 49)}, {'label': 4, 'size': 19, 'center_of_mass': (79, 151, 46)}, {'label': 5, 'size': 16, 'center_of_mass': (97, 174, 46)}, {'label': 6, 'size': 6, 'center_of_mass': (85, 158, 42)}, {'label': 7, 'size': 3, 'center_of_mass': (79, 152, 42)}, {'label': 8, 'size': 13, 'center_of_mass': (67, 155, 38)}, {'label': 9, 'size': 37, 'center_of_mass': (79, 117, 34)}, {'label': 10, 'size': 16, 'center_of_mass': (74, 55, 37)}, {'label': 11, 'size': 5, 'center_of_mass': (74, 60, 33)}, {'label': 12, 'size': 9, 'center_of_mass': (69, 58, 32)}, {'label': 13, 'size': 11, 'center_of_mass': (70, 70, 33)}, {'label': 14, 'size': 35, 'center_of_mass': (74, 125, 31)}, {'label': 15, 'size': 12, 'center_of_mass': (96, 123, 30)}, {'label': 16, 'size': 15, 'center_of_mass': (89, 107, 30)}, {'label': 17, 'size': 26, 'center_of_mass': (58, 95, 25)}, {'label': 18, 'size': 6, 'center_of_mass': (61, 76, 25)}, {'label': 19, 'size': 21, 'center_of_mass': (72, 64, 25)}, {'label': 20, 'size': 7, 'center_of_mass': (92, 56, 24)}, {'label': 21, 'size': 9, 'center_of_mass': (103, 64, 26)}, {'label': 22, 'size': 36, 'center_of_mass': (97, 29, 25)}, {'label': 23, 'size': 34, 'center_of_mass': (80, 46, 21)}, {'label': 24, 'size': 16, 'center_of_mass': (81, 73, 20)}, {'label': 25, 'size': 34, 'center_of_mass': (129, 148, 44)}, {'label': 26, 'size': 10, 'center_of_mass': (140, 137, 43)}, {'label': 27, 'size': 5, 'center_of_mass': (143, 130, 47)}, {'label': 28, 'size': 4, 'center_of_mass': (142, 104, 45)}, {'label': 29, 'size': 7, 'center_of_mass': (135, 138, 46)}, {'label': 30, 'size': 4, 'center_of_mass': (125, 143, 47)}, {'label': 31, 'size': 1, 'center_of_mass': (127, 131, 47)}, {'label': 32, 'size': 27, 'center_of_mass': (138, 85, 47)}, {'label': 33, 'size': 21, 'center_of_mass': (134, 79, 45)}, {'label': 34, 'size': 50, 'center_of_mass': (162, 85, 38)}, {'label': 35, 'size': 36, 'center_of_mass': (147, 127, 35)}, {'label': 36, 'size': 10, 'center_of_mass': (136, 60, 36)}, {'label': 37, 'size': 10, 'center_of_mass': (162, 86, 32)}, {'label': 38, 'size': 11, 'center_of_mass': (164, 76, 31)}, {'label': 39, 'size': 32, 'center_of_mass': (138, 184, 30)}, {'label': 40, 'size': 42, 'center_of_mass': (142, 116, 30)}, {'label': 41, 'size': 24, 'center_of_mass': (141, 142, 29)}, {'label': 42, 'size': 5, 'center_of_mass': (121, 128, 29)}, {'label': 43, 'size': 18, 'center_of_mass': (125, 111, 29)}, {'label': 44, 'size': 11, 'center_of_mass': (153, 131, 28)}, {'label': 45, 'size': 13, 'center_of_mass': (148, 132, 27)}, {'label': 46, 'size': 5, 'center_of_mass': (152, 130, 25)}, {'label': 47, 'size': 8, 'center_of_mass': (172, 95, 25)}, {'label': 48, 'size': 23, 'center_of_mass': (56, 141, 17)}, {'label': 49, 'size': 4, 'center_of_mass': (119, 102, 16)}, {'label': 50, 'size': 17, 'center_of_mass': (130, 81, 14)}, {'label': 51, 'size': 23, 'center_of_mass': (94, 74, 15)}, {'label': 52, 'size': 42, 'center_of_mass': (126, 78, 13)}, {'label': 53, 'size': 2, 'center_of_mass': (95, 69, 13)}, {'label': 54, 'size': 5, 'center_of_mass': (87, 72, 11)}, {'label': 55, 'size': 14, 'center_of_mass': (81, 86, 10)}]\n",
      "shape: (224, 256, 64)\n",
      "(102, 130, 49)\n",
      "(94, 118, 51)\n",
      "(71, 107, 49)\n",
      "(79, 151, 46)\n",
      "(97, 174, 46)\n",
      "(85, 158, 42)\n",
      "(79, 152, 42)\n",
      "(67, 155, 38)\n",
      "(79, 117, 34)\n",
      "(74, 55, 37)\n",
      "(74, 60, 33)\n",
      "(69, 58, 32)\n",
      "(70, 70, 33)\n",
      "(74, 125, 31)\n",
      "(96, 123, 30)\n",
      "(89, 107, 30)\n",
      "(58, 95, 25)\n",
      "(61, 76, 25)\n",
      "(72, 64, 25)\n",
      "(92, 56, 24)\n",
      "(103, 64, 26)\n",
      "(97, 29, 25)\n",
      "(80, 46, 21)\n",
      "(81, 73, 20)\n",
      "(129, 148, 44)\n",
      "(140, 137, 43)\n",
      "(143, 130, 47)\n",
      "(142, 104, 45)\n",
      "(135, 138, 46)\n",
      "(125, 143, 47)\n",
      "(127, 131, 47)\n",
      "(138, 85, 47)\n",
      "(134, 79, 45)\n",
      "(162, 85, 38)\n",
      "(147, 127, 35)\n",
      "(136, 60, 36)\n",
      "(162, 86, 32)\n",
      "(164, 76, 31)\n",
      "(138, 184, 30)\n",
      "(142, 116, 30)\n",
      "(141, 142, 29)\n",
      "(121, 128, 29)\n",
      "(125, 111, 29)\n",
      "(153, 131, 28)\n",
      "(148, 132, 27)\n",
      "(152, 130, 25)\n",
      "(172, 95, 25)\n",
      "(56, 141, 17)\n",
      "(119, 102, 16)\n",
      "(130, 81, 14)\n",
      "(94, 74, 15)\n",
      "(126, 78, 13)\n",
      "(95, 69, 13)\n",
      "(87, 72, 11)\n",
      "(81, 86, 10)\n"
     ]
    },
    {
     "ename": "KeyError",
     "evalue": "54",
     "output_type": "error",
     "traceback": [
      "\u001b[0;31m---------------------------------------------------------------------------\u001b[0m",
      "\u001b[0;31mKeyError\u001b[0m                                  Traceback (most recent call last)",
      "Cell \u001b[0;32mIn[6], line 39\u001b[0m\n\u001b[1;32m     34\u001b[0m \u001b[38;5;28;01mfor\u001b[39;00m i, CM \u001b[38;5;129;01min\u001b[39;00m \u001b[38;5;28menumerate\u001b[39m(com_list):\n\u001b[1;32m     35\u001b[0m     \u001b[38;5;28mprint\u001b[39m(CM)                                  \n\u001b[1;32m     36\u001b[0m     metadata_str \u001b[38;5;241m=\u001b[39m \u001b[38;5;124mf\u001b[39m\u001b[38;5;124m\"\"\"\u001b[39m\u001b[38;5;130;01m\\\u001b[39;00m\n\u001b[1;32m     37\u001b[0m \u001b[38;5;124m    sub: \u001b[39m\u001b[38;5;132;01m{\u001b[39;00msubject\u001b[38;5;132;01m}\u001b[39;00m\n\u001b[1;32m     38\u001b[0m \u001b[38;5;124m    \u001b[39m\u001b[38;5;132;01m{\u001b[39;00msequence_type\u001b[38;5;132;01m}\u001b[39;00m\u001b[38;5;124m, shape: \u001b[39m\u001b[38;5;132;01m{\u001b[39;00mmri_im_raw\u001b[38;5;241m.\u001b[39mshape\u001b[38;5;132;01m}\u001b[39;00m\n\u001b[0;32m---> 39\u001b[0m \u001b[38;5;124m    CMBloc: \u001b[39m\u001b[38;5;132;01m{\u001b[39;00mCM\u001b[38;5;132;01m}\u001b[39;00m\u001b[38;5;124m   CMBsize: \u001b[39m\u001b[38;5;132;01m{\u001b[39;00m\u001b[43mlabels_metadata\u001b[49m\u001b[43m[\u001b[49m\u001b[38;5;124;43m\"\u001b[39;49m\u001b[38;5;124;43mCMBs_old\u001b[39;49m\u001b[38;5;124;43m\"\u001b[39;49m\u001b[43m]\u001b[49m\u001b[43m[\u001b[49m\u001b[43mi\u001b[49m\u001b[43m]\u001b[49m[\u001b[38;5;124m'\u001b[39m\u001b[38;5;124msize\u001b[39m\u001b[38;5;124m'\u001b[39m]\u001b[38;5;132;01m}\u001b[39;00m\n\u001b[1;32m     40\u001b[0m \u001b[38;5;124m    \u001b[39m\u001b[38;5;124m\"\"\"\u001b[39m\n\u001b[1;32m     43\u001b[0m     filename_temp \u001b[38;5;241m=\u001b[39m os\u001b[38;5;241m.\u001b[39mpath\u001b[38;5;241m.\u001b[39mjoin(\u001b[38;5;124m\"\u001b[39m\u001b[38;5;124m/home/cerebriu/Downloads\u001b[39m\u001b[38;5;124m\"\u001b[39m, \u001b[38;5;124mf\u001b[39m\u001b[38;5;124m\"\u001b[39m\u001b[38;5;124mRODEJA_\u001b[39m\u001b[38;5;132;01m{\u001b[39;00msubject\u001b[38;5;132;01m}\u001b[39;00m\u001b[38;5;124m-CMB_\u001b[39m\u001b[38;5;132;01m{\u001b[39;00mi\u001b[38;5;132;01m}\u001b[39;00m\u001b[38;5;124m.png\u001b[39m\u001b[38;5;124m\"\u001b[39m)\n\u001b[1;32m     44\u001b[0m     utils_plt\u001b[38;5;241m.\u001b[39mplot_processed_mask(mri_im_raw, rawcmb_im_raw, grownmask_raw, CM, \u001b[38;5;241m100\u001b[39m, metadata_str\u001b[38;5;241m=\u001b[39mmetadata_str, save_path\u001b[38;5;241m=\u001b[39mfilename_temp)\n",
      "\u001b[0;31mKeyError\u001b[0m: 54"
     ]
    }
   ],
   "source": [
    "args = Args()\n",
    "results = {}\n",
    "subjects_temp = subjects\n",
    "subjects_temp = [\"00006\"]\n",
    "\n",
    "for subject in subjects_temp:\n",
    "    print(\"------------------------------------------------\")\n",
    "    print(subject)\n",
    "    print(\"------------------------------------------------\")\n",
    "\n",
    "    # Load data\n",
    "\n",
    "    # sequences_qc_f, labels_qc_f, metadata_out_F, seq_type, msg_f = load_RODEJA_data(args, subject, \"\")\n",
    "    \n",
    "    sequences_raw, labels_raw, sequence_type, cmb_info, msg = load_RODEJA_raw(args.input_dir, subject, \"\", \"\\t\")\n",
    "    print(f\"CMBs: {cmb_info}\")\n",
    "\n",
    "    sequences_qc, labels_qc, labels_metadata, msg = perform_RODEJA_QC(sequences_raw, labels_raw, msg)\n",
    "\n",
    "    mri_im_raw = sequences_raw[sequence_type]\n",
    "    rawcmb_im_raw = labels_raw[sequence_type]\n",
    "    grownmask_raw = labels_qc[sequence_type]\n",
    "\n",
    "    results[subject] = {\n",
    "        \"raw\": (sequences_raw, labels_raw, sequence_type, cmb_info),\n",
    "        \"qc\": (sequences_qc, labels_qc, labels_metadata, msg)\n",
    "    }\n",
    "\n",
    "    print(f\"shape: {mri_im_raw.shape}\")\n",
    "\n",
    "    com_list = [i['center_of_mass'] for i in cmb_info]\n",
    "\n",
    "    # Plotting processed masks for each center of mass\n",
    "    for i, CM in enumerate(com_list):\n",
    "        print(CM)                                  \n",
    "        metadata_str = f\"\"\"\\\n",
    "        sub: {subject}\n",
    "        {sequence_type}, shape: {mri_im_raw.shape}\n",
    "        CMBloc: {CM}   CMBsize: {labels_metadata[\"CMBs_old\"][i]['size']}\n",
    "        \"\"\"\n",
    "\n",
    "\n",
    "        filename_temp = os.path.join(\"/home/cerebriu/Downloads\", f\"RODEJA_{subject}-CMB_{i}.png\")\n",
    "        utils_plt.plot_processed_mask(mri_im_raw, rawcmb_im_raw, grownmask_raw, CM, 100, metadata_str=metadata_str, save_path=filename_temp)"
   ]
  },
  {
   "cell_type": "code",
   "execution_count": null,
   "metadata": {},
   "outputs": [
    {
     "ename": "NameError",
     "evalue": "name 'com_list' is not defined",
     "output_type": "error",
     "traceback": [
      "\u001b[0;31m---------------------------------------------------------------------------\u001b[0m",
      "\u001b[0;31mNameError\u001b[0m                                 Traceback (most recent call last)",
      "Cell \u001b[0;32mIn[7], line 1\u001b[0m\n\u001b[0;32m----> 1\u001b[0m \u001b[38;5;28;01mfor\u001b[39;00m i, CM \u001b[38;5;129;01min\u001b[39;00m \u001b[38;5;28menumerate\u001b[39m(\u001b[43mcom_list\u001b[49m):\n\u001b[1;32m      2\u001b[0m         \u001b[38;5;28mprint\u001b[39m(CM)                                  \n\u001b[1;32m      3\u001b[0m         metadata_str \u001b[38;5;241m=\u001b[39m \u001b[38;5;124mf\u001b[39m\u001b[38;5;124m\"\"\"\u001b[39m\u001b[38;5;130;01m\\\u001b[39;00m\n\u001b[1;32m      4\u001b[0m \u001b[38;5;124m        sub: \u001b[39m\u001b[38;5;132;01m{\u001b[39;00msubject\u001b[38;5;132;01m}\u001b[39;00m\n\u001b[1;32m      5\u001b[0m \u001b[38;5;124m        \u001b[39m\u001b[38;5;132;01m{\u001b[39;00msequence_type\u001b[38;5;132;01m}\u001b[39;00m\u001b[38;5;124m, shape: \u001b[39m\u001b[38;5;132;01m{\u001b[39;00mmri_im_raw\u001b[38;5;241m.\u001b[39mshape\u001b[38;5;132;01m}\u001b[39;00m\n\u001b[0;32m   (...)\u001b[0m\n\u001b[1;32m      8\u001b[0m \u001b[38;5;124m        \u001b[39m\u001b[38;5;124m\"\u001b[39m\u001b[38;5;124mdiff_mode\u001b[39m\u001b[38;5;124m\"\u001b[39m\u001b[38;5;124m: \u001b[39m\u001b[38;5;132;01m{\u001b[39;00mlabels_metadata[sequence_type][\u001b[38;5;124m\"\u001b[39m\u001b[38;5;124mCMBs_old\u001b[39m\u001b[38;5;124m\"\u001b[39m][i][\u001b[38;5;124m'\u001b[39m\u001b[38;5;124mregion_growing\u001b[39m\u001b[38;5;124m'\u001b[39m][\u001b[38;5;124m'\u001b[39m\u001b[38;5;124mdiff_mode\u001b[39m\u001b[38;5;124m'\u001b[39m]\u001b[38;5;132;01m}\u001b[39;00m\u001b[38;5;124m, \u001b[39m\n\u001b[1;32m      9\u001b[0m \u001b[38;5;124m        \u001b[39m\u001b[38;5;124m\"\u001b[39m\u001b[38;5;124mdistance_th\u001b[39m\u001b[38;5;124m\"\u001b[39m\u001b[38;5;124m: \u001b[39m\u001b[38;5;132;01m{\u001b[39;00mlabels_metadata[sequence_type][\u001b[38;5;124m\"\u001b[39m\u001b[38;5;124mCMBs_old\u001b[39m\u001b[38;5;124m\"\u001b[39m][i][\u001b[38;5;124m'\u001b[39m\u001b[38;5;124mregion_growing\u001b[39m\u001b[38;5;124m'\u001b[39m][\u001b[38;5;124m'\u001b[39m\u001b[38;5;124mdistance_th\u001b[39m\u001b[38;5;124m'\u001b[39m]\u001b[38;5;132;01m}\u001b[39;00m\u001b[38;5;124m,\u001b[39m\u001b[38;5;124m\"\u001b[39m\u001b[38;5;124msize_th\u001b[39m\u001b[38;5;124m\"\u001b[39m\u001b[38;5;124m: \u001b[39m\u001b[38;5;132;01m{\u001b[39;00mlabels_metadata[sequence_type][\u001b[38;5;124m\"\u001b[39m\u001b[38;5;124mCMBs_old\u001b[39m\u001b[38;5;124m\"\u001b[39m][i][\u001b[38;5;124m'\u001b[39m\u001b[38;5;124mregion_growing\u001b[39m\u001b[38;5;124m'\u001b[39m][\u001b[38;5;124m'\u001b[39m\u001b[38;5;124msize_th\u001b[39m\u001b[38;5;124m'\u001b[39m]\u001b[38;5;132;01m}\u001b[39;00m\u001b[38;5;124m\"\"\"\u001b[39m\n",
      "\u001b[0;31mNameError\u001b[0m: name 'com_list' is not defined"
     ]
    }
   ],
   "source": [
    "# for i, CM in enumerate(com_list):\n",
    "#         print(CM)                                  \n",
    "#         metadata_str = f\"\"\"\\\n",
    "#         sub: {subject}\n",
    "#         {sequence_type}, shape: {mri_im_raw.shape}\n",
    "#         CMBloc: {CM}   CMBsize: {labels_metadata[sequence_type][\"CMBs_old\"][i]['size']}\n",
    "#         \"connectivity\": {labels_metadata[sequence_type][\"CMBs_old\"][i]['region_growing']['connectivity']}, \"intensity_mode\": {labels_metadata[sequence_type][\"CMBs_old\"][i]['region_growing']['intensity_mode']}, \n",
    "#         \"diff_mode\": {labels_metadata[sequence_type][\"CMBs_old\"][i]['region_growing']['diff_mode']}, \n",
    "#         \"distance_th\": {labels_metadata[sequence_type][\"CMBs_old\"][i]['region_growing']['distance_th']},\"size_th\": {labels_metadata[sequence_type][\"CMBs_old\"][i]['region_growing']['size_th']}\"\"\"\n",
    "\n",
    "\n",
    "#         filename_temp = os.path.join(\"/home/cerebriu/Downloads\", f\"MOMENI_{subject}.png\")\n",
    "#         utils_plt.plot_processed_mask(mri_im_raw, rawcmb_im_raw, grownmask_raw, CM, 100, metadata_str=metadata_str, save_path=None)"
   ]
  }
 ],
 "metadata": {
  "kernelspec": {
   "display_name": "venv_cerebriu",
   "language": "python",
   "name": "python3"
  },
  "language_info": {
   "codemirror_mode": {
    "name": "ipython",
    "version": 3
   },
   "file_extension": ".py",
   "mimetype": "text/x-python",
   "name": "python",
   "nbconvert_exporter": "python",
   "pygments_lexer": "ipython3",
   "version": "3.11.6"
  }
 },
 "nbformat": 4,
 "nbformat_minor": 2
}
