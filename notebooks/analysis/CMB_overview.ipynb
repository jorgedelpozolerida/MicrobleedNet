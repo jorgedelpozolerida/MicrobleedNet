{
 "cells": [
  {
   "cell_type": "code",
   "execution_count": 2,
   "metadata": {},
   "outputs": [
    {
     "ename": "ModuleNotFoundError",
     "evalue": "No module named 'seaborn'",
     "output_type": "error",
     "traceback": [
      "\u001b[0;31m---------------------------------------------------------------------------\u001b[0m",
      "\u001b[0;31mModuleNotFoundError\u001b[0m                       Traceback (most recent call last)",
      "Cell \u001b[0;32mIn[2], line 7\u001b[0m\n\u001b[1;32m      5\u001b[0m \u001b[38;5;28;01mimport\u001b[39;00m \u001b[38;5;21;01mnilearn\u001b[39;00m \u001b[38;5;28;01mas\u001b[39;00m \u001b[38;5;21;01mnl\u001b[39;00m\n\u001b[1;32m      6\u001b[0m \u001b[38;5;28;01mimport\u001b[39;00m \u001b[38;5;21;01mos\u001b[39;00m\n\u001b[0;32m----> 7\u001b[0m \u001b[38;5;28;01mfrom\u001b[39;00m \u001b[38;5;21;01mcmbnet\u001b[39;00m\u001b[38;5;21;01m.\u001b[39;00m\u001b[38;5;21;01mpreprocessing\u001b[39;00m\u001b[38;5;21;01m.\u001b[39;00m\u001b[38;5;21;01mloading\u001b[39;00m \u001b[38;5;28;01mimport\u001b[39;00m get_metadata_from_cmb_format\n\u001b[1;32m      8\u001b[0m \u001b[38;5;28;01mimport\u001b[39;00m \u001b[38;5;21;01mcmbnet\u001b[39;00m\u001b[38;5;21;01m.\u001b[39;00m\u001b[38;5;21;01mutils\u001b[39;00m\u001b[38;5;21;01m.\u001b[39;00m\u001b[38;5;21;01mutils_general\u001b[39;00m \u001b[38;5;28;01mas\u001b[39;00m \u001b[38;5;21;01mutils_general\u001b[39;00m\n\u001b[1;32m      9\u001b[0m \u001b[38;5;66;03m# import cmbnet.utils.utils_plotting as utils_plotting\u001b[39;00m\n",
      "File \u001b[0;32m/storage/evo1/jorge/MicrobleedNet/cmbnet/preprocessing/loading.py:34\u001b[0m\n\u001b[1;32m     31\u001b[0m parent_dir_path \u001b[38;5;241m=\u001b[39m os\u001b[38;5;241m.\u001b[39mpath\u001b[38;5;241m.\u001b[39mabspath(os\u001b[38;5;241m.\u001b[39mpath\u001b[38;5;241m.\u001b[39mjoin(current_dir_path, os\u001b[38;5;241m.\u001b[39mpardir))\n\u001b[1;32m     32\u001b[0m sys\u001b[38;5;241m.\u001b[39mpath\u001b[38;5;241m.\u001b[39mappend(parent_dir_path)\n\u001b[0;32m---> 34\u001b[0m \u001b[38;5;28;01mimport\u001b[39;00m \u001b[38;5;21;01mcmbnet\u001b[39;00m\u001b[38;5;21;01m.\u001b[39;00m\u001b[38;5;21;01mpreprocessing\u001b[39;00m\u001b[38;5;21;01m.\u001b[39;00m\u001b[38;5;21;01mdatasets\u001b[39;00m \u001b[38;5;28;01mas\u001b[39;00m \u001b[38;5;21;01mdat_load\u001b[39;00m\n\u001b[1;32m     35\u001b[0m \u001b[38;5;28;01mimport\u001b[39;00m \u001b[38;5;21;01mcmbnet\u001b[39;00m\u001b[38;5;21;01m.\u001b[39;00m\u001b[38;5;21;01mpreprocessing\u001b[39;00m\u001b[38;5;21;01m.\u001b[39;00m\u001b[38;5;21;01mprocess_masks\u001b[39;00m \u001b[38;5;28;01mas\u001b[39;00m \u001b[38;5;21;01mprocess_masks\u001b[39;00m\n\u001b[1;32m     36\u001b[0m \u001b[38;5;28;01mimport\u001b[39;00m \u001b[38;5;21;01mcmbnet\u001b[39;00m\u001b[38;5;21;01m.\u001b[39;00m\u001b[38;5;21;01mutils\u001b[39;00m\u001b[38;5;21;01m.\u001b[39;00m\u001b[38;5;21;01mutils_general\u001b[39;00m \u001b[38;5;28;01mas\u001b[39;00m \u001b[38;5;21;01mutils_general\u001b[39;00m\n",
      "File \u001b[0;32m/storage/evo1/jorge/MicrobleedNet/cmbnet/preprocessing/datasets/__init__.py:1\u001b[0m\n\u001b[0;32m----> 1\u001b[0m \u001b[38;5;28;01mfrom\u001b[39;00m \u001b[38;5;21;01mcmbnet\u001b[39;00m\u001b[38;5;21;01m.\u001b[39;00m\u001b[38;5;21;01mpreprocessing\u001b[39;00m\u001b[38;5;21;01m.\u001b[39;00m\u001b[38;5;21;01mdatasets\u001b[39;00m\u001b[38;5;21;01m.\u001b[39;00m\u001b[38;5;21;01mvaldo\u001b[39;00m \u001b[38;5;28;01mimport\u001b[39;00m (\n\u001b[1;32m      2\u001b[0m     load_VALDO_data\n\u001b[1;32m      3\u001b[0m )\n\u001b[1;32m      4\u001b[0m \u001b[38;5;28;01mfrom\u001b[39;00m \u001b[38;5;21;01mcmbnet\u001b[39;00m\u001b[38;5;21;01m.\u001b[39;00m\u001b[38;5;21;01mpreprocessing\u001b[39;00m\u001b[38;5;21;01m.\u001b[39;00m\u001b[38;5;21;01mdatasets\u001b[39;00m\u001b[38;5;21;01m.\u001b[39;00m\u001b[38;5;21;01mcerebriu\u001b[39;00m \u001b[38;5;28;01mimport\u001b[39;00m (\n\u001b[1;32m      5\u001b[0m     load_CEREBRIU_data, load_CEREBRIUneg_data\n\u001b[1;32m      6\u001b[0m )\n\u001b[1;32m      7\u001b[0m \u001b[38;5;28;01mfrom\u001b[39;00m \u001b[38;5;21;01mcmbnet\u001b[39;00m\u001b[38;5;21;01m.\u001b[39;00m\u001b[38;5;21;01mpreprocessing\u001b[39;00m\u001b[38;5;21;01m.\u001b[39;00m\u001b[38;5;21;01mdatasets\u001b[39;00m\u001b[38;5;21;01m.\u001b[39;00m\u001b[38;5;21;01mdou\u001b[39;00m \u001b[38;5;28;01mimport\u001b[39;00m (\n\u001b[1;32m      8\u001b[0m     load_DOU_data\n\u001b[1;32m      9\u001b[0m )\n",
      "File \u001b[0;32m/storage/evo1/jorge/MicrobleedNet/cmbnet/preprocessing/datasets/valdo.py:27\u001b[0m\n\u001b[1;32m     25\u001b[0m \u001b[38;5;28;01mimport\u001b[39;00m \u001b[38;5;21;01mcmbnet\u001b[39;00m\u001b[38;5;21;01m.\u001b[39;00m\u001b[38;5;21;01mpreprocessing\u001b[39;00m\u001b[38;5;21;01m.\u001b[39;00m\u001b[38;5;21;01mprocess_masks\u001b[39;00m \u001b[38;5;28;01mas\u001b[39;00m \u001b[38;5;21;01mprocess_masks\u001b[39;00m\n\u001b[1;32m     26\u001b[0m \u001b[38;5;28;01mimport\u001b[39;00m \u001b[38;5;21;01mcmbnet\u001b[39;00m\u001b[38;5;21;01m.\u001b[39;00m\u001b[38;5;21;01mutils\u001b[39;00m\u001b[38;5;21;01m.\u001b[39;00m\u001b[38;5;21;01mutils_general\u001b[39;00m \u001b[38;5;28;01mas\u001b[39;00m \u001b[38;5;21;01mutils_general\u001b[39;00m\n\u001b[0;32m---> 27\u001b[0m \u001b[38;5;28;01mimport\u001b[39;00m \u001b[38;5;21;01mcmbnet\u001b[39;00m\u001b[38;5;21;01m.\u001b[39;00m\u001b[38;5;21;01mutils\u001b[39;00m\u001b[38;5;21;01m.\u001b[39;00m\u001b[38;5;21;01mutils_plotting\u001b[39;00m \u001b[38;5;28;01mas\u001b[39;00m \u001b[38;5;21;01mutils_plt\u001b[39;00m\n\u001b[1;32m     30\u001b[0m logging\u001b[38;5;241m.\u001b[39mbasicConfig(level\u001b[38;5;241m=\u001b[39mlogging\u001b[38;5;241m.\u001b[39mINFO)\n\u001b[1;32m     31\u001b[0m _logger \u001b[38;5;241m=\u001b[39m logging\u001b[38;5;241m.\u001b[39mgetLogger(\u001b[38;5;18m__name__\u001b[39m)\n",
      "File \u001b[0;32m/storage/evo1/jorge/MicrobleedNet/cmbnet/utils/utils_plotting.py:21\u001b[0m\n\u001b[1;32m     19\u001b[0m \u001b[38;5;28;01mimport\u001b[39;00m \u001b[38;5;21;01mnumpy\u001b[39;00m \u001b[38;5;28;01mas\u001b[39;00m \u001b[38;5;21;01mnp\u001b[39;00m\n\u001b[1;32m     20\u001b[0m \u001b[38;5;28;01mimport\u001b[39;00m \u001b[38;5;21;01mpandas\u001b[39;00m \u001b[38;5;28;01mas\u001b[39;00m \u001b[38;5;21;01mpd\u001b[39;00m\n\u001b[0;32m---> 21\u001b[0m \u001b[38;5;28;01mimport\u001b[39;00m \u001b[38;5;21;01mseaborn\u001b[39;00m \u001b[38;5;28;01mas\u001b[39;00m \u001b[38;5;21;01msns\u001b[39;00m\n\u001b[1;32m     23\u001b[0m logging\u001b[38;5;241m.\u001b[39mbasicConfig(level\u001b[38;5;241m=\u001b[39mlogging\u001b[38;5;241m.\u001b[39mINFO)\n\u001b[1;32m     24\u001b[0m _logger \u001b[38;5;241m=\u001b[39m logging\u001b[38;5;241m.\u001b[39mgetLogger(\u001b[38;5;18m__name__\u001b[39m)\n",
      "\u001b[0;31mModuleNotFoundError\u001b[0m: No module named 'seaborn'"
     ]
    }
   ],
   "source": [
    "# from cmbnet.preprocessing.loading.\n",
    "import pandas as pd\n",
    "import numpy as np\n",
    "import nibabel as nib\n",
    "import nilearn as nl\n",
    "import os\n",
    "from cmbnet.preprocessing.loading import get_metadata_from_cmb_format\n",
    "import cmbnet.utils.utils_general as utils_general\n",
    "import cmbnet.utils.utils_plotting as utils_plotting\n",
    "\n",
    "from cmbnet.preprocessing.datasets.cerebriu import enrich_reprocessmetadata_with_processed\n",
    "from tqdm import tqdm\n",
    "from copy import deepcopy\n"
   ]
  },
  {
   "cell_type": "markdown",
   "metadata": {},
   "source": [
    "### Load all studies  data"
   ]
  },
  {
   "cell_type": "code",
   "execution_count": 61,
   "metadata": {},
   "outputs": [
    {
     "data": {
      "text/plain": [
       "Index(['seriesUID', 'series', 'n_CMB_new', 'seq_type', 'res_level', 'healthy',\n",
       "       'healthy_all', 'field_strength', 'TE', 'subject', 'patientUID',\n",
       "       'Dataset', 'n_CMB_old', 'old_shape', 'new_shape', 'old_voxel_dim',\n",
       "       'new_voxel_dim', 'old_orientation', 'new_orientation', 'studyUID_old',\n",
       "       'n_indataset', 'newCMB', 'diffCMB', 'nCMB_avg', 'CMB_level'],\n",
       "      dtype='object')"
      ]
     },
     "execution_count": 61,
     "metadata": {},
     "output_type": "execute_result"
    }
   ],
   "source": [
    "all_scans = pd.read_csv(\"../../data-misc/csv/ALL_studies.csv\")\n",
    "all_scans.columns"
   ]
  },
  {
   "cell_type": "markdown",
   "metadata": {},
   "source": [
    "### Generate CMB metadata"
   ]
  },
  {
   "cell_type": "code",
   "execution_count": 62,
   "metadata": {},
   "outputs": [
    {
     "name": "stderr",
     "output_type": "stream",
     "text": [
      "100%|██████████| 5025/5025 [00:01<00:00, 3596.58it/s] \n"
     ]
    }
   ],
   "source": [
    "data_dirs = [f'/storage/evo1/jorge/datasets/cmb/{d}/Data' for d in ['cmb_train', 'cmb_dou', 'cmb_crb']]\n",
    "\n",
    "# CRB specific paths\n",
    "rawdir = \"/storage/evo1/jorge/datasets/cmb/raw/CEREBRIU\"\n",
    "processed_dir = \"/storage/evo1/jorge/datasets/cmb/processed/CRB/Data\"\n",
    "reprocessed_dir = \"/storage/evo1/jorge/datasets/cmb/processed_final/CRB/Data\"\n",
    "\n",
    "# Load all metadata\n",
    "metadata_CMBs = {}\n",
    "for d_dir in data_dirs:\n",
    "    studies = [s for s in os.listdir(d_dir) if os.path.isdir(os.path.join(d_dir, s))]\n",
    "    for s in studies:\n",
    "        metadata_CMBs[s] = get_metadata_from_cmb_format(data_dir=d_dir, sub_id=s)\n",
    "\n",
    "cmb_metadata = []\n",
    "\n",
    "for serieuid, met_s in tqdm(metadata_CMBs.items()):\n",
    "    cmb_new_meta = deepcopy(met_s['CMBs_new'])\n",
    "    \n",
    "    for id_num, cmb_meta in cmb_new_meta.items():\n",
    "        if serieuid.startswith(\"CRB-\"):\n",
    "            subject_id = all_scans[all_scans['seriesUID'] == serieuid]['subject'].values[0]\n",
    "            cmb_meta_rich = enrich_reprocessmetadata_with_processed(\n",
    "                subject_id,\n",
    "                rawdir,\n",
    "                processed_dir,\n",
    "                reprocessed_dir\n",
    "            )\n",
    "            cmb_meta = cmb_meta_rich['CMBs_new'][id_num]\n",
    "        \n",
    "        cmb_row = {\n",
    "            \"seriesUID\": serieuid,\n",
    "            \"cmb_id\": id_num,\n",
    "            **deepcopy(cmb_meta)  # Ensure changes to cmb_row do not affect original cmb_meta\n",
    "        }\n",
    "        \n",
    "        cmb_metadata.append(cmb_row)\n",
    "\n",
    "df_cmb_metadata = pd.DataFrame(cmb_metadata)"
   ]
  },
  {
   "cell_type": "code",
   "execution_count": 63,
   "metadata": {},
   "outputs": [],
   "source": [
    "# Expand attributes from RB\n",
    "df_cmb_metadata['RB_metadata'] = df_cmb_metadata['RB_metadata'].apply(lambda x: x.get('attributes', {}) if isinstance(x, dict) else {})\n",
    "attributes_df = df_cmb_metadata['RB_metadata'].apply(pd.Series)\n",
    "df_cmb_metadata.drop('RB_metadata', axis=1, inplace=True)\n",
    "df_cmb_metadata = pd.concat([df_cmb_metadata, attributes_df], axis=1)\n"
   ]
  },
  {
   "cell_type": "code",
   "execution_count": 64,
   "metadata": {},
   "outputs": [],
   "source": [
    "# Add metadata study-level\n",
    "df_cmb_metadata = (df_cmb_metadata\n",
    "    .pipe(lambda df: pd.merge(df, all_scans[['seriesUID', 'seq_type', 'res_level', 'field_strength', 'TE', 'subject', 'patientUID', 'Dataset']], on='seriesUID', how='left'))\n",
    ")"
   ]
  },
  {
   "cell_type": "code",
   "execution_count": 65,
   "metadata": {},
   "outputs": [
    {
     "data": {
      "text/html": [
       "<div>\n",
       "<style scoped>\n",
       "    .dataframe tbody tr th:only-of-type {\n",
       "        vertical-align: middle;\n",
       "    }\n",
       "\n",
       "    .dataframe tbody tr th {\n",
       "        vertical-align: top;\n",
       "    }\n",
       "\n",
       "    .dataframe thead th {\n",
       "        text-align: right;\n",
       "    }\n",
       "</style>\n",
       "<table border=\"1\" class=\"dataframe\">\n",
       "  <thead>\n",
       "    <tr style=\"text-align: right;\">\n",
       "      <th></th>\n",
       "      <th>seriesUID</th>\n",
       "      <th>cmb_id</th>\n",
       "      <th>CM</th>\n",
       "      <th>size</th>\n",
       "      <th>radius</th>\n",
       "      <th>processed_id</th>\n",
       "      <th>RB_label</th>\n",
       "      <th>Location</th>\n",
       "      <th>Multiple</th>\n",
       "      <th>&lt;5mm</th>\n",
       "      <th>Cause</th>\n",
       "      <th>Uncertain</th>\n",
       "      <th>Other</th>\n",
       "      <th>seq_type</th>\n",
       "      <th>res_level</th>\n",
       "      <th>field_strength</th>\n",
       "      <th>TE</th>\n",
       "      <th>subject</th>\n",
       "      <th>patientUID</th>\n",
       "      <th>Dataset</th>\n",
       "    </tr>\n",
       "  </thead>\n",
       "  <tbody>\n",
       "    <tr>\n",
       "      <th>37642</th>\n",
       "      <td>CRB-1.2.826.1.3680043.9.5282.150415.34194.3419...</td>\n",
       "      <td>0</td>\n",
       "      <td>[67, 203, 196]</td>\n",
       "      <td>248</td>\n",
       "      <td>3.90</td>\n",
       "      <td>8</td>\n",
       "      <td>3</td>\n",
       "      <td>Cortex / grey-white junction</td>\n",
       "      <td>True</td>\n",
       "      <td>True</td>\n",
       "      <td>NaN</td>\n",
       "      <td>NaN</td>\n",
       "      <td>NaN</td>\n",
       "      <td>T2S</td>\n",
       "      <td>high</td>\n",
       "      <td>1.5/3</td>\n",
       "      <td>32.5</td>\n",
       "      <td>1.2.826.1.3680043.9.5282.150415.34194.34194222...</td>\n",
       "      <td>1.2.826.1.3680043.9.5282.150415.34194.34194222...</td>\n",
       "      <td>CRB</td>\n",
       "    </tr>\n",
       "    <tr>\n",
       "      <th>37643</th>\n",
       "      <td>CRB-1.2.826.1.3680043.9.5282.150415.34194.3419...</td>\n",
       "      <td>1</td>\n",
       "      <td>[81, 239, 162]</td>\n",
       "      <td>269</td>\n",
       "      <td>4.00</td>\n",
       "      <td>4</td>\n",
       "      <td>2</td>\n",
       "      <td>Basal ganglia grey matter</td>\n",
       "      <td>True</td>\n",
       "      <td>True</td>\n",
       "      <td>Hypertension</td>\n",
       "      <td>NaN</td>\n",
       "      <td>NaN</td>\n",
       "      <td>T2S</td>\n",
       "      <td>high</td>\n",
       "      <td>1.5/3</td>\n",
       "      <td>32.5</td>\n",
       "      <td>1.2.826.1.3680043.9.5282.150415.34194.34194222...</td>\n",
       "      <td>1.2.826.1.3680043.9.5282.150415.34194.34194222...</td>\n",
       "      <td>CRB</td>\n",
       "    </tr>\n",
       "    <tr>\n",
       "      <th>37644</th>\n",
       "      <td>CRB-1.2.826.1.3680043.9.5282.150415.34194.3419...</td>\n",
       "      <td>2</td>\n",
       "      <td>[94, 87, 246]</td>\n",
       "      <td>683</td>\n",
       "      <td>5.46</td>\n",
       "      <td>12</td>\n",
       "      <td>4</td>\n",
       "      <td>Cortex / grey-white junction</td>\n",
       "      <td>True</td>\n",
       "      <td>NaN</td>\n",
       "      <td>CAA</td>\n",
       "      <td>True</td>\n",
       "      <td>NaN</td>\n",
       "      <td>T2S</td>\n",
       "      <td>high</td>\n",
       "      <td>1.5/3</td>\n",
       "      <td>32.5</td>\n",
       "      <td>1.2.826.1.3680043.9.5282.150415.34194.34194222...</td>\n",
       "      <td>1.2.826.1.3680043.9.5282.150415.34194.34194222...</td>\n",
       "      <td>CRB</td>\n",
       "    </tr>\n",
       "    <tr>\n",
       "      <th>37645</th>\n",
       "      <td>CRB-1.2.826.1.3680043.9.5282.150415.34194.3419...</td>\n",
       "      <td>3</td>\n",
       "      <td>[99, 104, 59]</td>\n",
       "      <td>239</td>\n",
       "      <td>3.85</td>\n",
       "      <td>0</td>\n",
       "      <td>1</td>\n",
       "      <td>Cerebellum</td>\n",
       "      <td>NaN</td>\n",
       "      <td>True</td>\n",
       "      <td>Other</td>\n",
       "      <td>True</td>\n",
       "      <td>NaN</td>\n",
       "      <td>T2S</td>\n",
       "      <td>high</td>\n",
       "      <td>1.5/3</td>\n",
       "      <td>32.5</td>\n",
       "      <td>1.2.826.1.3680043.9.5282.150415.34194.34194222...</td>\n",
       "      <td>1.2.826.1.3680043.9.5282.150415.34194.34194222...</td>\n",
       "      <td>CRB</td>\n",
       "    </tr>\n",
       "    <tr>\n",
       "      <th>37646</th>\n",
       "      <td>CRB-1.2.826.1.3680043.9.5282.150415.34194.3419...</td>\n",
       "      <td>4</td>\n",
       "      <td>[100, 128, 263]</td>\n",
       "      <td>440</td>\n",
       "      <td>4.72</td>\n",
       "      <td>11</td>\n",
       "      <td>4</td>\n",
       "      <td>Cortex / grey-white junction</td>\n",
       "      <td>True</td>\n",
       "      <td>NaN</td>\n",
       "      <td>CAA</td>\n",
       "      <td>True</td>\n",
       "      <td>NaN</td>\n",
       "      <td>T2S</td>\n",
       "      <td>high</td>\n",
       "      <td>1.5/3</td>\n",
       "      <td>32.5</td>\n",
       "      <td>1.2.826.1.3680043.9.5282.150415.34194.34194222...</td>\n",
       "      <td>1.2.826.1.3680043.9.5282.150415.34194.34194222...</td>\n",
       "      <td>CRB</td>\n",
       "    </tr>\n",
       "  </tbody>\n",
       "</table>\n",
       "</div>"
      ],
      "text/plain": [
       "                                               seriesUID cmb_id  \\\n",
       "37642  CRB-1.2.826.1.3680043.9.5282.150415.34194.3419...      0   \n",
       "37643  CRB-1.2.826.1.3680043.9.5282.150415.34194.3419...      1   \n",
       "37644  CRB-1.2.826.1.3680043.9.5282.150415.34194.3419...      2   \n",
       "37645  CRB-1.2.826.1.3680043.9.5282.150415.34194.3419...      3   \n",
       "37646  CRB-1.2.826.1.3680043.9.5282.150415.34194.3419...      4   \n",
       "\n",
       "                    CM  size  radius processed_id RB_label  \\\n",
       "37642   [67, 203, 196]   248    3.90            8        3   \n",
       "37643   [81, 239, 162]   269    4.00            4        2   \n",
       "37644    [94, 87, 246]   683    5.46           12        4   \n",
       "37645    [99, 104, 59]   239    3.85            0        1   \n",
       "37646  [100, 128, 263]   440    4.72           11        4   \n",
       "\n",
       "                           Location Multiple  <5mm         Cause Uncertain  \\\n",
       "37642  Cortex / grey-white junction     True  True           NaN       NaN   \n",
       "37643     Basal ganglia grey matter     True  True  Hypertension       NaN   \n",
       "37644  Cortex / grey-white junction     True   NaN           CAA      True   \n",
       "37645                    Cerebellum      NaN  True         Other      True   \n",
       "37646  Cortex / grey-white junction     True   NaN           CAA      True   \n",
       "\n",
       "      Other seq_type res_level field_strength    TE  \\\n",
       "37642   NaN      T2S      high          1.5/3  32.5   \n",
       "37643   NaN      T2S      high          1.5/3  32.5   \n",
       "37644   NaN      T2S      high          1.5/3  32.5   \n",
       "37645   NaN      T2S      high          1.5/3  32.5   \n",
       "37646   NaN      T2S      high          1.5/3  32.5   \n",
       "\n",
       "                                                 subject  \\\n",
       "37642  1.2.826.1.3680043.9.5282.150415.34194.34194222...   \n",
       "37643  1.2.826.1.3680043.9.5282.150415.34194.34194222...   \n",
       "37644  1.2.826.1.3680043.9.5282.150415.34194.34194222...   \n",
       "37645  1.2.826.1.3680043.9.5282.150415.34194.34194222...   \n",
       "37646  1.2.826.1.3680043.9.5282.150415.34194.34194222...   \n",
       "\n",
       "                                              patientUID Dataset  \n",
       "37642  1.2.826.1.3680043.9.5282.150415.34194.34194222...     CRB  \n",
       "37643  1.2.826.1.3680043.9.5282.150415.34194.34194222...     CRB  \n",
       "37644  1.2.826.1.3680043.9.5282.150415.34194.34194222...     CRB  \n",
       "37645  1.2.826.1.3680043.9.5282.150415.34194.34194222...     CRB  \n",
       "37646  1.2.826.1.3680043.9.5282.150415.34194.34194222...     CRB  "
      ]
     },
     "execution_count": 65,
     "metadata": {},
     "output_type": "execute_result"
    }
   ],
   "source": [
    "df_cmb_metadata[~df_cmb_metadata['RB_label'].isnull()].head()"
   ]
  },
  {
   "cell_type": "code",
   "execution_count": 66,
   "metadata": {},
   "outputs": [
    {
     "data": {
      "text/plain": [
       "Location\n",
       "Cortex / grey-white junction    71\n",
       "Subcortical white matter        21\n",
       "Basal ganglia grey matter       13\n",
       "Brainstem                       10\n",
       "Thalamus                         6\n",
       "Cerebellum                       5\n",
       "Name: count, dtype: int64"
      ]
     },
     "execution_count": 66,
     "metadata": {},
     "output_type": "execute_result"
    }
   ],
   "source": [
    "df_cmb_metadata['Location'].value_counts()\n"
   ]
  },
  {
   "cell_type": "code",
   "execution_count": 67,
   "metadata": {},
   "outputs": [
    {
     "data": {
      "text/plain": [
       "Dataset\n",
       "sMOMENI    36812\n",
       "RODEJA       357\n",
       "VALDO        253\n",
       "MOMENI       146\n",
       "CRB          127\n",
       "DOU           74\n",
       "Name: count, dtype: int64"
      ]
     },
     "execution_count": 67,
     "metadata": {},
     "output_type": "execute_result"
    }
   ],
   "source": [
    "df_cmb_metadata['Dataset'].value_counts()"
   ]
  },
  {
   "cell_type": "code",
   "execution_count": 71,
   "metadata": {},
   "outputs": [],
   "source": [
    "df_cmb_metadata.to_csv(\"../../data-misc/csv/CMB_metadata_all.csv\", index=False)"
   ]
  },
  {
   "cell_type": "markdown",
   "metadata": {},
   "source": [
    "# CMB analysis"
   ]
  },
  {
   "cell_type": "code",
   "execution_count": null,
   "metadata": {},
   "outputs": [],
   "source": [
    "df_cmb_metadata = pd.read_csv(\"../../data-misc/csv/CMB_metadata_all.csv\", index=False)"
   ]
  },
  {
   "cell_type": "markdown",
   "metadata": {},
   "source": [
    "## Radius distribution"
   ]
  },
  {
   "cell_type": "code",
   "execution_count": 87,
   "metadata": {},
   "outputs": [
    {
     "ename": "AttributeError",
     "evalue": "module 'cmbnet.utils.utils_plotting' has no attribute 'create_boxplot'",
     "output_type": "error",
     "traceback": [
      "\u001b[0;31m---------------------------------------------------------------------------\u001b[0m",
      "\u001b[0;31mAttributeError\u001b[0m                            Traceback (most recent call last)",
      "Cell \u001b[0;32mIn[87], line 1\u001b[0m\n\u001b[0;32m----> 1\u001b[0m utils_plotting\u001b[38;5;241m.\u001b[39mcreate_boxplot(\n\u001b[1;32m      2\u001b[0m     df_cmb_metadata,\n\u001b[1;32m      3\u001b[0m     \u001b[38;5;124m'\u001b[39m\u001b[38;5;124mDataset\u001b[39m\u001b[38;5;124m'\u001b[39m,\n\u001b[1;32m      4\u001b[0m     \u001b[38;5;124m'\u001b[39m\u001b[38;5;124mLocation\u001b[39m\u001b[38;5;124m'\u001b[39m,\n\u001b[1;32m      5\u001b[0m     \u001b[38;5;124m'\u001b[39m\u001b[38;5;124mLocation\u001b[39m\u001b[38;5;124m'\u001b[39m,\n\u001b[1;32m      6\u001b[0m     \u001b[38;5;124m'\u001b[39m\u001b[38;5;124mDataset\u001b[39m\u001b[38;5;124m'\u001b[39m,\n\u001b[1;32m      7\u001b[0m     \u001b[38;5;124m'\u001b[39m\u001b[38;5;124mLocation distribution per dataset\u001b[39m\u001b[38;5;124m'\u001b[39m,\n\u001b[1;32m      8\u001b[0m     \u001b[38;5;124m'\u001b[39m\u001b[38;5;124mLocation distribution per dataset\u001b[39m\u001b[38;5;124m'\u001b[39m,\n\u001b[1;32m      9\u001b[0m     \u001b[38;5;124m'\u001b[39m\u001b[38;5;124mLocation_distribution_per_dataset.png\u001b[39m\u001b[38;5;124m'\u001b[39m\n\u001b[1;32m     10\u001b[0m )\n",
      "\u001b[0;31mAttributeError\u001b[0m: module 'cmbnet.utils.utils_plotting' has no attribute 'create_boxplot'"
     ]
    }
   ],
   "source": [
    "utils_plotting.create_boxplot(df_cmb_metadata, 'radius', 'Dataset', 'Distribution of Radii per Dataset')\n"
   ]
  },
  {
   "cell_type": "markdown",
   "metadata": {},
   "source": [
    "## Number of microbleeds distribution"
   ]
  },
  {
   "cell_type": "code",
   "execution_count": 82,
   "metadata": {},
   "outputs": [
    {
     "data": {
      "text/plain": [
       "array(['high', 'low'], dtype=object)"
      ]
     },
     "execution_count": 82,
     "metadata": {},
     "output_type": "execute_result"
    }
   ],
   "source": [
    "all_scans['CMB_level'].unique()\n",
    "all_scans['res_level'].unique()"
   ]
  },
  {
   "cell_type": "markdown",
   "metadata": {},
   "source": [
    "# Scans analysis"
   ]
  },
  {
   "cell_type": "code",
   "execution_count": 85,
   "metadata": {},
   "outputs": [
    {
     "data": {
      "text/html": [
       "<div>\n",
       "<style scoped>\n",
       "    .dataframe tbody tr th:only-of-type {\n",
       "        vertical-align: middle;\n",
       "    }\n",
       "\n",
       "    .dataframe tbody tr th {\n",
       "        vertical-align: top;\n",
       "    }\n",
       "\n",
       "    .dataframe thead th {\n",
       "        text-align: right;\n",
       "    }\n",
       "</style>\n",
       "<table border=\"1\" class=\"dataframe\">\n",
       "  <thead>\n",
       "    <tr style=\"text-align: right;\">\n",
       "      <th></th>\n",
       "      <th>Dataset</th>\n",
       "      <th>n_scans</th>\n",
       "      <th>n_scans_cmb</th>\n",
       "      <th>n_patients</th>\n",
       "      <th>n_patients_cmb</th>\n",
       "      <th>n_CMB</th>\n",
       "      <th>avgCMB</th>\n",
       "      <th>avgCMB_no0</th>\n",
       "      <th>perc_patients_low_cmb</th>\n",
       "      <th>perc_scans_low_res</th>\n",
       "    </tr>\n",
       "  </thead>\n",
       "  <tbody>\n",
       "    <tr>\n",
       "      <th>0</th>\n",
       "      <td>CRB</td>\n",
       "      <td>18</td>\n",
       "      <td>18</td>\n",
       "      <td>18</td>\n",
       "      <td>18</td>\n",
       "      <td>127</td>\n",
       "      <td>7</td>\n",
       "      <td>7.0</td>\n",
       "      <td>44</td>\n",
       "      <td>44</td>\n",
       "    </tr>\n",
       "    <tr>\n",
       "      <th>1</th>\n",
       "      <td>CRBneg</td>\n",
       "      <td>742</td>\n",
       "      <td>0</td>\n",
       "      <td>742</td>\n",
       "      <td>0</td>\n",
       "      <td>0</td>\n",
       "      <td>0</td>\n",
       "      <td>NaN</td>\n",
       "      <td>0</td>\n",
       "      <td>40</td>\n",
       "    </tr>\n",
       "    <tr>\n",
       "      <th>2</th>\n",
       "      <td>DOU</td>\n",
       "      <td>20</td>\n",
       "      <td>20</td>\n",
       "      <td>20</td>\n",
       "      <td>20</td>\n",
       "      <td>74</td>\n",
       "      <td>3</td>\n",
       "      <td>3.0</td>\n",
       "      <td>70</td>\n",
       "      <td>0</td>\n",
       "    </tr>\n",
       "    <tr>\n",
       "      <th>3</th>\n",
       "      <td>MOMENI</td>\n",
       "      <td>370</td>\n",
       "      <td>57</td>\n",
       "      <td>118</td>\n",
       "      <td>30</td>\n",
       "      <td>146</td>\n",
       "      <td>0</td>\n",
       "      <td>2.0</td>\n",
       "      <td>21</td>\n",
       "      <td>100</td>\n",
       "    </tr>\n",
       "    <tr>\n",
       "      <th>4</th>\n",
       "      <td>RODEJA</td>\n",
       "      <td>103</td>\n",
       "      <td>61</td>\n",
       "      <td>103</td>\n",
       "      <td>61</td>\n",
       "      <td>357</td>\n",
       "      <td>3</td>\n",
       "      <td>5.0</td>\n",
       "      <td>41</td>\n",
       "      <td>15</td>\n",
       "    </tr>\n",
       "    <tr>\n",
       "      <th>5</th>\n",
       "      <td>VALDO</td>\n",
       "      <td>72</td>\n",
       "      <td>50</td>\n",
       "      <td>72</td>\n",
       "      <td>50</td>\n",
       "      <td>253</td>\n",
       "      <td>3</td>\n",
       "      <td>5.0</td>\n",
       "      <td>56</td>\n",
       "      <td>38</td>\n",
       "    </tr>\n",
       "    <tr>\n",
       "      <th>6</th>\n",
       "      <td>sMOMENI</td>\n",
       "      <td>3700</td>\n",
       "      <td>3700</td>\n",
       "      <td>118</td>\n",
       "      <td>118</td>\n",
       "      <td>36812</td>\n",
       "      <td>9</td>\n",
       "      <td>9.0</td>\n",
       "      <td>0</td>\n",
       "      <td>100</td>\n",
       "    </tr>\n",
       "  </tbody>\n",
       "</table>\n",
       "</div>"
      ],
      "text/plain": [
       "   Dataset  n_scans  n_scans_cmb  n_patients  n_patients_cmb  n_CMB  avgCMB  \\\n",
       "0      CRB       18           18          18              18    127       7   \n",
       "1   CRBneg      742            0         742               0      0       0   \n",
       "2      DOU       20           20          20              20     74       3   \n",
       "3   MOMENI      370           57         118              30    146       0   \n",
       "4   RODEJA      103           61         103              61    357       3   \n",
       "5    VALDO       72           50          72              50    253       3   \n",
       "6  sMOMENI     3700         3700         118             118  36812       9   \n",
       "\n",
       "   avgCMB_no0  perc_patients_low_cmb  perc_scans_low_res  \n",
       "0         7.0                     44                  44  \n",
       "1         NaN                      0                  40  \n",
       "2         3.0                     70                   0  \n",
       "3         2.0                     21                 100  \n",
       "4         5.0                     41                  15  \n",
       "5         5.0                     56                  38  \n",
       "6         9.0                      0                 100  "
      ]
     },
     "execution_count": 85,
     "metadata": {},
     "output_type": "execute_result"
    }
   ],
   "source": [
    "grouped = all_scans.groupby(['Dataset']).agg(\n",
    "    n_scans=pd.NamedAgg(column='seriesUID', aggfunc='nunique'),\n",
    "    n_scans_cmb=pd.NamedAgg(column='seriesUID', aggfunc=lambda x: x[all_scans['healthy'] == 'no'].nunique()),\n",
    "    n_patients=pd.NamedAgg(column='patientUID', aggfunc=lambda x: x.nunique()),\n",
    "    n_patients_cmb=pd.NamedAgg(column='patientUID', aggfunc=lambda x: x[all_scans['healthy'] == 'no'].nunique()),\n",
    "    n_CMB=pd.NamedAgg(column='n_CMB_new', aggfunc='sum'),\n",
    "    avgCMB=pd.NamedAgg(column='n_CMB_new', aggfunc=lambda x: x.mean().astype(int)),\n",
    "    avgCMB_no0=pd.NamedAgg(column='n_CMB_new', aggfunc=lambda x: (mean := x[all_scans.loc[x.index, 'healthy'] == 'no'].mean(), int(mean) if pd.notna(mean) else None)[1]),\n",
    "    perc_patients_low_cmb=pd.NamedAgg(column='CMB_level', aggfunc=lambda x: round(100*((x == 'low').sum()/len(x)))),\n",
    "    perc_scans_low_res=pd.NamedAgg(column='res_level', aggfunc=lambda x: round(100*((x == 'low').sum()/len(x))))\n",
    ").reset_index()\n",
    "\n",
    "grouped\n",
    "# # Calculate totals for all studies combined\n",
    "# totals = all_studies.agg(\n",
    "#     n_patients=('patientUID', 'nunique'),\n",
    "#     n_patients_cmb=('patientUID', lambda x: x[all_studies['healthy'] == 'no'].nunique()),\n",
    "#     n_patients_h=('patientUID', lambda x: x[all_studies['healthy'] == 'yes'].nunique()),\n",
    "#     n_series=('seriesUID', 'nunique'),\n",
    "#     n_series_cmb=('seriesUID', lambda x: x[all_studies['healthy'] == 'no'].nunique()),\n",
    "#     n_series_h=('seriesUID', lambda x: x[all_studies['healthy'] == 'yes'].nunique()),\n",
    "#     n_CMB=('n_CMB_new', 'sum')\n",
    "# )\n",
    "\n",
    "# # Append totals to the grouped data\n",
    "# totals['Dataset'] = 'Total'\n",
    "# totals['seq_type'] = '-'\n",
    "# totals_df = pd.DataFrame([totals], columns=grouped.columns)  # Ensure matching columns\n",
    "# summary = pd.concat([grouped, totals_df], ignore_index=True)\n"
   ]
  }
 ],
 "metadata": {
  "kernelspec": {
   "display_name": "venv_CMB",
   "language": "python",
   "name": "python3"
  },
  "language_info": {
   "codemirror_mode": {
    "name": "ipython",
    "version": 3
   },
   "file_extension": ".py",
   "mimetype": "text/x-python",
   "name": "python",
   "nbconvert_exporter": "python",
   "pygments_lexer": "ipython3",
   "version": "3.11.3"
  }
 },
 "nbformat": 4,
 "nbformat_minor": 2
}
