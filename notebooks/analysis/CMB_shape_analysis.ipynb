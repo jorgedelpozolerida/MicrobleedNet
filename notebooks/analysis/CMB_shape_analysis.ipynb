{
 "cells": [
  {
   "cell_type": "markdown",
   "metadata": {},
   "source": [
    "# Shape Analysis\n",
    "\n",
    "This notebook enriches CMB metadata with shape and intensity features computed with radiomics"
   ]
  },
  {
   "cell_type": "code",
   "execution_count": 1,
   "metadata": {},
   "outputs": [],
   "source": [
    "import os\n",
    "import sys\n",
    "import argparse\n",
    "import traceback\n",
    "\n",
    "\n",
    "import logging\n",
    "import numpy as np\n",
    "import pandas as pd"
   ]
  },
  {
   "cell_type": "code",
   "execution_count": 4,
   "metadata": {},
   "outputs": [],
   "source": [
    "data_dir = \"/home/cerebriu/data/datasets/processed_final\""
   ]
  },
  {
   "cell_type": "code",
   "execution_count": 3,
   "metadata": {},
   "outputs": [
    {
     "name": "stderr",
     "output_type": "stream",
     "text": [
      "/tmp/ipykernel_235656/1850376039.py:1: DtypeWarning: Columns (7,8,9,10,11,12) have mixed types. Specify dtype option on import or set low_memory=False.\n",
      "  df_cmb_metadata = pd.read_csv(\"../../data-misc/csv/CMB_metadata_all.csv\")\n"
     ]
    },
    {
     "data": {
      "text/html": [
       "<div>\n",
       "<style scoped>\n",
       "    .dataframe tbody tr th:only-of-type {\n",
       "        vertical-align: middle;\n",
       "    }\n",
       "\n",
       "    .dataframe tbody tr th {\n",
       "        vertical-align: top;\n",
       "    }\n",
       "\n",
       "    .dataframe thead th {\n",
       "        text-align: right;\n",
       "    }\n",
       "</style>\n",
       "<table border=\"1\" class=\"dataframe\">\n",
       "  <thead>\n",
       "    <tr style=\"text-align: right;\">\n",
       "      <th></th>\n",
       "      <th>seriesUID</th>\n",
       "      <th>cmb_id</th>\n",
       "      <th>CM</th>\n",
       "      <th>size</th>\n",
       "      <th>radius</th>\n",
       "      <th>processed_id</th>\n",
       "      <th>RB_label</th>\n",
       "      <th>Location</th>\n",
       "      <th>Multiple</th>\n",
       "      <th>&lt;5mm</th>\n",
       "      <th>Cause</th>\n",
       "      <th>Uncertain</th>\n",
       "      <th>Other</th>\n",
       "      <th>seq_type</th>\n",
       "      <th>res_level</th>\n",
       "      <th>field_strength</th>\n",
       "      <th>TE</th>\n",
       "      <th>subject</th>\n",
       "      <th>patientUID</th>\n",
       "      <th>Dataset</th>\n",
       "    </tr>\n",
       "  </thead>\n",
       "  <tbody>\n",
       "    <tr>\n",
       "      <th>0</th>\n",
       "      <td>sMOMENI-264_T0_V3-sCMB-10</td>\n",
       "      <td>0</td>\n",
       "      <td>[48, 127, 164]</td>\n",
       "      <td>116</td>\n",
       "      <td>3.03</td>\n",
       "      <td>NaN</td>\n",
       "      <td>NaN</td>\n",
       "      <td>NaN</td>\n",
       "      <td>NaN</td>\n",
       "      <td>NaN</td>\n",
       "      <td>NaN</td>\n",
       "      <td>NaN</td>\n",
       "      <td>NaN</td>\n",
       "      <td>SWI</td>\n",
       "      <td>low</td>\n",
       "      <td>3</td>\n",
       "      <td>20.0</td>\n",
       "      <td>264_T0_MRI_SWI_BFC_50mm_HM_sCMB_V3</td>\n",
       "      <td>264mom</td>\n",
       "      <td>sMOMENI</td>\n",
       "    </tr>\n",
       "    <tr>\n",
       "      <th>1</th>\n",
       "      <td>sMOMENI-264_T0_V3-sCMB-10</td>\n",
       "      <td>1</td>\n",
       "      <td>[69, 79, 194]</td>\n",
       "      <td>116</td>\n",
       "      <td>3.03</td>\n",
       "      <td>NaN</td>\n",
       "      <td>NaN</td>\n",
       "      <td>NaN</td>\n",
       "      <td>NaN</td>\n",
       "      <td>NaN</td>\n",
       "      <td>NaN</td>\n",
       "      <td>NaN</td>\n",
       "      <td>NaN</td>\n",
       "      <td>SWI</td>\n",
       "      <td>low</td>\n",
       "      <td>3</td>\n",
       "      <td>20.0</td>\n",
       "      <td>264_T0_MRI_SWI_BFC_50mm_HM_sCMB_V3</td>\n",
       "      <td>264mom</td>\n",
       "      <td>sMOMENI</td>\n",
       "    </tr>\n",
       "  </tbody>\n",
       "</table>\n",
       "</div>"
      ],
      "text/plain": [
       "                   seriesUID  cmb_id              CM  size  radius  \\\n",
       "0  sMOMENI-264_T0_V3-sCMB-10       0  [48, 127, 164]   116    3.03   \n",
       "1  sMOMENI-264_T0_V3-sCMB-10       1   [69, 79, 194]   116    3.03   \n",
       "\n",
       "   processed_id  RB_label Location Multiple <5mm Cause Uncertain Other  \\\n",
       "0           NaN       NaN      NaN      NaN  NaN   NaN       NaN   NaN   \n",
       "1           NaN       NaN      NaN      NaN  NaN   NaN       NaN   NaN   \n",
       "\n",
       "  seq_type res_level field_strength    TE                             subject  \\\n",
       "0      SWI       low              3  20.0  264_T0_MRI_SWI_BFC_50mm_HM_sCMB_V3   \n",
       "1      SWI       low              3  20.0  264_T0_MRI_SWI_BFC_50mm_HM_sCMB_V3   \n",
       "\n",
       "  patientUID  Dataset  \n",
       "0     264mom  sMOMENI  \n",
       "1     264mom  sMOMENI  "
      ]
     },
     "execution_count": 3,
     "metadata": {},
     "output_type": "execute_result"
    }
   ],
   "source": [
    "df_cmb_metadata = pd.read_csv(\"../../data-misc/csv/CMB_metadata_all.csv\")\n",
    "df_cmb_metadata.head(2)"
   ]
  },
  {
   "cell_type": "code",
   "execution_count": null,
   "metadata": {},
   "outputs": [],
   "source": [
    "shape_data={}\n",
    "for i, row in df_cmb_metadata.iterrows():\n",
    "    study = row['seriesUID']\n",
    "    study_dir  \n",
    "    "
   ]
  }
 ],
 "metadata": {
  "kernelspec": {
   "display_name": "venv_CMB",
   "language": "python",
   "name": "python3"
  },
  "language_info": {
   "codemirror_mode": {
    "name": "ipython",
    "version": 3
   },
   "file_extension": ".py",
   "mimetype": "text/x-python",
   "name": "python",
   "nbconvert_exporter": "python",
   "pygments_lexer": "ipython3",
   "version": "3.11.6"
  }
 },
 "nbformat": 4,
 "nbformat_minor": 2
}
