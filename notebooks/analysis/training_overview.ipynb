{
 "cells": [
  {
   "cell_type": "markdown",
   "metadata": {},
   "source": [
    "# Overview of training metrics"
   ]
  },
  {
   "cell_type": "code",
   "execution_count": 34,
   "metadata": {},
   "outputs": [],
   "source": [
    "from clearml import Task, TaskTypes"
   ]
  },
  {
   "cell_type": "code",
   "execution_count": 35,
   "metadata": {},
   "outputs": [],
   "source": [
    "mappings = {\n",
    "'Scratch-Pretrained-FineTuned_F1macro': {},\n",
    "'Scratch-Pretrained-FineTuned_valloss': {},\n",
    "'Scratch-Pretrained-FineTuned_PPV': {},\n",
    "'TL-Pretrained-FineTuned_F1macro': {},\n",
    "'TL-Pretrained-FineTuned_valloss': {},\n",
    "'TL-Pretrained-FineTuned_PPV': {},\n",
    "'Scratch-NoPretraining_F1macro': {},\n",
    "'Scratch-NoPretraining_valloss': {},\n",
    "'Scratch-NoPretraining_PPV': {},\n",
    "}"
   ]
  },
  {
   "cell_type": "code",
   "execution_count": 56,
   "metadata": {},
   "outputs": [],
   "source": [
    "import yaml\n",
    "\n",
    "\n",
    "with open(\"/home/cerebriu/data/RESEARCH/MicrobleedNet/data-misc/predict/predict_config.yaml\", \"r\") as f:\n",
    "    config = yaml.load(f, Loader=yaml.FullLoader)"
   ]
  },
  {
   "cell_type": "code",
   "execution_count": 66,
   "metadata": {},
   "outputs": [
    {
     "name": "stdout",
     "output_type": "stream",
     "text": [
      "'Scratch-Pretrained-FineTuned_F1macro': \n",
      "'Scratch-Pretrained-FineTuned_valloss': \n",
      "'Scratch-Pretrained-FineTuned_PPV': \n",
      "'TL-Pretrained-FineTuned_F1macro': \n",
      "'TL-Pretrained-FineTuned_valloss': \n",
      "'TL-Pretrained-FineTuned_PPV': \n",
      "'Scratch-NoPretraining_F1macro': \n",
      "'Scratch-NoPretraining_valloss': \n",
      "'Scratch-NoPretraining_PPV': \n"
     ]
    }
   ],
   "source": [
    "for model in config[\"models\"]:\n",
    "    print(f\"'{model['name']}': \")"
   ]
  }
 ],
 "metadata": {
  "kernelspec": {
   "display_name": "venv_cerebriu",
   "language": "python",
   "name": "python3"
  },
  "language_info": {
   "codemirror_mode": {
    "name": "ipython",
    "version": 3
   },
   "file_extension": ".py",
   "mimetype": "text/x-python",
   "name": "python",
   "nbconvert_exporter": "python",
   "pygments_lexer": "ipython3",
   "version": "3.10.12"
  }
 },
 "nbformat": 4,
 "nbformat_minor": 2
}
