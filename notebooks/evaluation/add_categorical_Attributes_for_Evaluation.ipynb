{
 "cells": [
  {
   "cell_type": "markdown",
   "metadata": {},
   "source": [
    "# Attributes to split evaluation\n",
    "\n",
    "This notebook converts metadata values fomr CMBs into categories to split evaluation analysis"
   ]
  },
  {
   "cell_type": "code",
   "execution_count": 73,
   "metadata": {},
   "outputs": [],
   "source": [
    "import os\n",
    "import sys\n",
    "import argparse\n",
    "import traceback\n",
    "\n",
    "\n",
    "import logging\n",
    "import numpy as np\n",
    "import pandas as pd\n",
    "import ast"
   ]
  },
  {
   "cell_type": "code",
   "execution_count": 85,
   "metadata": {},
   "outputs": [
    {
     "name": "stderr",
     "output_type": "stream",
     "text": [
      "/tmp/ipykernel_3609784/3961993545.py:10: DtypeWarning: Columns (7,8,9,10,11,12) have mixed types. Specify dtype option on import or set low_memory=False.\n",
      "  GT_metadata = pd.read_csv(gt_cmb_metadata_csv)\n"
     ]
    }
   ],
   "source": [
    "gt_radiomics_metadata_csv = (\n",
    "    \"/storage/evo1/jorge/MicrobleedNet/data-misc/csv/CMB_radiomics_metadata.csv\"\n",
    ")\n",
    "gt_cmb_metadata_csv = (\n",
    "    \"/storage/evo1/jorge/MicrobleedNet/data-misc/csv/CMB_metadata_all.csv\"\n",
    ")\n",
    "all_studies_csv = \"/storage/evo1/jorge/MicrobleedNet/data-misc/csv/ALL_studies.csv\"\n",
    "\n",
    "all_studies_df = pd.read_csv(all_studies_csv)\n",
    "GT_metadata = pd.read_csv(gt_cmb_metadata_csv)\n",
    "GT_metadata_radiomics = pd.read_csv(gt_radiomics_metadata_csv)\n",
    "\n",
    "# Convert string representations of tuples to actual tuples\n",
    "GT_metadata[\"CM\"] = GT_metadata[\"CM\"].apply(lambda x: tuple(ast.literal_eval(x)))\n",
    "GT_metadata_radiomics[\"CM\"] = GT_metadata_radiomics[\"CM\"].apply(\n",
    "    lambda x: tuple(ast.literal_eval(x))\n",
    ")\n",
    "\n",
    "GT_metadata_all = pd.merge(\n",
    "    GT_metadata, GT_metadata_radiomics, on=[\"seriesUID\", \"CM\"], how=\"inner\"\n",
    ").drop(\n",
    "    columns=[\n",
    "        \"firstorder_10Percentile\",\n",
    "        \"firstorder_90Percentile\",\n",
    "        \"firstorder_Energy\",\n",
    "        \"firstorder_Entropy\",\n",
    "        \"firstorder_InterquartileRange\",\n",
    "        \"firstorder_Kurtosis\",\n",
    "        \"firstorder_Maximum\",\n",
    "        \"firstorder_MeanAbsoluteDeviation\",\n",
    "        \"firstorder_Mean\",\n",
    "        \"firstorder_Median\",\n",
    "        \"firstorder_Minimum\",\n",
    "        \"firstorder_Range\",\n",
    "        \"firstorder_RobustMeanAbsoluteDeviation\",\n",
    "        \"firstorder_RootMeanSquared\",\n",
    "        \"firstorder_Skewness\",\n",
    "        \"firstorder_TotalEnergy\",\n",
    "        \"firstorder_Uniformity\",\n",
    "        \"firstorder_Variance\",\n",
    "    ]\n",
    ")"
   ]
  },
  {
   "cell_type": "code",
   "execution_count": 86,
   "metadata": {},
   "outputs": [
    {
     "data": {
      "text/plain": [
       "Index(['seriesUID', 'cmb_id', 'CM', 'size', 'radius', 'processed_id',\n",
       "       'RB_label', 'Location', 'Multiple', '<5mm', 'Cause', 'Uncertain',\n",
       "       'Other', 'seq_type', 'res_level', 'field_strength', 'TE', 'subject',\n",
       "       'patientUID', 'Dataset', 'shape_Elongation', 'shape_Flatness',\n",
       "       'shape_LeastAxisLength', 'shape_MajorAxisLength',\n",
       "       'shape_Maximum2DDiameterColumn', 'shape_Maximum2DDiameterRow',\n",
       "       'shape_Maximum2DDiameterSlice', 'shape_Maximum3DDiameter',\n",
       "       'shape_MeshVolume', 'shape_MinorAxisLength', 'shape_Sphericity',\n",
       "       'shape_SurfaceArea', 'shape_SurfaceVolumeRatio', 'shape_VoxelVolume',\n",
       "       'count_dict', 'com_label'],\n",
       "      dtype='object')"
      ]
     },
     "execution_count": 86,
     "metadata": {},
     "output_type": "execute_result"
    }
   ],
   "source": [
    "GT_metadata_all.columns"
   ]
  },
  {
   "cell_type": "code",
   "execution_count": 87,
   "metadata": {},
   "outputs": [
    {
     "data": {
      "text/plain": [
       "Index(['seriesUID', 'cmb_id', 'CM', 'size', 'radius', 'processed_id',\n",
       "       'RB_label', 'Location', 'Multiple', '<5mm', 'Cause', 'Uncertain',\n",
       "       'Other', 'seq_type', 'res_level', 'field_strength', 'TE', 'subject',\n",
       "       'patientUID', 'Dataset', 'shape_Elongation', 'shape_Flatness',\n",
       "       'shape_LeastAxisLength', 'shape_MajorAxisLength',\n",
       "       'shape_Maximum2DDiameterColumn', 'shape_Maximum2DDiameterRow',\n",
       "       'shape_Maximum2DDiameterSlice', 'shape_Maximum3DDiameter',\n",
       "       'shape_MeshVolume', 'shape_MinorAxisLength', 'shape_Sphericity',\n",
       "       'shape_SurfaceArea', 'shape_SurfaceVolumeRatio', 'shape_VoxelVolume',\n",
       "       'count_dict', 'com_label'],\n",
       "      dtype='object')"
      ]
     },
     "execution_count": 87,
     "metadata": {},
     "output_type": "execute_result"
    }
   ],
   "source": [
    "GT_metadata_all.columns"
   ]
  },
  {
   "cell_type": "markdown",
   "metadata": {},
   "source": [
    "# Shape"
   ]
  },
  {
   "cell_type": "code",
   "execution_count": 12,
   "metadata": {},
   "outputs": [
    {
     "data": {
      "text/plain": [
       "Index(['seriesUID', 'CM', 'shape_Elongation', 'shape_Flatness',\n",
       "       'shape_LeastAxisLength', 'shape_MajorAxisLength',\n",
       "       'shape_Maximum2DDiameterColumn', 'shape_Maximum2DDiameterRow',\n",
       "       'shape_Maximum2DDiameterSlice', 'shape_Maximum3DDiameter',\n",
       "       'shape_MeshVolume', 'shape_MinorAxisLength', 'shape_Sphericity',\n",
       "       'shape_SurfaceArea', 'shape_SurfaceVolumeRatio', 'shape_VoxelVolume',\n",
       "       'firstorder_10Percentile', 'firstorder_90Percentile',\n",
       "       'firstorder_Energy', 'firstorder_Entropy',\n",
       "       'firstorder_InterquartileRange', 'firstorder_Kurtosis',\n",
       "       'firstorder_Maximum', 'firstorder_MeanAbsoluteDeviation',\n",
       "       'firstorder_Mean', 'firstorder_Median', 'firstorder_Minimum',\n",
       "       'firstorder_Range', 'firstorder_RobustMeanAbsoluteDeviation',\n",
       "       'firstorder_RootMeanSquared', 'firstorder_Skewness',\n",
       "       'firstorder_TotalEnergy', 'firstorder_Uniformity',\n",
       "       'firstorder_Variance', 'count_dict', 'com_label'],\n",
       "      dtype='object')"
      ]
     },
     "execution_count": 12,
     "metadata": {},
     "output_type": "execute_result"
    }
   ],
   "source": [
    "GT_metadata_radiomics.columns"
   ]
  },
  {
   "cell_type": "code",
   "execution_count": 17,
   "metadata": {},
   "outputs": [
    {
     "data": {
      "text/plain": [
       "Sphericity_level\n",
       "low     545\n",
       "high    412\n",
       "Name: count, dtype: int64"
      ]
     },
     "execution_count": 17,
     "metadata": {},
     "output_type": "execute_result"
    }
   ],
   "source": [
    "GT_metadata_radiomics['Sphericity_level'] = GT_metadata_radiomics['shape_Sphericity'].apply(lambda x: \"high\" if x > 0.8 else \"low\") \n",
    "GT_metadata_radiomics['Sphericity_level'].value_counts()"
   ]
  },
  {
   "cell_type": "code",
   "execution_count": null,
   "metadata": {},
   "outputs": [],
   "source": [
    "GT_metadata_radiomics['Sphericity_level'] = GT_metadata_radiomics['shape_Sphericity'].apply(lambda x: \"high\" if x > 0.8 else \"low\") \n",
    "GT_metadata_radiomics['Sphericity_level'].value_counts()"
   ]
  },
  {
   "cell_type": "code",
   "execution_count": 68,
   "metadata": {},
   "outputs": [],
   "source": [
    "# They cannot be less than 2mm3 in diameter, cna be used to filter out FPs\n",
    "GT_metadata_radiomics_minimum_size = GT_metadata_radiomics[\n",
    "    (GT_metadata_radiomics['shape_MeshVolume']<4.3) |\n",
    "    (GT_metadata_radiomics['shape_Maximum3DDiameter']<2)\n",
    "    ]"
   ]
  },
  {
   "cell_type": "code",
   "execution_count": 72,
   "metadata": {},
   "outputs": [
    {
     "data": {
      "text/plain": [
       "(0, 40)"
      ]
     },
     "execution_count": 72,
     "metadata": {},
     "output_type": "execute_result"
    }
   ],
   "source": [
    "# not too big not too small\n",
    "GT_metadata_radiomics_minimum_size = GT_metadata_radiomics[\n",
    "    ~((GT_metadata_radiomics[\"shape_MeshVolume\"] < 4.3)\n",
    "    | (GT_metadata_radiomics[\"shape_Maximum3DDiameter\"] > 10))\n",
    "]\n",
    "GT_metadata_radiomics_minimum_size.shape\n"
   ]
  },
  {
   "cell_type": "code",
   "execution_count": 27,
   "metadata": {},
   "outputs": [
    {
     "data": {
      "text/plain": [
       "volume_level\n",
       "high    509\n",
       "low     448\n",
       "Name: count, dtype: int64"
      ]
     },
     "execution_count": 27,
     "metadata": {},
     "output_type": "execute_result"
    }
   ],
   "source": [
    "GT_metadata_radiomics['volume_level'] = GT_metadata_radiomics['shape_VoxelVolume'].apply(lambda x: \"high\" if x > 10 else \"low\") \n",
    "GT_metadata_radiomics['volume_level'].value_counts()"
   ]
  },
  {
   "cell_type": "code",
   "execution_count": 30,
   "metadata": {},
   "outputs": [
    {
     "data": {
      "text/plain": [
       "elongation_level\n",
       "high    490\n",
       "low     467\n",
       "Name: count, dtype: int64"
      ]
     },
     "execution_count": 30,
     "metadata": {},
     "output_type": "execute_result"
    }
   ],
   "source": [
    "GT_metadata_radiomics['elongation_level'] = GT_metadata_radiomics['shape_Elongation'].apply(lambda x: \"high\" if x > 0.6 else \"low\") \n",
    "GT_metadata_radiomics['elongation_level'].value_counts()"
   ]
  },
  {
   "cell_type": "code",
   "execution_count": 53,
   "metadata": {},
   "outputs": [
    {
     "data": {
      "text/plain": [
       "3d_diameter\n",
       "low     628\n",
       "high    329\n",
       "Name: count, dtype: int64"
      ]
     },
     "execution_count": 53,
     "metadata": {},
     "output_type": "execute_result"
    }
   ],
   "source": [
    "GT_metadata_radiomics['3d_diameter'] = GT_metadata_radiomics['shape_Maximum3DDiameter'].apply(lambda x: \"high\" if x > 5 else \"low\") \n",
    "GT_metadata_radiomics['3d_diameter'].value_counts()"
   ]
  },
  {
   "cell_type": "code",
   "execution_count": 67,
   "metadata": {},
   "outputs": [
    {
     "data": {
      "text/plain": [
       "(41, 40)"
      ]
     },
     "execution_count": 67,
     "metadata": {},
     "output_type": "execute_result"
    }
   ],
   "source": [
    "GT_metadata_radiomics = GT_metadata_radiomics[GT_metadata_radiomics['shape_Maximum3DDiameter'] > 10 ] \n",
    "GT_metadata_radiomics.shape\n"
   ]
  },
  {
   "cell_type": "markdown",
   "metadata": {},
   "source": [
    "## Correlations analysis"
   ]
  },
  {
   "cell_type": "code",
   "execution_count": 92,
   "metadata": {},
   "outputs": [
    {
     "data": {
      "text/plain": [
       "206"
      ]
     },
     "execution_count": 92,
     "metadata": {},
     "output_type": "execute_result"
    }
   ],
   "source": [
    "GT_metadata_all['seriesUID'].nunique()"
   ]
  },
  {
   "cell_type": "code",
   "execution_count": 94,
   "metadata": {},
   "outputs": [],
   "source": [
    "import pandas as pd\n",
    "\n",
    "# Define the list of columns to average\n",
    "cols2average = [\n",
    "    'shape_Elongation', 'shape_Flatness', 'shape_LeastAxisLength', 'shape_MajorAxisLength',\n",
    "    'shape_Maximum2DDiameterColumn', 'shape_Maximum2DDiameterRow', 'shape_Maximum2DDiameterSlice',\n",
    "    'shape_Maximum3DDiameter', 'shape_MeshVolume', 'shape_MinorAxisLength', 'shape_Sphericity',\n",
    "    'shape_SurfaceArea', 'shape_SurfaceVolumeRatio', 'shape_VoxelVolume'\n",
    "]\n",
    "\n",
    "if all(col in GT_metadata_all.columns for col in cols2average + ['seriesUID']):\n",
    "    GT_metadata_shape_averaged = GT_metadata_all.groupby('seriesUID')[cols2average].mean()\n",
    "\n",
    "    # keep the 'seriesUID' in the resulting DataFrame as a column:\n",
    "    GT_metadata_shape_averaged.reset_index(inplace=True)\n",
    "\n",
    "else:\n",
    "    print(\"One or more columns are missing in the DataFrame.\")"
   ]
  },
  {
   "cell_type": "code",
   "execution_count": 95,
   "metadata": {},
   "outputs": [
    {
     "data": {
      "text/html": [
       "<div>\n",
       "<style scoped>\n",
       "    .dataframe tbody tr th:only-of-type {\n",
       "        vertical-align: middle;\n",
       "    }\n",
       "\n",
       "    .dataframe tbody tr th {\n",
       "        vertical-align: top;\n",
       "    }\n",
       "\n",
       "    .dataframe thead th {\n",
       "        text-align: right;\n",
       "    }\n",
       "</style>\n",
       "<table border=\"1\" class=\"dataframe\">\n",
       "  <thead>\n",
       "    <tr style=\"text-align: right;\">\n",
       "      <th></th>\n",
       "      <th>seriesUID</th>\n",
       "      <th>shape_Elongation</th>\n",
       "      <th>shape_Flatness</th>\n",
       "      <th>shape_LeastAxisLength</th>\n",
       "      <th>shape_MajorAxisLength</th>\n",
       "      <th>shape_Maximum2DDiameterColumn</th>\n",
       "      <th>shape_Maximum2DDiameterRow</th>\n",
       "      <th>shape_Maximum2DDiameterSlice</th>\n",
       "      <th>shape_Maximum3DDiameter</th>\n",
       "      <th>shape_MeshVolume</th>\n",
       "      <th>shape_MinorAxisLength</th>\n",
       "      <th>shape_Sphericity</th>\n",
       "      <th>shape_SurfaceArea</th>\n",
       "      <th>shape_SurfaceVolumeRatio</th>\n",
       "      <th>shape_VoxelVolume</th>\n",
       "    </tr>\n",
       "  </thead>\n",
       "  <tbody>\n",
       "    <tr>\n",
       "      <th>0</th>\n",
       "      <td>CRB-1.2.826.1.3680043.9.5282.150415.14832.1601...</td>\n",
       "      <td>0.407189</td>\n",
       "      <td>0.335430</td>\n",
       "      <td>2.128091</td>\n",
       "      <td>6.947582</td>\n",
       "      <td>7.255805</td>\n",
       "      <td>2.768069</td>\n",
       "      <td>7.320148</td>\n",
       "      <td>7.420816</td>\n",
       "      <td>23.609809</td>\n",
       "      <td>2.573052</td>\n",
       "      <td>0.732609</td>\n",
       "      <td>52.507282</td>\n",
       "      <td>2.496319</td>\n",
       "      <td>24.885417</td>\n",
       "    </tr>\n",
       "    <tr>\n",
       "      <th>1</th>\n",
       "      <td>CRB-1.2.826.1.3680043.9.5282.150415.178.178232...</td>\n",
       "      <td>0.568950</td>\n",
       "      <td>0.562332</td>\n",
       "      <td>3.878406</td>\n",
       "      <td>6.897007</td>\n",
       "      <td>7.158911</td>\n",
       "      <td>4.527693</td>\n",
       "      <td>7.382412</td>\n",
       "      <td>7.449832</td>\n",
       "      <td>69.453125</td>\n",
       "      <td>3.924050</td>\n",
       "      <td>0.800365</td>\n",
       "      <td>102.091695</td>\n",
       "      <td>1.469937</td>\n",
       "      <td>71.125000</td>\n",
       "    </tr>\n",
       "    <tr>\n",
       "      <th>2</th>\n",
       "      <td>CRB-1.2.826.1.3680043.9.5282.150415.24477.2447...</td>\n",
       "      <td>0.506075</td>\n",
       "      <td>0.496857</td>\n",
       "      <td>3.465689</td>\n",
       "      <td>6.976521</td>\n",
       "      <td>6.979823</td>\n",
       "      <td>4.265564</td>\n",
       "      <td>6.882465</td>\n",
       "      <td>7.193663</td>\n",
       "      <td>55.148438</td>\n",
       "      <td>3.530106</td>\n",
       "      <td>0.783664</td>\n",
       "      <td>89.520144</td>\n",
       "      <td>1.622376</td>\n",
       "      <td>56.687500</td>\n",
       "    </tr>\n",
       "    <tr>\n",
       "      <th>3</th>\n",
       "      <td>CRB-1.2.826.1.3680043.9.5282.150415.25794.2579...</td>\n",
       "      <td>0.303347</td>\n",
       "      <td>0.285929</td>\n",
       "      <td>1.980913</td>\n",
       "      <td>6.928442</td>\n",
       "      <td>6.184658</td>\n",
       "      <td>2.392789</td>\n",
       "      <td>6.254607</td>\n",
       "      <td>6.304635</td>\n",
       "      <td>19.164062</td>\n",
       "      <td>2.101440</td>\n",
       "      <td>0.773399</td>\n",
       "      <td>44.694905</td>\n",
       "      <td>2.343712</td>\n",
       "      <td>20.250000</td>\n",
       "    </tr>\n",
       "    <tr>\n",
       "      <th>4</th>\n",
       "      <td>CRB-1.2.826.1.3680043.9.5282.150415.34194.3419...</td>\n",
       "      <td>0.401419</td>\n",
       "      <td>0.374057</td>\n",
       "      <td>2.705514</td>\n",
       "      <td>7.248148</td>\n",
       "      <td>6.846874</td>\n",
       "      <td>3.328493</td>\n",
       "      <td>6.801250</td>\n",
       "      <td>6.983311</td>\n",
       "      <td>39.588542</td>\n",
       "      <td>2.903433</td>\n",
       "      <td>0.765543</td>\n",
       "      <td>70.186811</td>\n",
       "      <td>2.001287</td>\n",
       "      <td>40.881944</td>\n",
       "    </tr>\n",
       "    <tr>\n",
       "      <th>...</th>\n",
       "      <td>...</td>\n",
       "      <td>...</td>\n",
       "      <td>...</td>\n",
       "      <td>...</td>\n",
       "      <td>...</td>\n",
       "      <td>...</td>\n",
       "      <td>...</td>\n",
       "      <td>...</td>\n",
       "      <td>...</td>\n",
       "      <td>...</td>\n",
       "      <td>...</td>\n",
       "      <td>...</td>\n",
       "      <td>...</td>\n",
       "      <td>...</td>\n",
       "      <td>...</td>\n",
       "    </tr>\n",
       "    <tr>\n",
       "      <th>201</th>\n",
       "      <td>VALDO-323-CMB-1</td>\n",
       "      <td>0.531117</td>\n",
       "      <td>0.379409</td>\n",
       "      <td>1.776391</td>\n",
       "      <td>4.681997</td>\n",
       "      <td>4.743416</td>\n",
       "      <td>2.549510</td>\n",
       "      <td>4.609772</td>\n",
       "      <td>4.847680</td>\n",
       "      <td>11.239583</td>\n",
       "      <td>2.486689</td>\n",
       "      <td>0.711570</td>\n",
       "      <td>34.100942</td>\n",
       "      <td>3.034004</td>\n",
       "      <td>12.125000</td>\n",
       "    </tr>\n",
       "    <tr>\n",
       "      <th>202</th>\n",
       "      <td>VALDO-324-CMB-1</td>\n",
       "      <td>0.448336</td>\n",
       "      <td>0.409668</td>\n",
       "      <td>2.719653</td>\n",
       "      <td>6.638681</td>\n",
       "      <td>6.500000</td>\n",
       "      <td>3.354102</td>\n",
       "      <td>6.708204</td>\n",
       "      <td>6.873864</td>\n",
       "      <td>28.807292</td>\n",
       "      <td>2.976362</td>\n",
       "      <td>0.704826</td>\n",
       "      <td>64.476859</td>\n",
       "      <td>2.238213</td>\n",
       "      <td>30.125000</td>\n",
       "    </tr>\n",
       "    <tr>\n",
       "      <th>203</th>\n",
       "      <td>VALDO-325-CMB-3</td>\n",
       "      <td>0.482751</td>\n",
       "      <td>0.377214</td>\n",
       "      <td>2.793345</td>\n",
       "      <td>7.432325</td>\n",
       "      <td>7.429988</td>\n",
       "      <td>4.025686</td>\n",
       "      <td>7.547480</td>\n",
       "      <td>7.973855</td>\n",
       "      <td>48.866319</td>\n",
       "      <td>3.418583</td>\n",
       "      <td>0.662355</td>\n",
       "      <td>90.546700</td>\n",
       "      <td>2.396970</td>\n",
       "      <td>50.416667</td>\n",
       "    </tr>\n",
       "    <tr>\n",
       "      <th>204</th>\n",
       "      <td>VALDO-326-CMB-1</td>\n",
       "      <td>0.561686</td>\n",
       "      <td>0.449359</td>\n",
       "      <td>2.457290</td>\n",
       "      <td>5.468434</td>\n",
       "      <td>6.324555</td>\n",
       "      <td>3.354102</td>\n",
       "      <td>6.324555</td>\n",
       "      <td>6.403124</td>\n",
       "      <td>19.630208</td>\n",
       "      <td>3.071542</td>\n",
       "      <td>0.692844</td>\n",
       "      <td>50.792401</td>\n",
       "      <td>2.587461</td>\n",
       "      <td>21.000000</td>\n",
       "    </tr>\n",
       "    <tr>\n",
       "      <th>205</th>\n",
       "      <td>VALDO-327-CMB-1</td>\n",
       "      <td>0.654654</td>\n",
       "      <td>0.654654</td>\n",
       "      <td>2.236068</td>\n",
       "      <td>3.415650</td>\n",
       "      <td>3.354102</td>\n",
       "      <td>2.500000</td>\n",
       "      <td>3.354102</td>\n",
       "      <td>3.674235</td>\n",
       "      <td>11.208333</td>\n",
       "      <td>2.236068</td>\n",
       "      <td>0.874023</td>\n",
       "      <td>27.711187</td>\n",
       "      <td>2.472374</td>\n",
       "      <td>12.000000</td>\n",
       "    </tr>\n",
       "  </tbody>\n",
       "</table>\n",
       "<p>206 rows × 15 columns</p>\n",
       "</div>"
      ],
      "text/plain": [
       "                                             seriesUID  shape_Elongation  \\\n",
       "0    CRB-1.2.826.1.3680043.9.5282.150415.14832.1601...          0.407189   \n",
       "1    CRB-1.2.826.1.3680043.9.5282.150415.178.178232...          0.568950   \n",
       "2    CRB-1.2.826.1.3680043.9.5282.150415.24477.2447...          0.506075   \n",
       "3    CRB-1.2.826.1.3680043.9.5282.150415.25794.2579...          0.303347   \n",
       "4    CRB-1.2.826.1.3680043.9.5282.150415.34194.3419...          0.401419   \n",
       "..                                                 ...               ...   \n",
       "201                                    VALDO-323-CMB-1          0.531117   \n",
       "202                                    VALDO-324-CMB-1          0.448336   \n",
       "203                                    VALDO-325-CMB-3          0.482751   \n",
       "204                                    VALDO-326-CMB-1          0.561686   \n",
       "205                                    VALDO-327-CMB-1          0.654654   \n",
       "\n",
       "     shape_Flatness  shape_LeastAxisLength  shape_MajorAxisLength  \\\n",
       "0          0.335430               2.128091               6.947582   \n",
       "1          0.562332               3.878406               6.897007   \n",
       "2          0.496857               3.465689               6.976521   \n",
       "3          0.285929               1.980913               6.928442   \n",
       "4          0.374057               2.705514               7.248148   \n",
       "..              ...                    ...                    ...   \n",
       "201        0.379409               1.776391               4.681997   \n",
       "202        0.409668               2.719653               6.638681   \n",
       "203        0.377214               2.793345               7.432325   \n",
       "204        0.449359               2.457290               5.468434   \n",
       "205        0.654654               2.236068               3.415650   \n",
       "\n",
       "     shape_Maximum2DDiameterColumn  shape_Maximum2DDiameterRow  \\\n",
       "0                         7.255805                    2.768069   \n",
       "1                         7.158911                    4.527693   \n",
       "2                         6.979823                    4.265564   \n",
       "3                         6.184658                    2.392789   \n",
       "4                         6.846874                    3.328493   \n",
       "..                             ...                         ...   \n",
       "201                       4.743416                    2.549510   \n",
       "202                       6.500000                    3.354102   \n",
       "203                       7.429988                    4.025686   \n",
       "204                       6.324555                    3.354102   \n",
       "205                       3.354102                    2.500000   \n",
       "\n",
       "     shape_Maximum2DDiameterSlice  shape_Maximum3DDiameter  shape_MeshVolume  \\\n",
       "0                        7.320148                 7.420816         23.609809   \n",
       "1                        7.382412                 7.449832         69.453125   \n",
       "2                        6.882465                 7.193663         55.148438   \n",
       "3                        6.254607                 6.304635         19.164062   \n",
       "4                        6.801250                 6.983311         39.588542   \n",
       "..                            ...                      ...               ...   \n",
       "201                      4.609772                 4.847680         11.239583   \n",
       "202                      6.708204                 6.873864         28.807292   \n",
       "203                      7.547480                 7.973855         48.866319   \n",
       "204                      6.324555                 6.403124         19.630208   \n",
       "205                      3.354102                 3.674235         11.208333   \n",
       "\n",
       "     shape_MinorAxisLength  shape_Sphericity  shape_SurfaceArea  \\\n",
       "0                 2.573052          0.732609          52.507282   \n",
       "1                 3.924050          0.800365         102.091695   \n",
       "2                 3.530106          0.783664          89.520144   \n",
       "3                 2.101440          0.773399          44.694905   \n",
       "4                 2.903433          0.765543          70.186811   \n",
       "..                     ...               ...                ...   \n",
       "201               2.486689          0.711570          34.100942   \n",
       "202               2.976362          0.704826          64.476859   \n",
       "203               3.418583          0.662355          90.546700   \n",
       "204               3.071542          0.692844          50.792401   \n",
       "205               2.236068          0.874023          27.711187   \n",
       "\n",
       "     shape_SurfaceVolumeRatio  shape_VoxelVolume  \n",
       "0                    2.496319          24.885417  \n",
       "1                    1.469937          71.125000  \n",
       "2                    1.622376          56.687500  \n",
       "3                    2.343712          20.250000  \n",
       "4                    2.001287          40.881944  \n",
       "..                        ...                ...  \n",
       "201                  3.034004          12.125000  \n",
       "202                  2.238213          30.125000  \n",
       "203                  2.396970          50.416667  \n",
       "204                  2.587461          21.000000  \n",
       "205                  2.472374          12.000000  \n",
       "\n",
       "[206 rows x 15 columns]"
      ]
     },
     "execution_count": 95,
     "metadata": {},
     "output_type": "execute_result"
    }
   ],
   "source": [
    "GT_metadata_shape_averaged"
   ]
  },
  {
   "cell_type": "markdown",
   "metadata": {},
   "source": [
    "# Location"
   ]
  }
 ],
 "metadata": {
  "kernelspec": {
   "display_name": "crbr",
   "language": "python",
   "name": "python3"
  },
  "language_info": {
   "codemirror_mode": {
    "name": "ipython",
    "version": 3
   },
   "file_extension": ".py",
   "mimetype": "text/x-python",
   "name": "python",
   "nbconvert_exporter": "python",
   "pygments_lexer": "ipython3",
   "version": "3.11.3"
  }
 },
 "nbformat": 4,
 "nbformat_minor": 2
}
