{
 "cells": [
  {
   "cell_type": "markdown",
   "metadata": {},
   "source": [
    "# Processing of Momeni masks"
   ]
  },
  {
   "cell_type": "code",
   "execution_count": 12,
   "metadata": {},
   "outputs": [
    {
     "name": "stdout",
     "output_type": "stream",
     "text": [
      "Obtaining file:///home/cerebriu/data/RESEARCH/MicrobleedNet\n",
      "  Preparing metadata (setup.py) ... \u001b[?25ldone\n",
      "\u001b[?25hInstalling collected packages: cmbnet\n",
      "  Attempting uninstall: cmbnet\n",
      "    Found existing installation: cmbnet 0.1.0\n",
      "    Uninstalling cmbnet-0.1.0:\n",
      "      Successfully uninstalled cmbnet-0.1.0\n",
      "  Running setup.py develop for cmbnet\n",
      "Successfully installed cmbnet-0.1.0\n",
      "\n",
      "\u001b[1m[\u001b[0m\u001b[34;49mnotice\u001b[0m\u001b[1;39;49m]\u001b[0m\u001b[39;49m A new release of pip is available: \u001b[0m\u001b[31;49m23.3.2\u001b[0m\u001b[39;49m -> \u001b[0m\u001b[32;49m24.0\u001b[0m\n",
      "\u001b[1m[\u001b[0m\u001b[34;49mnotice\u001b[0m\u001b[1;39;49m]\u001b[0m\u001b[39;49m To update, run: \u001b[0m\u001b[32;49mpip install --upgrade pip\u001b[0m\n"
     ]
    },
    {
     "data": {
      "text/plain": [
       "<module 'cmbnet' from '/home/cerebriu/data/RESEARCH/MicrobleedNet/cmbnet/__init__.py'>"
      ]
     },
     "execution_count": 12,
     "metadata": {},
     "output_type": "execute_result"
    }
   ],
   "source": [
    "!pip install -e /home/cerebriu/data/RESEARCH/MicrobleedNet/\n",
    "import nibabel as nib\n",
    "import nilearn as nil\n",
    "import numpy as np \n",
    "import sys\n",
    "from scipy.cluster.hierarchy import fcluster, linkage\n",
    "from scipy.spatial.distance import pdist\n",
    "\n",
    "import cmbnet.preprocessing.loading as loading\n",
    "from cmbnet.preprocessing.datasets.momeni import load_MOMENI_raw,  perform_MOMENI_QC, load_MOMENI_data\n",
    "\n",
    "import cmbnet.visualization.utils_plotting as utils_plt\n",
    "import os\n",
    "from typing import Tuple, List, Dict\n",
    "import matplotlib.pyplot as plt\n",
    "\n",
    "\n",
    "import importlib\n",
    "import cmbnet\n",
    "importlib.reload(cmbnet)\n"
   ]
  },
  {
   "cell_type": "code",
   "execution_count": 13,
   "metadata": {},
   "outputs": [],
   "source": [
    "input_dir = \"/home/cerebriu/data/datasets/raw/MOMENI\"\n",
    "subjects = loading.get_dataset_subjects(\"momeni\", input_dir)"
   ]
  },
  {
   "cell_type": "code",
   "execution_count": 14,
   "metadata": {},
   "outputs": [],
   "source": [
    "class Args:\n",
    "    def __init__(self, input_dir = \"/home/cerebriu/data/datasets/raw/MOMENI\", dataset_name=\"momeni\"):\n",
    "        self.input_dir = input_dir\n",
    "        self.dataset_name = dataset_name\n",
    "        self.plots_path = None"
   ]
  },
  {
   "cell_type": "code",
   "execution_count": 15,
   "metadata": {},
   "outputs": [
    {
     "name": "stdout",
     "output_type": "stream",
     "text": [
      "------------------------------------------------\n",
      "2_T2_MRI_SWI_BFC_50mm_HM\n",
      "------------------------------------------------\n",
      "CMBs: []\n",
      "\t\tThresholds for RegionGrowing --> Max. distance =5, Max Size=340\n",
      "\t\tProcessing CMB annotations \n",
      "\n",
      "shape: (176, 256, 80)\n"
     ]
    }
   ],
   "source": [
    "results = {}\n",
    "subjects_temp = subjects\n",
    "subjects_temp = ['2_T2_MRI_SWI_BFC_50mm_HM']\n",
    "for subject in subjects_temp:\n",
    "    print(\"------------------------------------------------\")\n",
    "    print(subject)\n",
    "    print(\"------------------------------------------------\")\n",
    "\n",
    "    # Load data\n",
    "    args = Args()\n",
    "    sequences_raw, labels_raw, sequence_type, com_list = load_MOMENI_raw(args.input_dir, subject)\n",
    "    sequences_qc, labels_qc, labels_metadata, msg = perform_MOMENI_QC(subject, sequences_raw, labels_raw, com_list, \"\")\n",
    "\n",
    "    mri_im_raw = sequences_raw[sequence_type]\n",
    "    rawcmb_im_raw = labels_raw[sequence_type]\n",
    "    grownmask_raw = labels_qc[sequence_type]\n",
    "\n",
    "    results[subject] = {\n",
    "        \"raw\": (sequences_raw, labels_raw, sequence_type, com_list),\n",
    "        \"qc\": (sequences_qc, labels_qc, labels_metadata, msg)\n",
    "    }\n",
    "    print(f\"CMBs: {com_list}\")\n",
    "    print(msg)\n",
    "\n",
    "    print(f\"shape: {mri_im_raw.shape}\")\n",
    "\n",
    "    # Plotting processed masks for each center of mass\n",
    "    for i, CM in enumerate(com_list):\n",
    "        filename_temp = os.path.join(args.input_dir, f\"MOMENI_{subject}.png\")                                \n",
    "        metadata_str = f\"\"\"\\\n",
    "        sub: {subject}\n",
    "        {sequence_type}, shape: {mri_im_raw.shape}\n",
    "        CMBloc: {CM}   CMBsize: {labels_metadata[sequence_type][\"CMBs_old\"][i]['size']}\n",
    "        \"connectivity\": {labels_metadata[sequence_type][\"CMBs_old\"][i]['region_growing']['connectivity']}, \"intensity_mode\": {labels_metadata[sequence_type][\"CMBs_old\"][i]['region_growing']['intensity_mode']}, \n",
    "        \"diff_mode\": {labels_metadata[sequence_type][\"CMBs_old\"][i]['region_growing']['diff_mode']}, \n",
    "        \"distance_th\": {labels_metadata[sequence_type][\"CMBs_old\"][i]['region_growing']['distance_th']},\"size_th\": {labels_metadata[sequence_type][\"CMBs_old\"][i]['region_growing']['size_th']}\"\"\"\n",
    "        utils_plt.plot_processed_mask(mri_im_raw, rawcmb_im_raw, grownmask_raw, CM, 100, metadata_str=metadata_str, save_path=filename_temp)"
   ]
  },
  {
   "cell_type": "code",
   "execution_count": 16,
   "metadata": {},
   "outputs": [
    {
     "data": {
      "text/plain": [
       "{'SWI': {'healthy': 'yes', 'CMBs_old': {}}}"
      ]
     },
     "execution_count": 16,
     "metadata": {},
     "output_type": "execute_result"
    }
   ],
   "source": [
    "labels_metadata"
   ]
  },
  {
   "cell_type": "code",
   "execution_count": 17,
   "metadata": {},
   "outputs": [],
   "source": [
    "sequences_qc, labels_qc, labels_metadata, sequence_type, msg = load_MOMENI_data(args, subject, \"\")"
   ]
  }
 ],
 "metadata": {
  "kernelspec": {
   "display_name": "venv_cerebriu",
   "language": "python",
   "name": "python3"
  },
  "language_info": {
   "codemirror_mode": {
    "name": "ipython",
    "version": 3
   },
   "file_extension": ".py",
   "mimetype": "text/x-python",
   "name": "python",
   "nbconvert_exporter": "python",
   "pygments_lexer": "ipython3",
   "version": "3.11.6"
  }
 },
 "nbformat": 4,
 "nbformat_minor": 2
}
